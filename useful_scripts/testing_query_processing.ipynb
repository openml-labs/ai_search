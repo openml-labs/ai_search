{
 "cells": [
  {
   "cell_type": "code",
   "execution_count": 3,
   "metadata": {},
   "outputs": [],
   "source": [
    "from tqdm import tqdm"
   ]
  },
  {
   "cell_type": "code",
   "execution_count": 4,
   "metadata": {},
   "outputs": [],
   "source": [
    "import regex as re"
   ]
  },
  {
   "cell_type": "code",
   "execution_count": 5,
   "metadata": {},
   "outputs": [],
   "source": [
    "prompt = \"\"\"User Query : {query}\n",
    "Based on the query, answer the following questions one by one in one or two words only and a maximum of two with commas only if asked for. Use only the information given and do not make up answers - \n",
    "Does the user care about the size of the dataset? Yes/No and if yes, ascending/descending.\n",
    "Does the user care about missing values? Yes/No.\n",
    "If it seems like the user wants a classification dataset, is it binary/multi-class/multi-label. If not, say none.\n",
    "\"\"\""
   ]
  },
  {
   "cell_type": "code",
   "execution_count": 6,
   "metadata": {},
   "outputs": [],
   "source": [
    "# LangChain supports many other chat models. Here, we're using Ollama\n",
    "from langchain_community.chat_models import ChatOllama\n",
    "from langchain_core.output_parsers import StrOutputParser\n",
    "from langchain_core.prompts import ChatPromptTemplate\n",
    "\n",
    "# supports many more optional parameters. Hover on your `ChatOllama(...)`\n",
    "# class to view the latest available supported parameters\n",
    "llm = ChatOllama(model=\"llama3\", temperature=0)\n",
    "prompt = ChatPromptTemplate.from_template(prompt)\n",
    "\n",
    "# using LangChain Expressive Language chain syntax\n",
    "# learn more about the LCEL on\n",
    "# /docs/concepts/#langchain-expression-language-lcel\n",
    "chain = prompt | llm | StrOutputParser()\n",
    "\n",
    "# for brevity, response is printed in terminal\n",
    "# You can use LangServe to deploy your application for\n",
    "# production"
   ]
  },
  {
   "cell_type": "code",
   "execution_count": 7,
   "metadata": {},
   "outputs": [],
   "source": [
    "def check_response_type(response):\n",
    "    # for each line in the response, split by ? and check if the response is Yes/No or a comma separated string of Yes/No or ascending/descending using regex\n",
    "    assert_flag = False\n",
    "    for line in response.split(\"\\n\"):\n",
    "        if \"?\" in line:\n",
    "            response = line.split(\"?\")[1].strip()\n",
    "            if response in [\"Yes\", \"No\", \"None\"]:\n",
    "                assert_flag = True\n",
    "            # elif re.match(r\"^(Yes|No),\\s?(Yes|No)$\", response):\n",
    "            # match for Yes/No or ascending/descending and full stop\n",
    "            elif re.match(r\"^(Yes|No)\", response):\n",
    "                assert_flag = True\n",
    "            elif re.match(r\"^(ascending|descending)\", response):\n",
    "                assert_flag = True\n",
    "            else:\n",
    "                assert_flag = False\n",
    "    return assert_flag"
   ]
  },
  {
   "cell_type": "code",
   "execution_count": 23,
   "metadata": {},
   "outputs": [],
   "source": [
    "# query = \"Find me a dataset about banking that has a large number of features\"\n",
    "query = \"Find me a dataset with big mushrooms and sort by size\"\n",
    "query = \"Find me a large mushroom dataset\""
   ]
  },
  {
   "cell_type": "markdown",
   "metadata": {},
   "source": [
    "## Check consistency of answers\n",
    "- Run the same prompt 30 times and check if the answers are consistent."
   ]
  },
  {
   "cell_type": "code",
   "execution_count": 24,
   "metadata": {},
   "outputs": [
    {
     "name": "stdout",
     "output_type": "stream",
     "text": [
      "Here are the answers:\n",
      "\n",
      "1. Does the user care about the size of the dataset? Yes, ascending\n",
      "2. Does the user want to sort by number of downloads? No\n",
      "3. Does the user care about missing values? No\n",
      "4. Is it a classification dataset? None\n"
     ]
    }
   ],
   "source": [
    "response = chain.invoke({\"query\": query})\n",
    "print(response)"
   ]
  },
  {
   "cell_type": "code",
   "execution_count": 22,
   "metadata": {},
   "outputs": [],
   "source": [
    "def parse_answers_initial(response):\n",
    "    # for each line in the response, split by ? and check if the response is Yes/No or a comma separated string of Yes/No or ascending/descending using regex\n",
    "    answers = []\n",
    "    for line in response.lower().split(\"\\n\"):\n",
    "        if \"?\" in line:\n",
    "            response = line.split(\"?\")[1].strip()\n",
    "            if response in [\"yes\", \"no\", \"none\"]:\n",
    "                answers.append(response)\n",
    "            # elif re.match(r\"^(Yes|No),\\s?(Yes|No)$\", response):\n",
    "            # match for Yes/No or ascending/descending and full stop\n",
    "            elif re.match(r\"^(yes|no)\", response):\n",
    "                answers.append(response)\n",
    "            elif re.match(r\"^(ascending|descending)\", response):\n",
    "                answers.append(response)\n",
    "    return answers"
   ]
  },
  {
   "cell_type": "code",
   "execution_count": 20,
   "metadata": {},
   "outputs": [],
   "source": [
    "response = \"\"\"Here are the answers:\n",
    "\n",
    "1. Does the user care about the size of the dataset? No\n",
    "2. Does the user want to sort by number of downloads? No\n",
    "3. Does the user care about missing values? No, ascending\n",
    "4. If it seems like the user wants a classification dataset, is it binary/multi-class/multi-label? none\"\"\""
   ]
  },
  {
   "cell_type": "code",
   "execution_count": 25,
   "metadata": {},
   "outputs": [
    {
     "data": {
      "text/plain": [
       "['yes, ascending', 'no', 'no', 'none']"
      ]
     },
     "execution_count": 25,
     "metadata": {},
     "output_type": "execute_result"
    }
   ],
   "source": [
    "parse_answers_initial(response)"
   ]
  },
  {
   "cell_type": "code",
   "execution_count": 55,
   "metadata": {},
   "outputs": [
    {
     "name": "stderr",
     "output_type": "stream",
     "text": [
      "100%|██████████| 30/30 [01:16<00:00,  2.54s/it]"
     ]
    },
    {
     "name": "stdout",
     "output_type": "stream",
     "text": [
      "Response type check : True\n"
     ]
    },
    {
     "name": "stderr",
     "output_type": "stream",
     "text": [
      "\n"
     ]
    }
   ],
   "source": [
    "check_flag = True\n",
    "run_times = 30\n",
    "for run in tqdm(range(run_times)):\n",
    "    # response = ollama.chat(model='llama3', messages=[{'role': 'user', 'content': prompt}])\n",
    "    response = chain.invoke({\"query\": query})\n",
    "    if not check_response_type(response):\n",
    "        check_flag = False\n",
    "        print(response)\n",
    "        break\n",
    "    # print(response[\"message\"][\"content\"])\n",
    "    # print(response)\n",
    "print(f\"Response type check : {check_flag}\")"
   ]
  },
  {
   "cell_type": "code",
   "execution_count": 61,
   "metadata": {},
   "outputs": [],
   "source": [
    "import os\n",
    "\n",
    "# Add the parent directory to the path so we can import the modules\n",
    "import sys\n",
    "\n",
    "sys.path.append(os.path.join(os.path.dirname(\".\"), \"../backend/\"))"
   ]
  },
  {
   "cell_type": "code",
   "execution_count": 62,
   "metadata": {},
   "outputs": [],
   "source": [
    "from modules.metadata_utils import *\n",
    "from modules.utils import *"
   ]
  },
  {
   "cell_type": "code",
   "execution_count": 59,
   "metadata": {},
   "outputs": [
    {
     "name": "stdout",
     "output_type": "stream",
     "text": [
      "[INFO] Finding device.\n",
      "[INFO] Device found: mps\n"
     ]
    }
   ],
   "source": [
    "new_path = Path(\"../backend/\")\n",
    "\n",
    "config = load_config_and_device(str(new_path / \"config.json\"), training=True)\n",
    "config[\"data_dir\"] = str(new_path / \"data\")\n",
    "config[\"persist_dir\"] = str(new_path / \"data\" / \"chroma_db\")\n",
    "config[\"type_of_data\"] = \"dataset\""
   ]
  },
  {
   "cell_type": "code",
   "execution_count": 60,
   "metadata": {},
   "outputs": [
    {
     "name": "stdout",
     "output_type": "stream",
     "text": [
      "[INFO] Loading metadata from file.\n"
     ]
    }
   ],
   "source": [
    "openml_data_object, data_id, all_metadata, handler = get_all_metadata_from_openml(\n",
    "    config=config\n",
    ")"
   ]
  },
  {
   "cell_type": "code",
   "execution_count": 63,
   "metadata": {},
   "outputs": [],
   "source": [
    "metadata_df, all_metadata = create_metadata_dataframe(\n",
    "    handler, openml_data_object, data_id, all_metadata, config=config\n",
    ")"
   ]
  },
  {
   "cell_type": "code",
   "execution_count": 64,
   "metadata": {},
   "outputs": [
    {
     "data": {
      "text/plain": [
       "Index(['Unnamed: 0', 'did', 'name', 'version', 'uploader', 'status', 'format',\n",
       "       'MajorityClassSize', 'MaxNominalAttDistinctValues', 'MinorityClassSize',\n",
       "       'NumberOfClasses', 'NumberOfFeatures', 'NumberOfInstances',\n",
       "       'NumberOfInstancesWithMissingValues', 'NumberOfMissingValues',\n",
       "       'NumberOfNumericFeatures', 'NumberOfSymbolicFeatures', 'description',\n",
       "       'qualities', 'features', 'Combined_information'],\n",
       "      dtype='object')"
      ]
     },
     "execution_count": 64,
     "metadata": {},
     "output_type": "execute_result"
    }
   ],
   "source": [
    "metadata_df.columns"
   ]
  },
  {
   "cell_type": "code",
   "execution_count": 65,
   "metadata": {},
   "outputs": [
    {
     "data": {
      "text/plain": [
       "0        5.0\n",
       "1        2.0\n",
       "2        2.0\n",
       "3       13.0\n",
       "4       26.0\n",
       "        ... \n",
       "5685     NaN\n",
       "5686     NaN\n",
       "5687     NaN\n",
       "5688     NaN\n",
       "5689     NaN\n",
       "Name: NumberOfClasses, Length: 5690, dtype: float64"
      ]
     },
     "execution_count": 65,
     "metadata": {},
     "output_type": "execute_result"
    }
   ],
   "source": [
    "metadata_df[\"NumberOfClasses\"]"
   ]
  },
  {
   "cell_type": "code",
   "execution_count": null,
   "metadata": {},
   "outputs": [],
   "source": []
  },
  {
   "cell_type": "code",
   "execution_count": 66,
   "metadata": {},
   "outputs": [],
   "source": [
    "import pickle"
   ]
  },
  {
   "cell_type": "code",
   "execution_count": 67,
   "metadata": {},
   "outputs": [],
   "source": [
    "df = pickle.load(\n",
    "    open(\n",
    "        \"/Users/smukherjee/Documents/CODE/Github/ai_search/backend/data/all_dataset_metadata.pkl\",\n",
    "        \"rb\",\n",
    "    )\n",
    ")"
   ]
  },
  {
   "cell_type": "code",
   "execution_count": 70,
   "metadata": {},
   "outputs": [
    {
     "data": {
      "text/html": [
       "<div>\n",
       "<style scoped>\n",
       "    .dataframe tbody tr th:only-of-type {\n",
       "        vertical-align: middle;\n",
       "    }\n",
       "\n",
       "    .dataframe tbody tr th {\n",
       "        vertical-align: top;\n",
       "    }\n",
       "\n",
       "    .dataframe thead th {\n",
       "        text-align: right;\n",
       "    }\n",
       "</style>\n",
       "<table border=\"1\" class=\"dataframe\">\n",
       "  <thead>\n",
       "    <tr style=\"text-align: right;\">\n",
       "      <th></th>\n",
       "      <th>did</th>\n",
       "      <th>name</th>\n",
       "      <th>version</th>\n",
       "      <th>uploader</th>\n",
       "      <th>status</th>\n",
       "      <th>format</th>\n",
       "      <th>MajorityClassSize</th>\n",
       "      <th>MaxNominalAttDistinctValues</th>\n",
       "      <th>MinorityClassSize</th>\n",
       "      <th>NumberOfClasses</th>\n",
       "      <th>NumberOfFeatures</th>\n",
       "      <th>NumberOfInstances</th>\n",
       "      <th>NumberOfInstancesWithMissingValues</th>\n",
       "      <th>NumberOfMissingValues</th>\n",
       "      <th>NumberOfNumericFeatures</th>\n",
       "      <th>NumberOfSymbolicFeatures</th>\n",
       "    </tr>\n",
       "  </thead>\n",
       "  <tbody>\n",
       "    <tr>\n",
       "      <th>2</th>\n",
       "      <td>2</td>\n",
       "      <td>anneal</td>\n",
       "      <td>1</td>\n",
       "      <td>1</td>\n",
       "      <td>active</td>\n",
       "      <td>ARFF</td>\n",
       "      <td>684.0</td>\n",
       "      <td>7.0</td>\n",
       "      <td>8.0</td>\n",
       "      <td>5.0</td>\n",
       "      <td>39.0</td>\n",
       "      <td>898.0</td>\n",
       "      <td>898.0</td>\n",
       "      <td>22175.0</td>\n",
       "      <td>6.0</td>\n",
       "      <td>33.0</td>\n",
       "    </tr>\n",
       "    <tr>\n",
       "      <th>3</th>\n",
       "      <td>3</td>\n",
       "      <td>kr-vs-kp</td>\n",
       "      <td>1</td>\n",
       "      <td>1</td>\n",
       "      <td>active</td>\n",
       "      <td>ARFF</td>\n",
       "      <td>1669.0</td>\n",
       "      <td>3.0</td>\n",
       "      <td>1527.0</td>\n",
       "      <td>2.0</td>\n",
       "      <td>37.0</td>\n",
       "      <td>3196.0</td>\n",
       "      <td>0.0</td>\n",
       "      <td>0.0</td>\n",
       "      <td>0.0</td>\n",
       "      <td>37.0</td>\n",
       "    </tr>\n",
       "    <tr>\n",
       "      <th>4</th>\n",
       "      <td>4</td>\n",
       "      <td>labor</td>\n",
       "      <td>1</td>\n",
       "      <td>1</td>\n",
       "      <td>active</td>\n",
       "      <td>ARFF</td>\n",
       "      <td>37.0</td>\n",
       "      <td>3.0</td>\n",
       "      <td>20.0</td>\n",
       "      <td>2.0</td>\n",
       "      <td>17.0</td>\n",
       "      <td>57.0</td>\n",
       "      <td>56.0</td>\n",
       "      <td>326.0</td>\n",
       "      <td>8.0</td>\n",
       "      <td>9.0</td>\n",
       "    </tr>\n",
       "    <tr>\n",
       "      <th>5</th>\n",
       "      <td>5</td>\n",
       "      <td>arrhythmia</td>\n",
       "      <td>1</td>\n",
       "      <td>1</td>\n",
       "      <td>active</td>\n",
       "      <td>ARFF</td>\n",
       "      <td>245.0</td>\n",
       "      <td>13.0</td>\n",
       "      <td>2.0</td>\n",
       "      <td>13.0</td>\n",
       "      <td>280.0</td>\n",
       "      <td>452.0</td>\n",
       "      <td>384.0</td>\n",
       "      <td>408.0</td>\n",
       "      <td>206.0</td>\n",
       "      <td>74.0</td>\n",
       "    </tr>\n",
       "    <tr>\n",
       "      <th>6</th>\n",
       "      <td>6</td>\n",
       "      <td>letter</td>\n",
       "      <td>1</td>\n",
       "      <td>1</td>\n",
       "      <td>active</td>\n",
       "      <td>ARFF</td>\n",
       "      <td>813.0</td>\n",
       "      <td>26.0</td>\n",
       "      <td>734.0</td>\n",
       "      <td>26.0</td>\n",
       "      <td>17.0</td>\n",
       "      <td>20000.0</td>\n",
       "      <td>0.0</td>\n",
       "      <td>0.0</td>\n",
       "      <td>16.0</td>\n",
       "      <td>1.0</td>\n",
       "    </tr>\n",
       "    <tr>\n",
       "      <th>...</th>\n",
       "      <td>...</td>\n",
       "      <td>...</td>\n",
       "      <td>...</td>\n",
       "      <td>...</td>\n",
       "      <td>...</td>\n",
       "      <td>...</td>\n",
       "      <td>...</td>\n",
       "      <td>...</td>\n",
       "      <td>...</td>\n",
       "      <td>...</td>\n",
       "      <td>...</td>\n",
       "      <td>...</td>\n",
       "      <td>...</td>\n",
       "      <td>...</td>\n",
       "      <td>...</td>\n",
       "      <td>...</td>\n",
       "    </tr>\n",
       "    <tr>\n",
       "      <th>46254</th>\n",
       "      <td>46254</td>\n",
       "      <td>Diabetes_Dataset</td>\n",
       "      <td>2</td>\n",
       "      <td>39999</td>\n",
       "      <td>active</td>\n",
       "      <td>arff</td>\n",
       "      <td>NaN</td>\n",
       "      <td>NaN</td>\n",
       "      <td>NaN</td>\n",
       "      <td>NaN</td>\n",
       "      <td>9.0</td>\n",
       "      <td>768.0</td>\n",
       "      <td>0.0</td>\n",
       "      <td>0.0</td>\n",
       "      <td>9.0</td>\n",
       "      <td>0.0</td>\n",
       "    </tr>\n",
       "    <tr>\n",
       "      <th>46255</th>\n",
       "      <td>46255</td>\n",
       "      <td>Student_Performance_Dataset</td>\n",
       "      <td>1</td>\n",
       "      <td>39999</td>\n",
       "      <td>active</td>\n",
       "      <td>arff</td>\n",
       "      <td>NaN</td>\n",
       "      <td>NaN</td>\n",
       "      <td>NaN</td>\n",
       "      <td>NaN</td>\n",
       "      <td>15.0</td>\n",
       "      <td>2392.0</td>\n",
       "      <td>0.0</td>\n",
       "      <td>0.0</td>\n",
       "      <td>15.0</td>\n",
       "      <td>0.0</td>\n",
       "    </tr>\n",
       "    <tr>\n",
       "      <th>46258</th>\n",
       "      <td>46258</td>\n",
       "      <td>sonar</td>\n",
       "      <td>2</td>\n",
       "      <td>43180</td>\n",
       "      <td>active</td>\n",
       "      <td>arff</td>\n",
       "      <td>NaN</td>\n",
       "      <td>NaN</td>\n",
       "      <td>NaN</td>\n",
       "      <td>NaN</td>\n",
       "      <td>61.0</td>\n",
       "      <td>207.0</td>\n",
       "      <td>0.0</td>\n",
       "      <td>0.0</td>\n",
       "      <td>60.0</td>\n",
       "      <td>0.0</td>\n",
       "    </tr>\n",
       "    <tr>\n",
       "      <th>46259</th>\n",
       "      <td>46259</td>\n",
       "      <td>Electricity-hourly</td>\n",
       "      <td>1</td>\n",
       "      <td>30703</td>\n",
       "      <td>active</td>\n",
       "      <td>arff</td>\n",
       "      <td>NaN</td>\n",
       "      <td>NaN</td>\n",
       "      <td>NaN</td>\n",
       "      <td>NaN</td>\n",
       "      <td>319.0</td>\n",
       "      <td>26305.0</td>\n",
       "      <td>0.0</td>\n",
       "      <td>0.0</td>\n",
       "      <td>317.0</td>\n",
       "      <td>1.0</td>\n",
       "    </tr>\n",
       "    <tr>\n",
       "      <th>46260</th>\n",
       "      <td>46260</td>\n",
       "      <td>FRED-QD</td>\n",
       "      <td>1</td>\n",
       "      <td>30703</td>\n",
       "      <td>active</td>\n",
       "      <td>arff</td>\n",
       "      <td>NaN</td>\n",
       "      <td>NaN</td>\n",
       "      <td>NaN</td>\n",
       "      <td>NaN</td>\n",
       "      <td>204.0</td>\n",
       "      <td>258.0</td>\n",
       "      <td>0.0</td>\n",
       "      <td>0.0</td>\n",
       "      <td>202.0</td>\n",
       "      <td>1.0</td>\n",
       "    </tr>\n",
       "  </tbody>\n",
       "</table>\n",
       "<p>5690 rows × 16 columns</p>\n",
       "</div>"
      ],
      "text/plain": [
       "         did                         name  version uploader  status format  \\\n",
       "2          2                       anneal        1        1  active   ARFF   \n",
       "3          3                     kr-vs-kp        1        1  active   ARFF   \n",
       "4          4                        labor        1        1  active   ARFF   \n",
       "5          5                   arrhythmia        1        1  active   ARFF   \n",
       "6          6                       letter        1        1  active   ARFF   \n",
       "...      ...                          ...      ...      ...     ...    ...   \n",
       "46254  46254             Diabetes_Dataset        2    39999  active   arff   \n",
       "46255  46255  Student_Performance_Dataset        1    39999  active   arff   \n",
       "46258  46258                        sonar        2    43180  active   arff   \n",
       "46259  46259           Electricity-hourly        1    30703  active   arff   \n",
       "46260  46260                      FRED-QD        1    30703  active   arff   \n",
       "\n",
       "       MajorityClassSize  MaxNominalAttDistinctValues  MinorityClassSize  \\\n",
       "2                  684.0                          7.0                8.0   \n",
       "3                 1669.0                          3.0             1527.0   \n",
       "4                   37.0                          3.0               20.0   \n",
       "5                  245.0                         13.0                2.0   \n",
       "6                  813.0                         26.0              734.0   \n",
       "...                  ...                          ...                ...   \n",
       "46254                NaN                          NaN                NaN   \n",
       "46255                NaN                          NaN                NaN   \n",
       "46258                NaN                          NaN                NaN   \n",
       "46259                NaN                          NaN                NaN   \n",
       "46260                NaN                          NaN                NaN   \n",
       "\n",
       "       NumberOfClasses  NumberOfFeatures  NumberOfInstances  \\\n",
       "2                  5.0              39.0              898.0   \n",
       "3                  2.0              37.0             3196.0   \n",
       "4                  2.0              17.0               57.0   \n",
       "5                 13.0             280.0              452.0   \n",
       "6                 26.0              17.0            20000.0   \n",
       "...                ...               ...                ...   \n",
       "46254              NaN               9.0              768.0   \n",
       "46255              NaN              15.0             2392.0   \n",
       "46258              NaN              61.0              207.0   \n",
       "46259              NaN             319.0            26305.0   \n",
       "46260              NaN             204.0              258.0   \n",
       "\n",
       "       NumberOfInstancesWithMissingValues  NumberOfMissingValues  \\\n",
       "2                                   898.0                22175.0   \n",
       "3                                     0.0                    0.0   \n",
       "4                                    56.0                  326.0   \n",
       "5                                   384.0                  408.0   \n",
       "6                                     0.0                    0.0   \n",
       "...                                   ...                    ...   \n",
       "46254                                 0.0                    0.0   \n",
       "46255                                 0.0                    0.0   \n",
       "46258                                 0.0                    0.0   \n",
       "46259                                 0.0                    0.0   \n",
       "46260                                 0.0                    0.0   \n",
       "\n",
       "       NumberOfNumericFeatures  NumberOfSymbolicFeatures  \n",
       "2                          6.0                      33.0  \n",
       "3                          0.0                      37.0  \n",
       "4                          8.0                       9.0  \n",
       "5                        206.0                      74.0  \n",
       "6                         16.0                       1.0  \n",
       "...                        ...                       ...  \n",
       "46254                      9.0                       0.0  \n",
       "46255                     15.0                       0.0  \n",
       "46258                     60.0                       0.0  \n",
       "46259                    317.0                       1.0  \n",
       "46260                    202.0                       1.0  \n",
       "\n",
       "[5690 rows x 16 columns]"
      ]
     },
     "execution_count": 70,
     "metadata": {},
     "output_type": "execute_result"
    }
   ],
   "source": [
    "df[2]"
   ]
  }
 ],
 "metadata": {
  "kernelspec": {
   "display_name": "openml",
   "language": "python",
   "name": "python3"
  },
  "language_info": {
   "codemirror_mode": {
    "name": "ipython",
    "version": 3
   },
   "file_extension": ".py",
   "mimetype": "text/x-python",
   "name": "python",
   "nbconvert_exporter": "python",
   "pygments_lexer": "ipython3",
   "version": "3.10.14"
  }
 },
 "nbformat": 4,
 "nbformat_minor": 2
}
