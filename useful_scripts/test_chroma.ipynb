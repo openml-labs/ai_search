{
 "cells": [
  {
   "cell_type": "code",
   "execution_count": 8,
   "metadata": {},
   "outputs": [],
   "source": [
    "import chromadb"
   ]
  },
  {
   "cell_type": "code",
   "execution_count": 9,
   "metadata": {},
   "outputs": [],
   "source": [
    "client = chromadb.PersistentClient(\n",
    "    path=\"../data/evaluation/Alibaba-NLP_gte-large-en-v1.5/chroma_db/\"\n",
    ")"
   ]
  },
  {
   "cell_type": "code",
   "execution_count": 10,
   "metadata": {},
   "outputs": [
    {
     "data": {
      "text/plain": [
       "[Collection(name=metadata), Collection(name=datasets)]"
      ]
     },
     "execution_count": 10,
     "metadata": {},
     "output_type": "execute_result"
    }
   ],
   "source": [
    "client.list_collections()"
   ]
  },
  {
   "cell_type": "code",
   "execution_count": 12,
   "metadata": {},
   "outputs": [],
   "source": [
    "collec = client.get_or_create_collection(\"datasets\")"
   ]
  },
  {
   "cell_type": "code",
   "execution_count": 18,
   "metadata": {},
   "outputs": [
    {
     "data": {
      "text/plain": [
       "{'ids': ['00204287-01f3-5d49-afc9-d84c60e9a7e1'],\n",
       " 'embeddings': None,\n",
       " 'metadatas': [{'did': 41084, 'name': 'UMIST_Faces_Cropped'}],\n",
       " 'documents': [': [5563 - pixel5564 (numeric)], 5564 : [5564 - pixel5565 (numeric)], 5565 : [5565 - pixel5566 (numeric)], 5566 : [5566 - pixel5567 (numeric)], 5567 : [5567 - pixel5568 (numeric)], 5568 : [5568 - pixel5569 (numeric)], 5569 : [5569 - pixel5570 (numeric)], 5570 : [5570 - pixel5571 (numeric)], 5571 : [5571 - pixel5572 (numeric)], 5572 : [5572 - pixel5573 (numeric)], 5573 : [5573 - pixel5574 (numeric)], 5574 : [5574 - pixel5575 (numeric)], 5575 : [5575 - pixel5576 (numeric)], 5576 : [5576 - pixel5577 (numeric)], 5577 : [5577 - pixel5578 (numeric)], 5578 : [5578 - pixel5579 (numeric)], 5579 : [5579 - pixel5580 (numeric)], 5580 : [5580 - pixel5581 (numeric)], 5581 : [5581 - pixel5582 (numeric)], 5582 : [5582 - pixel5583 (numeric)], 5583 : [5583 - pixel5584 (numeric)], 5584 : [5584 - pixel5585 (numeric)], 5585 : [5585 - pixel5586 (numeric)], 5586 : [5586 - pixel5587 (numeric)], 5587 : [5587 - pixel5588 (numeric)], 5588 : [5588 - pixel5589 (numeric)], 5589 : [5589 - pixel5590 (numeric)], 5590'],\n",
       " 'uris': None,\n",
       " 'data': None}"
      ]
     },
     "execution_count": 18,
     "metadata": {},
     "output_type": "execute_result"
    }
   ],
   "source": [
    "collec.get(ids=[\"00204287-01f3-5d49-afc9-d84c60e9a7e1\"])"
   ]
  }
 ],
 "metadata": {
  "kernelspec": {
   "display_name": "openml",
   "language": "python",
   "name": "python3"
  },
  "language_info": {
   "codemirror_mode": {
    "name": "ipython",
    "version": 3
   },
   "file_extension": ".py",
   "mimetype": "text/x-python",
   "name": "python",
   "nbconvert_exporter": "python",
   "pygments_lexer": "ipython3",
   "version": "3.10.14"
  }
 },
 "nbformat": 4,
 "nbformat_minor": 2
}
