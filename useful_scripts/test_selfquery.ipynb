{
 "cells": [
  {
   "cell_type": "markdown",
   "metadata": {},
   "source": [
    "# Query Structring"
   ]
  },
  {
   "cell_type": "code",
   "execution_count": 1,
   "metadata": {},
   "outputs": [
    {
     "data": {
      "text/html": [
       "<div>\n",
       "<style scoped>\n",
       "    .dataframe tbody tr th:only-of-type {\n",
       "        vertical-align: middle;\n",
       "    }\n",
       "\n",
       "    .dataframe tbody tr th {\n",
       "        vertical-align: top;\n",
       "    }\n",
       "\n",
       "    .dataframe thead th {\n",
       "        text-align: right;\n",
       "    }\n",
       "</style>\n",
       "<table border=\"1\" class=\"dataframe\">\n",
       "  <thead>\n",
       "    <tr style=\"text-align: right;\">\n",
       "      <th></th>\n",
       "      <th>Unnamed: 0</th>\n",
       "      <th>did</th>\n",
       "      <th>name</th>\n",
       "      <th>version</th>\n",
       "      <th>uploader</th>\n",
       "      <th>status</th>\n",
       "      <th>format</th>\n",
       "      <th>MajorityClassSize</th>\n",
       "      <th>MaxNominalAttDistinctValues</th>\n",
       "      <th>MinorityClassSize</th>\n",
       "      <th>...</th>\n",
       "      <th>NumberOfFeatures</th>\n",
       "      <th>NumberOfInstances</th>\n",
       "      <th>NumberOfInstancesWithMissingValues</th>\n",
       "      <th>NumberOfMissingValues</th>\n",
       "      <th>NumberOfNumericFeatures</th>\n",
       "      <th>NumberOfSymbolicFeatures</th>\n",
       "      <th>description</th>\n",
       "      <th>qualities</th>\n",
       "      <th>features</th>\n",
       "      <th>Combined_information</th>\n",
       "    </tr>\n",
       "  </thead>\n",
       "  <tbody>\n",
       "    <tr>\n",
       "      <th>0</th>\n",
       "      <td>0</td>\n",
       "      <td>2</td>\n",
       "      <td>anneal</td>\n",
       "      <td>1</td>\n",
       "      <td>1</td>\n",
       "      <td>active</td>\n",
       "      <td>ARFF</td>\n",
       "      <td>684.0</td>\n",
       "      <td>7.0</td>\n",
       "      <td>8.0</td>\n",
       "      <td>...</td>\n",
       "      <td>39.0</td>\n",
       "      <td>898.0</td>\n",
       "      <td>898.0</td>\n",
       "      <td>22175.0</td>\n",
       "      <td>6.0</td>\n",
       "      <td>33.0</td>\n",
       "      <td>**Author**: Unknown. Donated by David Sterling...</td>\n",
       "      <td>AutoCorrelation : 0.6064659977703456, CfsSubse...</td>\n",
       "      <td>0 : [0 - family (nominal)], 1 : [1 - product-t...</td>\n",
       "      <td>did - 2, name - anneal, version - 1, uploader ...</td>\n",
       "    </tr>\n",
       "    <tr>\n",
       "      <th>1</th>\n",
       "      <td>1</td>\n",
       "      <td>3</td>\n",
       "      <td>kr-vs-kp</td>\n",
       "      <td>1</td>\n",
       "      <td>1</td>\n",
       "      <td>active</td>\n",
       "      <td>ARFF</td>\n",
       "      <td>1669.0</td>\n",
       "      <td>3.0</td>\n",
       "      <td>1527.0</td>\n",
       "      <td>...</td>\n",
       "      <td>37.0</td>\n",
       "      <td>3196.0</td>\n",
       "      <td>0.0</td>\n",
       "      <td>0.0</td>\n",
       "      <td>0.0</td>\n",
       "      <td>37.0</td>\n",
       "      <td>Author: Alen Shapiro\\nSource: [UCI](https://ar...</td>\n",
       "      <td>AutoCorrelation : 0.9990610328638497, CfsSubse...</td>\n",
       "      <td>0 : [0 - bkblk (nominal)], 1 : [1 - bknwy (nom...</td>\n",
       "      <td>did - 3, name - kr-vs-kp, version - 1, uploade...</td>\n",
       "    </tr>\n",
       "    <tr>\n",
       "      <th>2</th>\n",
       "      <td>2</td>\n",
       "      <td>4</td>\n",
       "      <td>labor</td>\n",
       "      <td>1</td>\n",
       "      <td>1</td>\n",
       "      <td>active</td>\n",
       "      <td>ARFF</td>\n",
       "      <td>37.0</td>\n",
       "      <td>3.0</td>\n",
       "      <td>20.0</td>\n",
       "      <td>...</td>\n",
       "      <td>17.0</td>\n",
       "      <td>57.0</td>\n",
       "      <td>56.0</td>\n",
       "      <td>326.0</td>\n",
       "      <td>8.0</td>\n",
       "      <td>9.0</td>\n",
       "      <td>**Author**: Unknown\\n**Source**: Collective Ba...</td>\n",
       "      <td>AutoCorrelation : 0.75, CfsSubsetEval_Decision...</td>\n",
       "      <td>0 : [0 - duration (numeric)], 1 : [1 - wage-in...</td>\n",
       "      <td>did - 4, name - labor, version - 1, uploader -...</td>\n",
       "    </tr>\n",
       "    <tr>\n",
       "      <th>3</th>\n",
       "      <td>3</td>\n",
       "      <td>5</td>\n",
       "      <td>arrhythmia</td>\n",
       "      <td>1</td>\n",
       "      <td>1</td>\n",
       "      <td>active</td>\n",
       "      <td>ARFF</td>\n",
       "      <td>245.0</td>\n",
       "      <td>13.0</td>\n",
       "      <td>2.0</td>\n",
       "      <td>...</td>\n",
       "      <td>280.0</td>\n",
       "      <td>452.0</td>\n",
       "      <td>384.0</td>\n",
       "      <td>408.0</td>\n",
       "      <td>206.0</td>\n",
       "      <td>74.0</td>\n",
       "      <td>**Author**: H. Altay Guvenir, Burak Acar, Hald...</td>\n",
       "      <td>AutoCorrelation : 0.35476718403547675, CfsSubs...</td>\n",
       "      <td>0 : [0 - age (numeric)], 1 : [1 - sex (nominal...</td>\n",
       "      <td>did - 5, name - arrhythmia, version - 1, uploa...</td>\n",
       "    </tr>\n",
       "    <tr>\n",
       "      <th>4</th>\n",
       "      <td>4</td>\n",
       "      <td>6</td>\n",
       "      <td>letter</td>\n",
       "      <td>1</td>\n",
       "      <td>1</td>\n",
       "      <td>active</td>\n",
       "      <td>ARFF</td>\n",
       "      <td>813.0</td>\n",
       "      <td>26.0</td>\n",
       "      <td>734.0</td>\n",
       "      <td>...</td>\n",
       "      <td>17.0</td>\n",
       "      <td>20000.0</td>\n",
       "      <td>0.0</td>\n",
       "      <td>0.0</td>\n",
       "      <td>16.0</td>\n",
       "      <td>1.0</td>\n",
       "      <td>**Author**: David J. Slate  \\n**Source**: [UCI...</td>\n",
       "      <td>AutoCorrelation : 0.04090204510225511, CfsSubs...</td>\n",
       "      <td>0 : [0 - x-box (numeric)], 1 : [1 - y-box (num...</td>\n",
       "      <td>did - 6, name - letter, version - 1, uploader ...</td>\n",
       "    </tr>\n",
       "  </tbody>\n",
       "</table>\n",
       "<p>5 rows × 21 columns</p>\n",
       "</div>"
      ],
      "text/plain": [
       "   Unnamed: 0  did        name  version  uploader  status format  \\\n",
       "0           0    2      anneal        1         1  active   ARFF   \n",
       "1           1    3    kr-vs-kp        1         1  active   ARFF   \n",
       "2           2    4       labor        1         1  active   ARFF   \n",
       "3           3    5  arrhythmia        1         1  active   ARFF   \n",
       "4           4    6      letter        1         1  active   ARFF   \n",
       "\n",
       "   MajorityClassSize  MaxNominalAttDistinctValues  MinorityClassSize  ...  \\\n",
       "0              684.0                          7.0                8.0  ...   \n",
       "1             1669.0                          3.0             1527.0  ...   \n",
       "2               37.0                          3.0               20.0  ...   \n",
       "3              245.0                         13.0                2.0  ...   \n",
       "4              813.0                         26.0              734.0  ...   \n",
       "\n",
       "   NumberOfFeatures  NumberOfInstances  NumberOfInstancesWithMissingValues  \\\n",
       "0              39.0              898.0                               898.0   \n",
       "1              37.0             3196.0                                 0.0   \n",
       "2              17.0               57.0                                56.0   \n",
       "3             280.0              452.0                               384.0   \n",
       "4              17.0            20000.0                                 0.0   \n",
       "\n",
       "   NumberOfMissingValues  NumberOfNumericFeatures  NumberOfSymbolicFeatures  \\\n",
       "0                22175.0                      6.0                      33.0   \n",
       "1                    0.0                      0.0                      37.0   \n",
       "2                  326.0                      8.0                       9.0   \n",
       "3                  408.0                    206.0                      74.0   \n",
       "4                    0.0                     16.0                       1.0   \n",
       "\n",
       "                                         description  \\\n",
       "0  **Author**: Unknown. Donated by David Sterling...   \n",
       "1  Author: Alen Shapiro\\nSource: [UCI](https://ar...   \n",
       "2  **Author**: Unknown\\n**Source**: Collective Ba...   \n",
       "3  **Author**: H. Altay Guvenir, Burak Acar, Hald...   \n",
       "4  **Author**: David J. Slate  \\n**Source**: [UCI...   \n",
       "\n",
       "                                           qualities  \\\n",
       "0  AutoCorrelation : 0.6064659977703456, CfsSubse...   \n",
       "1  AutoCorrelation : 0.9990610328638497, CfsSubse...   \n",
       "2  AutoCorrelation : 0.75, CfsSubsetEval_Decision...   \n",
       "3  AutoCorrelation : 0.35476718403547675, CfsSubs...   \n",
       "4  AutoCorrelation : 0.04090204510225511, CfsSubs...   \n",
       "\n",
       "                                            features  \\\n",
       "0  0 : [0 - family (nominal)], 1 : [1 - product-t...   \n",
       "1  0 : [0 - bkblk (nominal)], 1 : [1 - bknwy (nom...   \n",
       "2  0 : [0 - duration (numeric)], 1 : [1 - wage-in...   \n",
       "3  0 : [0 - age (numeric)], 1 : [1 - sex (nominal...   \n",
       "4  0 : [0 - x-box (numeric)], 1 : [1 - y-box (num...   \n",
       "\n",
       "                                Combined_information  \n",
       "0  did - 2, name - anneal, version - 1, uploader ...  \n",
       "1  did - 3, name - kr-vs-kp, version - 1, uploade...  \n",
       "2  did - 4, name - labor, version - 1, uploader -...  \n",
       "3  did - 5, name - arrhythmia, version - 1, uploa...  \n",
       "4  did - 6, name - letter, version - 1, uploader ...  \n",
       "\n",
       "[5 rows x 21 columns]"
      ]
     },
     "execution_count": 1,
     "metadata": {},
     "output_type": "execute_result"
    }
   ],
   "source": [
    "import pandas as pd\n",
    "\n",
    "data = pd.read_csv(\"~/Downloads/all_dataset_description.csv\")\n",
    "data.head()"
   ]
  },
  {
   "cell_type": "code",
   "execution_count": 2,
   "metadata": {},
   "outputs": [
    {
     "name": "stdout",
     "output_type": "stream",
     "text": [
      "Index(['Unnamed: 0', 'did', 'name', 'version', 'uploader', 'status', 'format',\n",
      "       'MajorityClassSize', 'MaxNominalAttDistinctValues', 'MinorityClassSize',\n",
      "       'NumberOfClasses', 'NumberOfFeatures', 'NumberOfInstances',\n",
      "       'NumberOfInstancesWithMissingValues', 'NumberOfMissingValues',\n",
      "       'NumberOfNumericFeatures', 'NumberOfSymbolicFeatures', 'description',\n",
      "       'qualities', 'features', 'Combined_information'],\n",
      "      dtype='object')\n",
      "21\n"
     ]
    }
   ],
   "source": [
    "print(data.columns)\n",
    "print(len(data.columns))"
   ]
  },
  {
   "cell_type": "markdown",
   "metadata": {},
   "source": [
    "Using LLM to define each attribute instead of writing manually"
   ]
  },
  {
   "cell_type": "code",
   "execution_count": 3,
   "metadata": {},
   "outputs": [],
   "source": [
    "# from langchain_openai import ChatOpenAI\n",
    "\n",
    "# model = ChatOpenAI(model=\"gpt-4\", api_key=\"\")\n",
    "# res = model.predict(\n",
    "#     \"Below is a table with information about metadata of machine learning datasets.\"\n",
    "#     \"Return a JSON list with an entry for each column. Each entry should have \"\n",
    "#     '{\"name\": \"column name\", \"description\": \"column description\", \"type\": \"column data type\"}'\n",
    "#     f\"\\n\\n{data.head()}\\n\\nJSON:\\n\"\n",
    "# )\n",
    "\n",
    "# import json\n",
    "\n",
    "# attribute_info = json.loads(res)\n",
    "# print(len(attribute_info))\n",
    "# attribute_info"
   ]
  },
  {
   "cell_type": "code",
   "execution_count": 4,
   "metadata": {},
   "outputs": [],
   "source": [
    "# attribute_info[3][\"description\"] = \"Version of this dataset. '1' for original version. Auto-incremented by server.\"\n",
    "# attribute_info[5][\"description\"] = \"Current status of the dataset. Whether the dataset is active.\"\n",
    "# attribute_info[6][\"description\"] = \"Format of the dataset. Example - arff format \"\n",
    "# attribute_info[7][\"description\"] = \"Number of instances belonging to the most frequent class.\"\n",
    "# attribute_info[8][\"description\"] = \"The maximum number of distinct values among attributes of the nominal type.\"\n",
    "# attribute_info[9][\"description\"] = \"Number of instances belonging to the least frequent class.\"\n",
    "# attribute_info[10][\"description\"] = \"Number of classes in the dataset. 2.0 for binary classification, and more than 2.0 for multi-class classification.\"\n",
    "# attribute_info[11][\"description\"] = \"Number of features or attributes in the dataset.\"\n",
    "# attribute_info[20][\"description\"] = \"Combine information from all the coulmns in the dataset.\""
   ]
  },
  {
   "cell_type": "code",
   "execution_count": 5,
   "metadata": {},
   "outputs": [],
   "source": [
    "# import json\n",
    "# with open('../data/attribute_info.json', 'w') as f:\n",
    "#     json.dump(attribute_info,f)"
   ]
  },
  {
   "cell_type": "code",
   "execution_count": 1,
   "metadata": {},
   "outputs": [
    {
     "name": "stdout",
     "output_type": "stream",
     "text": [
      "20\n",
      "{'name': 'did', 'description': 'Dataset ID', 'type': 'Numeric'}\n",
      "{'name': 'name', 'description': 'Name of the dataset', 'type': 'String'}\n",
      "{'name': 'version', 'description': \"Version of this dataset. '1' for original version. Auto-incremented by server.\", 'type': 'Numeric'}\n",
      "{'name': 'uploader', 'description': 'ID of the uploader', 'type': 'Numeric'}\n",
      "{'name': 'status', 'description': 'Current status of the dataset. Whether the dataset is active.', 'type': 'String'}\n",
      "{'name': 'format', 'description': 'Format of the dataset. Example - arff format ', 'type': 'String'}\n",
      "{'name': 'MajorityClassSize', 'description': 'Number of instances belonging to the most frequent class.', 'type': 'Numeric'}\n",
      "{'name': 'MaxNominalAttDistinctValues', 'description': 'The maximum number of distinct values among attributes of the nominal type.', 'type': 'Numeric'}\n",
      "{'name': 'MinorityClassSize', 'description': 'Number of instances belonging to the least frequent class.', 'type': 'Numeric'}\n",
      "{'name': 'NumberOfClasses', 'description': 'Number of classes in the dataset. 2.0 for binary classification, and more than 2.0 for multi-class classification.', 'type': 'Float'}\n",
      "{'name': 'NumberOfFeatures', 'description': 'Number of features or attributes in the dataset.', 'type': 'Numeric'}\n",
      "{'name': 'NumberOfInstances', 'description': 'Number of instances in the dataset', 'type': 'Numeric'}\n",
      "{'name': 'NumberOfInstancesWithMissingValues', 'description': 'Number of instances with missing values in the dataset', 'type': 'Numeric'}\n",
      "{'name': 'NumberOfMissingValues', 'description': 'Number of missing values in the dataset', 'type': 'Numeric'}\n",
      "{'name': 'NumberOfNumericFeatures', 'description': 'Number of numeric features in the dataset', 'type': 'Numeric'}\n",
      "{'name': 'NumberOfSymbolicFeatures', 'description': 'Number of symbolic features in the dataset', 'type': 'Numeric'}\n",
      "{'name': 'description', 'description': 'Description of the dataset', 'type': 'String'}\n",
      "{'name': 'qualities', 'description': 'Qualities of the dataset', 'type': 'String'}\n",
      "{'name': 'features', 'description': 'Features of the dataset', 'type': 'String'}\n",
      "{'name': 'Combined_information', 'description': 'Combine information from all the coulmns in the dataset.', 'type': 'String'}\n"
     ]
    }
   ],
   "source": [
    "import json\n",
    "\n",
    "with open(\"../data/attribute_info.json\", \"r\") as f:\n",
    "    attribute_info = json.loads(f.read())\n",
    "\n",
    "attribute_info = attribute_info[1:]\n",
    "print(len(attribute_info))\n",
    "print(*attribute_info, sep=\"\\n\")"
   ]
  },
  {
   "cell_type": "markdown",
   "metadata": {},
   "source": [
    "Strctured-Query Construction "
   ]
  },
  {
   "cell_type": "code",
   "execution_count": 2,
   "metadata": {},
   "outputs": [],
   "source": [
    "from langchain.chains.query_constructor.base import (\n",
    "    get_query_constructor_prompt,\n",
    "    load_query_constructor_runnable,\n",
    ")"
   ]
  },
  {
   "cell_type": "code",
   "execution_count": 3,
   "metadata": {},
   "outputs": [],
   "source": [
    "examples = [\n",
    "    (\n",
    "        \"Give me mushroom datasets with less than 10k rows.\",\n",
    "        {\n",
    "            \"query\": \"mushroom dataset\",\n",
    "            \"filter\": 'lt(\"NumberOfInstances\", 10000)',\n",
    "        },\n",
    "    ),\n",
    "    (\n",
    "        \"Give me datasets than can be used in healthcare with 2 or more classes\",\n",
    "        {\n",
    "            \"query\": \"heathcare dataset \",\n",
    "            \"filter\": 'gte(\"NumberOfClasses\", 2.0)',\n",
    "        },\n",
    "    ),\n",
    "    (\n",
    "        \"Give me datasets than can be used in healthcare, or climate applications with 2 or more classes and in arff format.\",\n",
    "        {\n",
    "            \"query\": \"heathcare dataset, climate datasets\",\n",
    "            \"filter\": 'and(gte(\"NumberOfClasses\", 2.0), eq(\"format\", \"arff\"))',\n",
    "        },\n",
    "    ),\n",
    "    (\n",
    "        \"Give me medical datasets.\",\n",
    "        {\n",
    "            \"query\": \"medical datasets\",\n",
    "            \"filter\": \"NO_FILTER\",\n",
    "        },\n",
    "    ),\n",
    "    (\n",
    "        \"Give me medical datasets with large number of features.\",\n",
    "        {\n",
    "            \"query\": \"medical datasets\",\n",
    "            \"filter\": 'gte(\"NumberOfFeatures, 100)',\n",
    "        },\n",
    "    ),\n",
    "]"
   ]
  },
  {
   "cell_type": "code",
   "execution_count": 4,
   "metadata": {},
   "outputs": [
    {
     "name": "stdout",
     "output_type": "stream",
     "text": [
      "Your goal is to structure the user's query to match the request schema provided below.\n",
      "\n",
      "<< Structured Request Schema >>\n",
      "When responding use a markdown code snippet with a JSON object formatted in the following schema:\n",
      "\n",
      "```json\n",
      "{\n",
      "    \"query\": string \\ text string to compare to document contents\n",
      "    \"filter\": string \\ logical condition statement for filtering documents\n",
      "}\n",
      "```\n",
      "\n",
      "The query string should contain only text that is expected to match the contents of documents. Any conditions in the filter should not be mentioned in the query as well.\n",
      "\n",
      "A logical condition statement is composed of one or more comparison and logical operation statements.\n",
      "\n",
      "A comparison statement takes the form: `comp(attr, val)`:\n",
      "- `comp` (eq | ne | gt | gte | lt | lte | contain | like | in | nin): comparator\n",
      "- `attr` (string):  name of attribute to apply the comparison to\n",
      "- `val` (string): is the comparison value\n",
      "\n",
      "A logical operation statement takes the form `op(statement1, statement2, ...)`:\n",
      "- `op` (and | or | not): logical operator\n",
      "- `statement1`, `statement2`, ... (comparison statements or logical operation statements): one or more statements to apply the operation to\n",
      "\n",
      "Make sure that you only use the comparators and logical operators listed above and no others.\n",
      "Make sure that filters only refer to attributes that exist in the data source.\n",
      "Make sure that filters only use the attributed names with its function names if there are functions applied on them.\n",
      "Make sure that filters only use format `YYYY-MM-DD` when handling date data typed values.\n",
      "Make sure that filters take into account the descriptions of attributes and only make comparisons that are feasible given the type of data being stored.\n",
      "Make sure that filters are only used as needed. If there are no filters that should be applied return \"NO_FILTER\" for the filter value.\n",
      "\n",
      "<< Data Source >>\n",
      "```json\n",
      "{\n",
      "    \"content\": \"Metadata of datasets for various machine learning applications fetched from OpenML platform\",\n",
      "    \"attributes\": {\n",
      "    \"did\": {\n",
      "        \"description\": \"Dataset ID\",\n",
      "        \"type\": \"Numeric\"\n",
      "    },\n",
      "    \"name\": {\n",
      "        \"description\": \"Name of the dataset\",\n",
      "        \"type\": \"String\"\n",
      "    },\n",
      "    \"version\": {\n",
      "        \"description\": \"Version of this dataset. '1' for original version. Auto-incremented by server.\",\n",
      "        \"type\": \"Numeric\"\n",
      "    },\n",
      "    \"uploader\": {\n",
      "        \"description\": \"ID of the uploader\",\n",
      "        \"type\": \"Numeric\"\n",
      "    },\n",
      "    \"status\": {\n",
      "        \"description\": \"Current status of the dataset. Whether the dataset is active.\",\n",
      "        \"type\": \"String\"\n",
      "    },\n",
      "    \"format\": {\n",
      "        \"description\": \"Format of the dataset. Example - arff format \",\n",
      "        \"type\": \"String\"\n",
      "    },\n",
      "    \"MajorityClassSize\": {\n",
      "        \"description\": \"Number of instances belonging to the most frequent class.\",\n",
      "        \"type\": \"Numeric\"\n",
      "    },\n",
      "    \"MaxNominalAttDistinctValues\": {\n",
      "        \"description\": \"The maximum number of distinct values among attributes of the nominal type.\",\n",
      "        \"type\": \"Numeric\"\n",
      "    },\n",
      "    \"MinorityClassSize\": {\n",
      "        \"description\": \"Number of instances belonging to the least frequent class.\",\n",
      "        \"type\": \"Numeric\"\n",
      "    },\n",
      "    \"NumberOfClasses\": {\n",
      "        \"description\": \"Number of classes in the dataset. 2.0 for binary classification, and more than 2.0 for multi-class classification.\",\n",
      "        \"type\": \"Float\"\n",
      "    },\n",
      "    \"NumberOfFeatures\": {\n",
      "        \"description\": \"Number of features or attributes in the dataset.\",\n",
      "        \"type\": \"Numeric\"\n",
      "    },\n",
      "    \"NumberOfInstances\": {\n",
      "        \"description\": \"Number of instances in the dataset\",\n",
      "        \"type\": \"Numeric\"\n",
      "    },\n",
      "    \"NumberOfInstancesWithMissingValues\": {\n",
      "        \"description\": \"Number of instances with missing values in the dataset\",\n",
      "        \"type\": \"Numeric\"\n",
      "    },\n",
      "    \"NumberOfMissingValues\": {\n",
      "        \"description\": \"Number of missing values in the dataset\",\n",
      "        \"type\": \"Numeric\"\n",
      "    },\n",
      "    \"NumberOfNumericFeatures\": {\n",
      "        \"description\": \"Number of numeric features in the dataset\",\n",
      "        \"type\": \"Numeric\"\n",
      "    },\n",
      "    \"NumberOfSymbolicFeatures\": {\n",
      "        \"description\": \"Number of symbolic features in the dataset\",\n",
      "        \"type\": \"Numeric\"\n",
      "    },\n",
      "    \"description\": {\n",
      "        \"description\": \"Description of the dataset\",\n",
      "        \"type\": \"String\"\n",
      "    },\n",
      "    \"qualities\": {\n",
      "        \"description\": \"Qualities of the dataset\",\n",
      "        \"type\": \"String\"\n",
      "    },\n",
      "    \"features\": {\n",
      "        \"description\": \"Features of the dataset\",\n",
      "        \"type\": \"String\"\n",
      "    },\n",
      "    \"Combined_information\": {\n",
      "        \"description\": \"Combine information from all the coulmns in the dataset.\",\n",
      "        \"type\": \"String\"\n",
      "    }\n",
      "}\n",
      "}\n",
      "```\n",
      "\n",
      "\n",
      "<< Example 1. >>\n",
      "User Query:\n",
      "Give me mushroom datasets with less than 10k rows.\n",
      "\n",
      "Structured Request:\n",
      "```json\n",
      "{\n",
      "    \"query\": \"mushroom dataset\",\n",
      "    \"filter\": \"lt(\\\"NumberOfInstances\\\", 10000)\"\n",
      "}\n",
      "```\n",
      "\n",
      "\n",
      "<< Example 2. >>\n",
      "User Query:\n",
      "Give me datasets than can be used in healthcare with 2 or more classes\n",
      "\n",
      "Structured Request:\n",
      "```json\n",
      "{\n",
      "    \"query\": \"heathcare dataset \",\n",
      "    \"filter\": \"gte(\\\"NumberOfClasses\\\", 2.0)\"\n",
      "}\n",
      "```\n",
      "\n",
      "\n",
      "<< Example 3. >>\n",
      "User Query:\n",
      "Give me datasets than can be used in healthcare, or climate applications with 2 or more classes and in arff format.\n",
      "\n",
      "Structured Request:\n",
      "```json\n",
      "{\n",
      "    \"query\": \"heathcare dataset, climate datasets\",\n",
      "    \"filter\": \"and(gte(\\\"NumberOfClasses\\\", 2.0), eq(\\\"format\\\", \\\"arff\\\"))\"\n",
      "}\n",
      "```\n",
      "\n",
      "\n",
      "<< Example 4. >>\n",
      "User Query:\n",
      "Give me medical datasets.\n",
      "\n",
      "Structured Request:\n",
      "```json\n",
      "{\n",
      "    \"query\": \"medical datasets\",\n",
      "    \"filter\": \"NO_FILTER\"\n",
      "}\n",
      "```\n",
      "\n",
      "\n",
      "<< Example 5. >>\n",
      "User Query:\n",
      "Give me medical datasets with large number of features.\n",
      "\n",
      "Structured Request:\n",
      "```json\n",
      "{\n",
      "    \"query\": \"medical datasets\",\n",
      "    \"filter\": \"gte(\\\"NumberOfFeatures, 100)\"\n",
      "}\n",
      "```\n",
      "\n",
      "\n",
      "<< Example 6. >>\n",
      "User Query:\n",
      "{query}\n",
      "\n",
      "Structured Request:\n",
      "\n"
     ]
    }
   ],
   "source": [
    "document_content_description = \"Metadata of datasets for various machine learning applications fetched from OpenML platform\"\n",
    "prompt = get_query_constructor_prompt(\n",
    "    document_contents=document_content_description,\n",
    "    attribute_info=attribute_info,\n",
    "    examples=examples,\n",
    ")\n",
    "print(prompt.format(query=\"{query}\"))"
   ]
  },
  {
   "cell_type": "markdown",
   "metadata": {},
   "source": [
    "Limiting number of attributes fileds to filter upon"
   ]
  },
  {
   "cell_type": "code",
   "execution_count": 5,
   "metadata": {},
   "outputs": [
    {
     "data": {
      "text/plain": [
       "({'name': 'status',\n",
       "  'description': 'Current status of the dataset. Whether the dataset is active.',\n",
       "  'type': 'String'},\n",
       " {'name': 'NumberOfClasses',\n",
       "  'description': 'Number of classes in the dataset. 2.0 for binary classification, and more than 2.0 for multi-class classification.',\n",
       "  'type': 'Float'},\n",
       " {'name': 'NumberOfFeatures',\n",
       "  'description': 'Number of features or attributes in the dataset.',\n",
       "  'type': 'Numeric'},\n",
       " {'name': 'NumberOfInstances',\n",
       "  'description': 'Number of instances in the dataset',\n",
       "  'type': 'Numeric'},\n",
       " {'name': 'Combined_information',\n",
       "  'description': 'Combine information from all the coulmns in the dataset.',\n",
       "  'type': 'String'})"
      ]
     },
     "execution_count": 5,
     "metadata": {},
     "output_type": "execute_result"
    }
   ],
   "source": [
    "from langchain_community.chat_models import ChatOllama\n",
    "\n",
    "content_attr = [\n",
    "    \"status\",\n",
    "    \"NumberOfClasses\",\n",
    "    \"NumberOfFeatures\",\n",
    "    \"NumberOfInstances\",\n",
    "    \"Combined_information\",\n",
    "]\n",
    "# document_content_description = \"Metadata of machine learning datasets including status (if dataset is active or not), number of classes in the dataset, number of instances (examples) in the dataset, number of features in the dataset, and Combined_information containing the combined metadata information about the dataset.\"\n",
    "filter_attribute_info = tuple(ai for ai in attribute_info if ai[\"name\"] in content_attr)\n",
    "\n",
    "filter_attribute_info"
   ]
  },
  {
   "cell_type": "code",
   "execution_count": 6,
   "metadata": {},
   "outputs": [],
   "source": [
    "chain = load_query_constructor_runnable(\n",
    "    ChatOllama(model=\"llama3\"),\n",
    "    document_content_description,\n",
    "    # attribute_info,\n",
    "    filter_attribute_info,\n",
    "    examples=examples,\n",
    "    fix_invalid=True,\n",
    ")"
   ]
  },
  {
   "cell_type": "code",
   "execution_count": 7,
   "metadata": {},
   "outputs": [],
   "source": [
    "structured_query = chain.invoke(\n",
    "    {\"query\": \"Find a mushroom dataset with less than 10k size\"}\n",
    ")"
   ]
  },
  {
   "cell_type": "code",
   "execution_count": 8,
   "metadata": {},
   "outputs": [
    {
     "name": "stdout",
     "output_type": "stream",
     "text": [
      "Search Query:  mushroom\n",
      "Filter(s):  comparator=<Comparator.LT: 'lt'> attribute='NumberOfInstances' value=10000\n"
     ]
    }
   ],
   "source": [
    "print(\"Search Query: \", structured_query.query)\n",
    "print(\"Filter(s): \", structured_query.filter)"
   ]
  },
  {
   "cell_type": "code",
   "execution_count": 9,
   "metadata": {},
   "outputs": [
    {
     "data": {
      "text/plain": [
       "langchain_core.structured_query.StructuredQuery"
      ]
     },
     "execution_count": 9,
     "metadata": {},
     "output_type": "execute_result"
    }
   ],
   "source": [
    "type(structured_query)"
   ]
  },
  {
   "cell_type": "code",
   "execution_count": null,
   "metadata": {},
   "outputs": [],
   "source": [
    "chain.invoke({\"query\": \"Find a mushroom dataset.\"})"
   ]
  },
  {
   "cell_type": "code",
   "execution_count": null,
   "metadata": {},
   "outputs": [
    {
     "data": {
      "text/plain": [
       "StructuredQuery(query='medical dataset which has active status', filter=Comparison(comparator=<Comparator.EQ: 'eq'>, attribute='status', value='active'), limit=None)"
      ]
     },
     "execution_count": 51,
     "metadata": {},
     "output_type": "execute_result"
    }
   ],
   "source": [
    "chain.invoke({\"query\": \"Find a medical dataset which has active status\"})"
   ]
  },
  {
   "cell_type": "code",
   "execution_count": null,
   "metadata": {},
   "outputs": [
    {
     "data": {
      "text/plain": [
       "StructuredQuery(query='mushroom dataset with large number of features', filter=Operation(operator=<Operator.AND: 'and'>, arguments=[Comparison(comparator=<Comparator.EQ: 'eq'>, attribute='status', value='active'), Comparison(comparator=<Comparator.GTE: 'gte'>, attribute='NumberOfFeatures', value=100)]), limit=None)"
      ]
     },
     "execution_count": 54,
     "metadata": {},
     "output_type": "execute_result"
    }
   ],
   "source": [
    "chain.invoke({\"query\": \"Find a mushroom dataset with large number of features\"})"
   ]
  },
  {
   "cell_type": "code",
   "execution_count": null,
   "metadata": {},
   "outputs": [
    {
     "data": {
      "text/plain": [
       "StructuredQuery(query='big mushroom dataset', filter=Comparison(comparator=<Comparator.GT: 'gt'>, attribute='NumberOfInstances', value=9999), limit=None)"
      ]
     },
     "execution_count": 55,
     "metadata": {},
     "output_type": "execute_result"
    }
   ],
   "source": [
    "chain.invoke({\"query\": \"give me big mushroom dataset.\"})"
   ]
  },
  {
   "cell_type": "code",
   "execution_count": 10,
   "metadata": {},
   "outputs": [
    {
     "data": {
      "text/plain": [
       "StructuredQuery(query='mushroom dataset', filter=Comparison(comparator=<Comparator.GTE: 'gte'>, attribute='NumberOfClasses', value=2.0), limit=None)"
      ]
     },
     "execution_count": 10,
     "metadata": {},
     "output_type": "execute_result"
    }
   ],
   "source": [
    "chain.invoke({\"query\": \"give me mushroom dataset with 2 or more classes.\"})"
   ]
  },
  {
   "cell_type": "code",
   "execution_count": null,
   "metadata": {},
   "outputs": [
    {
     "name": "stdout",
     "output_type": "stream",
     "text": [
      "[INFO] Finding device.\n",
      "[INFO] Device found: cuda\n",
      "[INFO] Loading metadata from file.\n",
      "[INFO] Loading model...\n",
      "[INFO] Model loaded.\n"
     ]
    }
   ],
   "source": [
    "from langchain.retrievers.self_query.chroma import ChromaTranslator\n",
    "from langchain.retrievers.self_query.base import SelfQueryRetriever\n",
    "import chromadb\n",
    "import sys\n",
    "\n",
    "sys.path.append(\"../\")\n",
    "sys.path.append(\"../backend/\")\n",
    "from backend.modules.utils import load_config_and_device\n",
    "from backend.modules.llm import *\n",
    "\n",
    "config = load_config_and_device(\"../backend/config.json\")\n",
    "config[\"data_dir\"] = \"../data/\"\n",
    "config[\"persist_dir\"] = \"../data/chroma_db/\"\n",
    "\n",
    "vectorstore = chromadb.PersistentClient(path=config[\"persist_dir\"])\n",
    "qa_dataset_handler = QASetup(\n",
    "    config=config,\n",
    "    data_type=\"dataset\",\n",
    "    client=vectorstore,\n",
    ")\n",
    "\n",
    "qa_dataset, _ = qa_dataset_handler.setup_vector_db_and_qa()"
   ]
  },
  {
   "cell_type": "code",
   "execution_count": null,
   "metadata": {},
   "outputs": [],
   "source": [
    "from langchain.chains.query_constructor.base import (\n",
    "    StructuredQueryOutputParser,\n",
    "    get_query_constructor_prompt,\n",
    ")\n",
    "\n",
    "# llm = ChatOllama(model=\"llama3\", temperature=0)\n",
    "# output_parser = StructuredQueryOutputParser.from_components()\n",
    "# query_constructor = prompt | llm | output_parser\n",
    "\n",
    "import logging\n",
    "\n",
    "# Set up logging\n",
    "logging.basicConfig(level=logging.DEBUG)\n",
    "logger = logging.getLogger(__name__)\n",
    "\n",
    "retriever = SelfQueryRetriever(\n",
    "    query_constructor=chain,\n",
    "    vectorstore=qa_dataset[0].vectorstore,\n",
    "    structured_query_translator=ChromaTranslator(),\n",
    "    verbose=True,\n",
    ")\n",
    "# retriever = qa_dataset.vectorstore.as_retriever(search_type=\"similarity_score_threshold\", search_kwargs={\"score_threshold\": 0.3})"
   ]
  },
  {
   "cell_type": "code",
   "execution_count": null,
   "metadata": {},
   "outputs": [
    {
     "name": "stderr",
     "output_type": "stream",
     "text": [
      "DEBUG:urllib3.connectionpool:Starting new HTTP connection (1): localhost:11434\n",
      "DEBUG:urllib3.connectionpool:http://localhost:11434 \"POST /api/chat HTTP/1.1\" 200 None\n",
      "INFO:langchain.retrievers.self_query.base:Generated Query: query='mushroom' filter=None limit=None\n"
     ]
    },
    {
     "name": "stdout",
     "output_type": "stream",
     "text": [
      "mushroom {}\n"
     ]
    },
    {
     "data": {
      "text/plain": [
       "[Document(metadata={'did': 43922, 'name': 'mushroom'}, page_content='did - 43922, name - mushroom, version - 3, uploader - 30861, status - active, format - ARFF, MajorityClassSize - 4208.0, MaxNominalAttDistinctValues - nan, MinorityClassSize - 3916.0, NumberOfClasses - 2.0, NumberOfFeatures - 23.0, NumberOfInstances - 8124.0, NumberOfInstancesWithMissingValues - 0.0, NumberOfMissingValues - 0.0, NumberOfNumericFeatures - 0.0, NumberOfSymbolicFeatures - 23.0, description - Mushroom records drawn from The Audubon Society Field Guide to North American Mushrooms (1981). G. H. Lincoff (Pres.), New York: Alfred A. Knopf, qualities - AutoCorrelation : 0.726332635725717, Dimensionality : 0.002831117676021664, MajorityClassPercentage : 51.7971442639094, MajorityClassSize : 4208.0, MinorityClassPercentage : 48.20285573609059, MinorityClassSize : 3916.0, NumberOfBinaryFeatures : 6.0, NumberOfClasses : 2.0, NumberOfFeatures : 23.0, NumberOfInstances : 8124.0, NumberOfInstancesWithMissingValues : 0.0, NumberOfMissingValues : 0.0, NumberOfNumericFeatures : 0.0,'),\n",
       " Document(metadata={'did': 120, 'name': 'BNG(mushroom)'}, page_content='did - 120, name - BNG(mushroom), version - 1, uploader - 1, status - active, format - ARFF, MajorityClassSize - 518298.0, MaxNominalAttDistinctValues - 12.0, MinorityClassSize - 481702.0, NumberOfClasses - 2.0, NumberOfFeatures - 23.0, NumberOfInstances - 1000000.0, NumberOfInstancesWithMissingValues - 0.0, NumberOfMissingValues - 0.0, NumberOfNumericFeatures - 0.0, NumberOfSymbolicFeatures - 23.0, description - None, qualities - AutoCorrelation : 0.5011905011905012, CfsSubsetEval_DecisionStumpAUC : 0.9847860299226502, CfsSubsetEval_DecisionStumpErrRate : 0.021824, CfsSubsetEval_DecisionStumpKappa : 0.9562780842181652, CfsSubsetEval_NaiveBayesAUC : 0.9847860299226502, CfsSubsetEval_NaiveBayesErrRate : 0.021824, CfsSubsetEval_NaiveBayesKappa : 0.9562780842181652, CfsSubsetEval_kNN1NAUC : 0.9847860299226502, CfsSubsetEval_kNN1NErrRate : 0.021824, CfsSubsetEval_kNN1NKappa : 0.9562780842181652, ClassEntropy : 0.9990337071596953, DecisionStumpAUC : 0.8815512935166292, DecisionStumpErrRate :'),\n",
       " Document(metadata={'did': 44272, 'name': 'Meta_Album_FNG_Micro'}, page_content='did - 44272, name - Meta_Album_FNG_Micro, version - 1, uploader - 30980, status - active, format - arff, MajorityClassSize - 40.0, MaxNominalAttDistinctValues - nan, MinorityClassSize - 40.0, NumberOfClasses - 20.0, NumberOfFeatures - 3.0, NumberOfInstances - 800.0, NumberOfInstancesWithMissingValues - 0.0, NumberOfMissingValues - 0.0, NumberOfNumericFeatures - 0.0, NumberOfSymbolicFeatures - 0.0, description - ## **Meta-Album Fungi Dataset (Micro)**\\n***'),\n",
       " Document(metadata={'did': 24, 'name': 'mushroom'}, page_content='did - 24, name - mushroom, version - 1, uploader - 1, status - active, format - ARFF, MajorityClassSize - 4208.0, MaxNominalAttDistinctValues - 12.0, MinorityClassSize - 3916.0, NumberOfClasses - 2.0, NumberOfFeatures - 23.0, NumberOfInstances - 8124.0, NumberOfInstancesWithMissingValues - 2480.0, NumberOfMissingValues - 2480.0, NumberOfNumericFeatures - 0.0, NumberOfSymbolicFeatures - 23.0, description - **Author**: [Jeff Schlimmer](Jeffrey.Schlimmer@a.gp.cs.cmu.edu)  \\n**Source**: [UCI](https://archive.ics.uci.edu/ml/datasets/mushroom) - 1981     \\n**Please cite**:  The Audubon Society Field Guide to North American Mushrooms (1981). G. H. Lincoff (Pres.), New York: Alfred A. Knopf \\n\\n\\n### Description\\n\\nThis dataset describes mushrooms in terms of their physical characteristics. They are classified into: poisonous or edible.')]"
      ]
     },
     "execution_count": 111,
     "metadata": {},
     "output_type": "execute_result"
    }
   ],
   "source": [
    "retriever.invoke(\"What are some datasets on mushroom.\")"
   ]
  },
  {
   "cell_type": "code",
   "execution_count": null,
   "metadata": {},
   "outputs": [
    {
     "name": "stderr",
     "output_type": "stream",
     "text": [
      "DEBUG:urllib3.connectionpool:Starting new HTTP connection (1): localhost:11434\n",
      "DEBUG:urllib3.connectionpool:http://localhost:11434 \"POST /api/chat HTTP/1.1\" 200 None\n",
      "INFO:langchain.retrievers.self_query.base:Generated Query: query='mushroom datasets with greater than 2.0 classes' filter=Comparison(comparator=<Comparator.GT: 'gt'>, attribute='NumberOfClasses', value=2.0) limit=None\n"
     ]
    },
    {
     "name": "stdout",
     "output_type": "stream",
     "text": [
      "mushroom datasets with greater than 2.0 classes {'filter': {'NumberOfClasses': {'$gt': 2.0}}}\n"
     ]
    },
    {
     "data": {
      "text/plain": [
       "[]"
      ]
     },
     "execution_count": 118,
     "metadata": {},
     "output_type": "execute_result"
    }
   ],
   "source": [
    "retriever.invoke(\"Give mushroom datasets with more than 2 classes.\")"
   ]
  },
  {
   "cell_type": "code",
   "execution_count": null,
   "metadata": {},
   "outputs": [
    {
     "name": "stderr",
     "output_type": "stream",
     "text": [
      "DEBUG:urllib3.connectionpool:Starting new HTTP connection (1): localhost:11434\n",
      "DEBUG:urllib3.connectionpool:http://localhost:11434 \"POST /api/chat HTTP/1.1\" 200 None\n"
     ]
    }
   ],
   "source": [
    "structured_query = chain.invoke(\n",
    "    {\"query\": \"give me mushroom dataset with 2 or more classes.\"}\n",
    ")"
   ]
  },
  {
   "cell_type": "code",
   "execution_count": null,
   "metadata": {},
   "outputs": [
    {
     "name": "stdout",
     "output_type": "stream",
     "text": [
      "mushroom dataset\n",
      "comparator=<Comparator.LT: 'lt'> attribute='NumberOfInstances' value=10000\n"
     ]
    },
    {
     "data": {
      "text/plain": [
       "('mushroom dataset', {'filter': {'NumberOfInstances': {'$lt': 10000}}})"
      ]
     },
     "execution_count": 13,
     "metadata": {},
     "output_type": "execute_result"
    }
   ],
   "source": [
    "print(structured_query.query)\n",
    "print(structured_query.filter)\n",
    "\n",
    "from langchain_community.query_constructors.chroma import ChromaTranslator\n",
    "\n",
    "obj = ChromaTranslator()\n",
    "obj.visit_structured_query(structured_query=structured_query)"
   ]
  },
  {
   "cell_type": "code",
   "execution_count": null,
   "metadata": {},
   "outputs": [
    {
     "data": {
      "text/plain": [
       "('mushroom dataset',\n",
       " {'filter': [{'range': {'metadata.NumberOfClasses': {'gte': 2.0}}}]})"
      ]
     },
     "execution_count": 116,
     "metadata": {},
     "output_type": "execute_result"
    }
   ],
   "source": [
    "from langchain_community.query_constructors.elasticsearch import ElasticsearchTranslator\n",
    "\n",
    "obj = ElasticsearchTranslator()\n",
    "obj.visit_structured_query(structured_query=structured_query)"
   ]
  },
  {
   "cell_type": "code",
   "execution_count": null,
   "metadata": {},
   "outputs": [],
   "source": [
    "# Sorting results"
   ]
  },
  {
   "cell_type": "code",
   "execution_count": null,
   "metadata": {},
   "outputs": [
    {
     "data": {
      "text/plain": [
       "{'k': 30}"
      ]
     },
     "execution_count": 117,
     "metadata": {},
     "output_type": "execute_result"
    }
   ],
   "source": [
    "qa_dataset[0].search_kwargs"
   ]
  }
 ],
 "metadata": {
  "kernelspec": {
   "display_name": "venv",
   "language": "python",
   "name": "python3"
  },
  "language_info": {
   "codemirror_mode": {
    "name": "ipython",
    "version": 3
   },
   "file_extension": ".py",
   "mimetype": "text/x-python",
   "name": "python",
   "nbconvert_exporter": "python",
   "pygments_lexer": "ipython3",
   "version": "3.12.0"
  }
 },
 "nbformat": 4,
 "nbformat_minor": 2
}
