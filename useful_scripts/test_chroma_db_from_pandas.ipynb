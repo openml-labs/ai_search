{
 "cells": [
  {
   "cell_type": "code",
   "execution_count": 21,
   "metadata": {},
   "outputs": [
    {
     "name": "stderr",
     "output_type": "stream",
     "text": [
      "/Users/smukherjee/.pyenv/versions/3.10.14/envs/openml/lib/python3.10/site-packages/tqdm/auto.py:21: TqdmWarning: IProgress not found. Please update jupyter and ipywidgets. See https://ipywidgets.readthedocs.io/en/stable/user_install.html\n",
      "  from .autonotebook import tqdm as notebook_tqdm\n"
     ]
    }
   ],
   "source": [
    "import sqlalchemy\n",
    "import pandas as pd\n",
    "import chromadb\n",
    "from langchain_community.vectorstores.chroma import Chroma\n",
    "from tqdm.auto import tqdm"
   ]
  },
  {
   "cell_type": "code",
   "execution_count": 4,
   "metadata": {},
   "outputs": [],
   "source": [
    "metadata_df = pd.read_csv(\"../../data/all_dataset_description.csv\")"
   ]
  },
  {
   "cell_type": "code",
   "execution_count": 5,
   "metadata": {},
   "outputs": [],
   "source": [
    "metadata_df = metadata_df.drop(columns=[\"Combined_information\"])"
   ]
  },
  {
   "cell_type": "code",
   "execution_count": 8,
   "metadata": {},
   "outputs": [],
   "source": [
    "client = chromadb.Client()"
   ]
  },
  {
   "cell_type": "code",
   "execution_count": 11,
   "metadata": {},
   "outputs": [],
   "source": [
    "collec = client.get_or_create_collection(\"metadata\")"
   ]
  },
  {
   "cell_type": "code",
   "execution_count": 20,
   "metadata": {},
   "outputs": [],
   "source": [
    "client = chromadb.PersistentClient(path=\"test\")"
   ]
  },
  {
   "cell_type": "code",
   "execution_count": 22,
   "metadata": {},
   "outputs": [],
   "source": [
    "# Function to chunk the DataFrame\n",
    "def chunk_dataframe(df, chunk_size):\n",
    "    for i in range(0, df.shape[0], chunk_size):\n",
    "        yield df.iloc[i : i + chunk_size]"
   ]
  },
  {
   "cell_type": "code",
   "execution_count": 23,
   "metadata": {},
   "outputs": [
    {
     "name": "stderr",
     "output_type": "stream",
     "text": [
      "huggingface/tokenizers: The current process just got forked, after parallelism has already been used. Disabling parallelism to avoid deadlocks...\n",
      "To disable this warning, you can either:\n",
      "\t- Avoid using `tokenizers` before the fork if possible\n",
      "\t- Explicitly set the environment variable TOKENIZERS_PARALLELISM=(true | false)\n",
      "100%|██████████| 57/57 [07:16<00:00,  7.66s/it]\n"
     ]
    }
   ],
   "source": [
    "# Define the chunk size\n",
    "chunk_size = 100  # Adjust the chunk size as needed\n",
    "\n",
    "# Process each chunk\n",
    "for chunk in tqdm(\n",
    "    chunk_dataframe(metadata_df, chunk_size), total=(len(metadata_df) // chunk_size) + 1\n",
    "):\n",
    "    ids = chunk[\"did\"].astype(str).tolist()\n",
    "    documents = chunk[\"description\"].astype(str).tolist()\n",
    "    metadatas = chunk.to_dict(orient=\"records\")\n",
    "\n",
    "    # Add to ChromaDB collection\n",
    "    collec.add(ids=ids, documents=documents, metadatas=metadatas)"
   ]
  },
  {
   "cell_type": "code",
   "execution_count": 29,
   "metadata": {},
   "outputs": [],
   "source": [
    "import pandas as pd"
   ]
  },
  {
   "cell_type": "code",
   "execution_count": 31,
   "metadata": {},
   "outputs": [
    {
     "data": {
      "text/html": [
       "<div>\n",
       "<style scoped>\n",
       "    .dataframe tbody tr th:only-of-type {\n",
       "        vertical-align: middle;\n",
       "    }\n",
       "\n",
       "    .dataframe tbody tr th {\n",
       "        vertical-align: top;\n",
       "    }\n",
       "\n",
       "    .dataframe thead th {\n",
       "        text-align: right;\n",
       "    }\n",
       "</style>\n",
       "<table border=\"1\" class=\"dataframe\">\n",
       "  <thead>\n",
       "    <tr style=\"text-align: right;\">\n",
       "      <th></th>\n",
       "      <th>data</th>\n",
       "      <th>documents</th>\n",
       "      <th>embeddings</th>\n",
       "      <th>ids</th>\n",
       "      <th>metadatas</th>\n",
       "      <th>uris</th>\n",
       "    </tr>\n",
       "  </thead>\n",
       "  <tbody>\n",
       "    <tr>\n",
       "      <th>0</th>\n",
       "      <td>None</td>\n",
       "      <td>**Author**:   \\n**Source**: Unknown -   \\n**Pl...</td>\n",
       "      <td>None</td>\n",
       "      <td>10</td>\n",
       "      <td>{'MajorityClassSize': 81.0, 'MaxNominalAttDist...</td>\n",
       "      <td>None</td>\n",
       "    </tr>\n",
       "    <tr>\n",
       "      <th>1</th>\n",
       "      <td>None</td>\n",
       "      <td>**Author**:   \\n**Source**: Unknown - Date unk...</td>\n",
       "      <td>None</td>\n",
       "      <td>1000</td>\n",
       "      <td>{'MajorityClassSize': 3481.0, 'MaxNominalAttDi...</td>\n",
       "      <td>None</td>\n",
       "    </tr>\n",
       "    <tr>\n",
       "      <th>2</th>\n",
       "      <td>None</td>\n",
       "      <td>**Author**:   \\n**Source**: Unknown - Date unk...</td>\n",
       "      <td>None</td>\n",
       "      <td>1001</td>\n",
       "      <td>{'MajorityClassSize': 70.0, 'MaxNominalAttDist...</td>\n",
       "      <td>None</td>\n",
       "    </tr>\n",
       "    <tr>\n",
       "      <th>3</th>\n",
       "      <td>None</td>\n",
       "      <td>**Author**:   \\n**Source**: Unknown - Date unk...</td>\n",
       "      <td>None</td>\n",
       "      <td>1002</td>\n",
       "      <td>{'MajorityClassSize': 6694.0, 'MaxNominalAttDi...</td>\n",
       "      <td>None</td>\n",
       "    </tr>\n",
       "    <tr>\n",
       "      <th>4</th>\n",
       "      <td>None</td>\n",
       "      <td>**Author**:   \\n**Source**: Unknown - Date unk...</td>\n",
       "      <td>None</td>\n",
       "      <td>1003</td>\n",
       "      <td>{'MajorityClassSize': 255.0, 'MaxNominalAttDis...</td>\n",
       "      <td>None</td>\n",
       "    </tr>\n",
       "    <tr>\n",
       "      <th>...</th>\n",
       "      <td>...</td>\n",
       "      <td>...</td>\n",
       "      <td>...</td>\n",
       "      <td>...</td>\n",
       "      <td>...</td>\n",
       "      <td>...</td>\n",
       "    </tr>\n",
       "    <tr>\n",
       "      <th>5685</th>\n",
       "      <td>None</td>\n",
       "      <td>**Author**:   \\n**Source**: Unknown - Date unk...</td>\n",
       "      <td>None</td>\n",
       "      <td>995</td>\n",
       "      <td>{'MajorityClassSize': 1800.0, 'MaxNominalAttDi...</td>\n",
       "      <td>None</td>\n",
       "    </tr>\n",
       "    <tr>\n",
       "      <th>5686</th>\n",
       "      <td>None</td>\n",
       "      <td>**Author**:   \\n**Source**: Unknown - Date unk...</td>\n",
       "      <td>None</td>\n",
       "      <td>996</td>\n",
       "      <td>{'MajorityClassSize': 138.0, 'MaxNominalAttDis...</td>\n",
       "      <td>None</td>\n",
       "    </tr>\n",
       "    <tr>\n",
       "      <th>5687</th>\n",
       "      <td>None</td>\n",
       "      <td>**Author**:   \\n**Source**: Unknown - Date unk...</td>\n",
       "      <td>None</td>\n",
       "      <td>997</td>\n",
       "      <td>{'MajorityClassSize': 337.0, 'MaxNominalAttDis...</td>\n",
       "      <td>None</td>\n",
       "    </tr>\n",
       "    <tr>\n",
       "      <th>5688</th>\n",
       "      <td>None</td>\n",
       "      <td>**Author**:   \\n**Source**: Unknown - Date unk...</td>\n",
       "      <td>None</td>\n",
       "      <td>998</td>\n",
       "      <td>{'MajorityClassSize': 33.0, 'MaxNominalAttDist...</td>\n",
       "      <td>None</td>\n",
       "    </tr>\n",
       "    <tr>\n",
       "      <th>5689</th>\n",
       "      <td>None</td>\n",
       "      <td>**Author**:   \\n**Source**: Unknown - Date unk...</td>\n",
       "      <td>None</td>\n",
       "      <td>999</td>\n",
       "      <td>{'MajorityClassSize': 169.0, 'MaxNominalAttDis...</td>\n",
       "      <td>None</td>\n",
       "    </tr>\n",
       "  </tbody>\n",
       "</table>\n",
       "<p>5690 rows × 6 columns</p>\n",
       "</div>"
      ],
      "text/plain": [
       "      data                                          documents embeddings  \\\n",
       "0     None  **Author**:   \\n**Source**: Unknown -   \\n**Pl...       None   \n",
       "1     None  **Author**:   \\n**Source**: Unknown - Date unk...       None   \n",
       "2     None  **Author**:   \\n**Source**: Unknown - Date unk...       None   \n",
       "3     None  **Author**:   \\n**Source**: Unknown - Date unk...       None   \n",
       "4     None  **Author**:   \\n**Source**: Unknown - Date unk...       None   \n",
       "...    ...                                                ...        ...   \n",
       "5685  None  **Author**:   \\n**Source**: Unknown - Date unk...       None   \n",
       "5686  None  **Author**:   \\n**Source**: Unknown - Date unk...       None   \n",
       "5687  None  **Author**:   \\n**Source**: Unknown - Date unk...       None   \n",
       "5688  None  **Author**:   \\n**Source**: Unknown - Date unk...       None   \n",
       "5689  None  **Author**:   \\n**Source**: Unknown - Date unk...       None   \n",
       "\n",
       "       ids                                          metadatas  uris  \n",
       "0       10  {'MajorityClassSize': 81.0, 'MaxNominalAttDist...  None  \n",
       "1     1000  {'MajorityClassSize': 3481.0, 'MaxNominalAttDi...  None  \n",
       "2     1001  {'MajorityClassSize': 70.0, 'MaxNominalAttDist...  None  \n",
       "3     1002  {'MajorityClassSize': 6694.0, 'MaxNominalAttDi...  None  \n",
       "4     1003  {'MajorityClassSize': 255.0, 'MaxNominalAttDis...  None  \n",
       "...    ...                                                ...   ...  \n",
       "5685   995  {'MajorityClassSize': 1800.0, 'MaxNominalAttDi...  None  \n",
       "5686   996  {'MajorityClassSize': 138.0, 'MaxNominalAttDis...  None  \n",
       "5687   997  {'MajorityClassSize': 337.0, 'MaxNominalAttDis...  None  \n",
       "5688   998  {'MajorityClassSize': 33.0, 'MaxNominalAttDist...  None  \n",
       "5689   999  {'MajorityClassSize': 169.0, 'MaxNominalAttDis...  None  \n",
       "\n",
       "[5690 rows x 6 columns]"
      ]
     },
     "execution_count": 31,
     "metadata": {},
     "output_type": "execute_result"
    }
   ],
   "source": [
    "pd.DataFrame.from_records(collec.get())"
   ]
  },
  {
   "cell_type": "code",
   "execution_count": 27,
   "metadata": {},
   "outputs": [
    {
     "data": {
      "text/plain": [
       "{'ids': ['2', '4', '6'],\n",
       " 'embeddings': None,\n",
       " 'metadatas': [{'MajorityClassSize': 684.0,\n",
       "   'MaxNominalAttDistinctValues': 7.0,\n",
       "   'MinorityClassSize': 8.0,\n",
       "   'NumberOfClasses': 5.0,\n",
       "   'NumberOfFeatures': 39.0,\n",
       "   'NumberOfInstances': 898.0,\n",
       "   'NumberOfInstancesWithMissingValues': 898.0,\n",
       "   'NumberOfMissingValues': 22175.0,\n",
       "   'NumberOfNumericFeatures': 6.0,\n",
       "   'NumberOfSymbolicFeatures': 33.0,\n",
       "   'Unnamed: 0': 0,\n",
       "   'description': \"**Author**: Unknown. Donated by David Sterling and Wray Buntine  \\n\\n**Source**: [UCI](https://archive.ics.uci.edu/ml/datasets/Annealing) - 1990  \\n\\n**Please cite**: [UCI](https://archive.ics.uci.edu/ml/citation_policy.html)  \\n\\n\\n\\nThe original Annealing dataset from UCI. The exact meaning of the features and classes is largely unknown. Annealing, in metallurgy and materials science, is a heat treatment that alters the physical and sometimes chemical properties of a material to increase its ductility and reduce its hardness, making it more workable. It involves heating a material to above its recrystallization temperature, maintaining a suitable temperature, and then cooling. (Wikipedia)\\n\\n\\n\\n### Attribute Information:\\n\\n     1. family:          --,GB,GK,GS,TN,ZA,ZF,ZH,ZM,ZS\\n\\n     2. product-type:    C, H, G\\n\\n     3. steel:           -,R,A,U,K,M,S,W,V\\n\\n     4. carbon:          continuous\\n\\n     5. hardness:        continuous\\n\\n     6. temper_rolling:  -,T\\n\\n     7. condition:       -,S,A,X\\n\\n     8. formability:     -,1,2,3,4,5\\n\\n     9. strength:        continuous\\n\\n    10. non-ageing:      -,N\\n\\n    11. surface-finish:  P,M,-\\n\\n    12. surface-quality: -,D,E,F,G\\n\\n    13. enamelability:   -,1,2,3,4,5\\n\\n    14. bc:              Y,-\\n\\n    15. bf:              Y,-\\n\\n    16. bt:              Y,-\\n\\n    17. bw/me:           B,M,-\\n\\n    18. bl:              Y,-\\n\\n    19. m:               Y,-\\n\\n    20. chrom:           C,-\\n\\n    21. phos:            P,-\\n\\n    22. cbond:           Y,-\\n\\n    23. marvi:           Y,-\\n\\n    24. exptl:           Y,-\\n\\n    25. ferro:           Y,-\\n\\n    26. corr:            Y,-\\n\\n    27. blue/bright/varn/clean:          B,R,V,C,-\\n\\n    28. lustre:          Y,-\\n\\n    29. jurofm:          Y,-\\n\\n    30. s:               Y,-\\n\\n    31. p:               Y,-\\n\\n    32. shape:           COIL, SHEET\\n\\n    33. thick:           continuous\\n\\n    34. width:           continuous\\n\\n    35. len:             continuous\\n\\n    36. oil:             -,Y,N\\n\\n    37. bore:            0000,0500,0600,0760\\n\\n    38. packing: -,1,2,3\\n\\n    classes:        1,2,3,4,5,U\\n\\n  \\n\\n    -- The '-' values are actually 'not_applicable' values rather than\\n\\n       'missing_values' (and so can be treated as legal discrete\\n\\n       values rather than as showing the absence of a discrete value).\",\n",
       "   'did': 2,\n",
       "   'features': '0 : [0 - family (nominal)], 1 : [1 - product-type (nominal)], 2 : [2 - steel (nominal)], 3 : [3 - carbon (numeric)], 4 : [4 - hardness (numeric)], 5 : [5 - temper_rolling (nominal)], 6 : [6 - condition (nominal)], 7 : [7 - formability (nominal)], 8 : [8 - strength (numeric)], 9 : [9 - non-ageing (nominal)], 10 : [10 - surface-finish (nominal)], 11 : [11 - surface-quality (nominal)], 12 : [12 - enamelability (nominal)], 13 : [13 - bc (nominal)], 14 : [14 - bf (nominal)], 15 : [15 - bt (nominal)], 16 : [16 - bw%2Fme (nominal)], 17 : [17 - bl (nominal)], 18 : [18 - m (nominal)], 19 : [19 - chrom (nominal)], 20 : [20 - phos (nominal)], 21 : [21 - cbond (nominal)], 22 : [22 - marvi (nominal)], 23 : [23 - exptl (nominal)], 24 : [24 - ferro (nominal)], 25 : [25 - corr (nominal)], 26 : [26 - blue%2Fbright%2Fvarn%2Fclean (nominal)], 27 : [27 - lustre (nominal)], 28 : [28 - jurofm (nominal)], 29 : [29 - s (nominal)], 30 : [30 - p (nominal)], 31 : [31 - shape (nominal)], 32 : [32 - thick (numeric)], 33 : [33 - width (numeric)], 34 : [34 - len (numeric)], 35 : [35 - oil (nominal)], 36 : [36 - bore (nominal)], 37 : [37 - packing (nominal)], 38 : [38 - class (nominal)],',\n",
       "   'format': 'ARFF',\n",
       "   'name': 'anneal',\n",
       "   'qualities': 'AutoCorrelation : 0.6064659977703456, CfsSubsetEval_DecisionStumpAUC : 0.9067742570970945, CfsSubsetEval_DecisionStumpErrRate : 0.13251670378619154, CfsSubsetEval_DecisionStumpKappa : 0.6191022730108037, CfsSubsetEval_NaiveBayesAUC : 0.9067742570970945, CfsSubsetEval_NaiveBayesErrRate : 0.13251670378619154, CfsSubsetEval_NaiveBayesKappa : 0.6191022730108037, CfsSubsetEval_kNN1NAUC : 0.9067742570970945, CfsSubsetEval_kNN1NErrRate : 0.13251670378619154, CfsSubsetEval_kNN1NKappa : 0.6191022730108037, ClassEntropy : 1.189833856204398, DecisionStumpAUC : 0.8652735384332186, DecisionStumpErrRate : 0.22828507795100222, DecisionStumpKappa : 0.4503332218612649, Dimensionality : 0.043429844097995544, EquivalentNumberOfAtts : 26.839183802676523, J48.00001.AUC : 0.9391585368767195, J48.00001.ErrRate : 0.10356347438752785, J48.00001.Kappa : 0.7043302166347443, J48.0001.AUC : 0.9391585368767195, J48.0001.ErrRate : 0.10356347438752785, J48.0001.Kappa : 0.7043302166347443, J48.001.AUC : 0.9391585368767195, J48.001.ErrRate : 0.10356347438752785, J48.001.Kappa : 0.7043302166347443, MajorityClassPercentage : 76.16926503340757, MajorityClassSize : 684.0, MaxAttributeEntropy : 1.8215224482924186, MaxKurtosisOfNumericAtts : 13.215477213878724, MaxMeansOfNumericAtts : 1263.0946547884187, MaxMutualInformation : 0.40908953764451, MaxNominalAttDistinctValues : 7.0, MaxSkewnessOfNumericAtts : 3.7616019689156888, MaxStdDevOfNumericAtts : 1871.3991072665933, MeanAttributeEntropy : 0.2515351603742048, MeanKurtosisOfNumericAtts : 4.6480244352098286, MeanMeansOfNumericAtts : 348.50426818856715, MeanMutualInformation : 0.044331968697414056, MeanNoiseToSignalRatio : 4.673900071775454, MeanNominalAttDistinctValues : 1.6363636363636362, MeanSkewnessOfNumericAtts : 2.0269825910719437, MeanStdDevOfNumericAtts : 405.17326983791025, MinAttributeEntropy : -0.0, MinKurtosisOfNumericAtts : -0.9723842038435437, MinMeansOfNumericAtts : 1.1985489977728285, MinMutualInformation : 0.0, MinNominalAttDistinctValues : 0.0, MinSkewnessOfNumericAtts : 0.07299048442083138, MinStdDevOfNumericAtts : 0.871208280971892, MinorityClassPercentage : 0.8908685968819599, MinorityClassSize : 8.0, NaiveBayesAUC : 0.9315907109421729, NaiveBayesErrRate : 0.24610244988864144, NaiveBayesKappa : 0.5569590016631507, NumberOfBinaryFeatures : 4.0, NumberOfClasses : 5.0, NumberOfFeatures : 39.0, NumberOfInstances : 898.0, NumberOfInstancesWithMissingValues : 898.0, NumberOfMissingValues : 22175.0, NumberOfNumericFeatures : 6.0, NumberOfSymbolicFeatures : 33.0, PercentageOfBinaryFeatures : 10.256410256410255, PercentageOfInstancesWithMissingValues : 100.0, PercentageOfMissingValues : 63.317343384158534, PercentageOfNumericFeatures : 15.384615384615385, PercentageOfSymbolicFeatures : 84.61538461538461, Quartile1AttributeEntropy : 0.0, Quartile1KurtosisOfNumericAtts : -0.40305022089010156, Quartile1MeansOfNumericAtts : 3.025695155902005, Quartile1MutualInformation : 0.0, Quartile1SkewnessOfNumericAtts : 0.967384603629726, Quartile1StdDevOfNumericAtts : 10.505435772171138, Quartile2AttributeEntropy : 0.0, Quartile2KurtosisOfNumericAtts : 1.6372437439142264, Quartile2MeansOfNumericAtts : 21.222160356347437, Quartile2MutualInformation : 0.0, Quartile2SkewnessOfNumericAtts : 1.6547313364025702, Quartile2StdDevOfNumericAtts : 69.85338529046133, Quartile3AttributeEntropy : 0.2385631077559124, Quartile3KurtosisOfNumericAtts : 12.741748058445403, Quartile3MeansOfNumericAtts : 901.2636692650334, Quartile3MutualInformation : 0.0206465881071925, Quartile3SkewnessOfNumericAtts : 3.7546438249219056, Quartile3StdDevOfNumericAtts : 771.8590427889504, REPTreeDepth1AUC : 0.962680369298288, REPTreeDepth1ErrRate : 0.08463251670378619, REPTreeDepth1Kappa : 0.768583383630482, REPTreeDepth2AUC : 0.962680369298288, REPTreeDepth2ErrRate : 0.08463251670378619, REPTreeDepth2Kappa : 0.768583383630482, REPTreeDepth3AUC : 0.962680369298288, REPTreeDepth3ErrRate : 0.08463251670378619, REPTreeDepth3Kappa : 0.768583383630482, RandomTreeDepth1AUC : 0.9296999989655875, RandomTreeDepth1ErrRate : 0.0801781737193764, RandomTreeDepth1Kappa : 0.7953250436852635, RandomTreeDepth2AUC : 0.9296999989655875, RandomTreeDepth2ErrRate : 0.0801781737193764, RandomTreeDepth2Kappa : 0.7953250436852635, RandomTreeDepth3AUC : 0.9296999989655875, RandomTreeDepth3ErrRate : 0.0801781737193764, RandomTreeDepth3Kappa : 0.7953250436852635, StdvNominalAttDistinctValues : 1.5576059718800395, kNN1NAUC : 0.8721948540771287, kNN1NErrRate : 0.06347438752783964, kNN1NKappa : 0.8261102938928316,',\n",
       "   'status': 'active',\n",
       "   'uploader': 1,\n",
       "   'version': 1},\n",
       "  {'MajorityClassSize': 37.0,\n",
       "   'MaxNominalAttDistinctValues': 3.0,\n",
       "   'MinorityClassSize': 20.0,\n",
       "   'NumberOfClasses': 2.0,\n",
       "   'NumberOfFeatures': 17.0,\n",
       "   'NumberOfInstances': 57.0,\n",
       "   'NumberOfInstancesWithMissingValues': 56.0,\n",
       "   'NumberOfMissingValues': 326.0,\n",
       "   'NumberOfNumericFeatures': 8.0,\n",
       "   'NumberOfSymbolicFeatures': 9.0,\n",
       "   'Unnamed: 0': 2,\n",
       "   'description': \"**Author**: Unknown\\n**Source**: Collective Barganing Review, Labour Canada\\n**Please cite**: https://archive.ics.uci.edu/ml/citation_policy.html\\n\\nDate: Tue, 15 Nov 88 15:44:08 EST\\n From: stan <stan@csi2.UofO.EDU>\\n To: aha@ICS.UCI.EDU\\n \\n 1. Title: Final settlements in labor negotitions in Canadian industry\\n \\n 2. Source Information\\n    -- Creators: Collective Barganing Review, montly publication,\\n       Labour Canada, Industrial Relations Information Service,\\n         Ottawa, Ontario, K1A 0J2, Canada, (819) 997-3117\\n         The data includes all collective agreements reached\\n         in the business and personal services sector for locals\\n         with at least 500 members (teachers, nurses, university\\n         staff, police, etc) in Canada in 87 and first quarter of 88.   \\n    -- Donor: Stan Matwin, Computer Science Dept, University of Ottawa,\\n                 34 Somerset East, K1N 9B4, (stan@uotcsi2.bitnet)\\n    -- Date: November 1988\\n  \\n 3. Past Usage:\\n    -- testing concept learning software, in particular\\n       an experimental method to learn two-tiered concept descriptions.\\n       The data was used to learn the description of an acceptable\\n       and unacceptable contract.\\n       The unacceptable contracts were either obtained by interviewing\\n       experts, or by inventing near misses.\\n       Examples of use are described in:\\n         Bergadano, F., Matwin, S., Michalski, R.,\\n         Zhang, J., Measuring Quality of Concept Descriptions, \\n         Procs. of the 3rd European Working Sessions on Learning,\\n         Glasgow, October 1988.\\n         Bergadano, F., Matwin, S., Michalski, R., Zhang, J.,\\n         Representing and Acquiring Imprecise and Context-dependent\\n         Concepts in Knowledge-based Systems, Procs. of ISMIS'88,\\n         North Holland, 1988.\\n 4. Relevant Information:\\n    -- data was used to test 2tier approach with learning\\n from positive and negative examples\\n \\n 5. Number of Instances: 57 \\n \\n 6. Number of Attributes: 16 \\n \\n 7. Attribute Information:\\n    1.  dur: duration of agreement \\n        [1..7]\\n    2   wage1.wage : wage increase in first year of contract \\n        [2.0 .. 7.0]\\n    3   wage2.wage : wage increase in second year of contract\\n        [2.0 .. 7.0]\\n    4   wage3.wage : wage increase in third year of contract\\n        [2.0 .. 7.0]\\n    5   cola : cost of living allowance \\n        [none, tcf, tc]\\n    6   hours.hrs : number of working hours during week\\n        [35 .. 40]\\n    7   pension : employer contributions to pension plan\\n        [none, ret_allw, empl_contr]\\n    8   stby_pay : standby pay\\n        [2 .. 25]\\n    9   shift_diff : shift differencial : supplement for work on II and III shift\\n        [1 .. 25]\\n   10   educ_allw.boolean : education allowance \\n        [true false]\\n   11   holidays : number of statutory holidays \\n        [9 .. 15]\\n   12   vacation : number of paid vacation days\\n        [ba, avg, gnr]\\n   13   lngtrm_disabil.boolean : \\n        employer's help during employee longterm disabil\\n        ity [true , false]\\n   14   dntl_ins : employers contribution towards the dental plan\\n        [none, half, full]\\n   15   bereavement.boolean : employer's financial contribution towards the \\n        covering the costs of bereavement\\n        [true , false]\\n   16   empl_hplan : employer's contribution towards the health plan\\n        [none, half, full]\\n \\n 8. Missing Attribute Values: None\\n \\n 9. Class Distribution:\\n \\n 10. Exceptions from format instructions: no commas between attribute values.\",\n",
       "   'did': 4,\n",
       "   'features': '0 : [0 - duration (numeric)], 1 : [1 - wage-increase-first-year (numeric)], 2 : [2 - wage-increase-second-year (numeric)], 3 : [3 - wage-increase-third-year (numeric)], 4 : [4 - cost-of-living-adjustment (nominal)], 5 : [5 - working-hours (numeric)], 6 : [6 - pension (nominal)], 7 : [7 - standby-pay (numeric)], 8 : [8 - shift-differential (numeric)], 9 : [9 - education-allowance (nominal)], 10 : [10 - statutory-holidays (numeric)], 11 : [11 - vacation (nominal)], 12 : [12 - longterm-disability-assistance (nominal)], 13 : [13 - contribution-to-dental-plan (nominal)], 14 : [14 - bereavement-assistance (nominal)], 15 : [15 - contribution-to-health-plan (nominal)], 16 : [16 - class (nominal)],',\n",
       "   'format': 'ARFF',\n",
       "   'name': 'labor',\n",
       "   'qualities': 'AutoCorrelation : 0.75, CfsSubsetEval_DecisionStumpAUC : 0.7297297297297297, CfsSubsetEval_DecisionStumpErrRate : 0.24561403508771928, CfsSubsetEval_DecisionStumpKappa : 0.4608108108108108, CfsSubsetEval_NaiveBayesAUC : 0.7297297297297297, CfsSubsetEval_NaiveBayesErrRate : 0.24561403508771928, CfsSubsetEval_NaiveBayesKappa : 0.4608108108108108, CfsSubsetEval_kNN1NAUC : 0.7297297297297297, CfsSubsetEval_kNN1NErrRate : 0.24561403508771928, CfsSubsetEval_kNN1NKappa : 0.4608108108108108, ClassEntropy : 0.9348490242345945, DecisionStumpAUC : 0.7378378378378379, DecisionStumpErrRate : 0.3157894736842105, DecisionStumpKappa : 0.32232496697490093, Dimensionality : 0.2982456140350877, EquivalentNumberOfAtts : 9.28828714469122, J48.00001.AUC : 0.8054054054054054, J48.00001.ErrRate : 0.2807017543859649, J48.00001.Kappa : 0.41085271317829464, J48.0001.AUC : 0.8054054054054054, J48.0001.ErrRate : 0.2807017543859649, J48.0001.Kappa : 0.41085271317829464, J48.001.AUC : 0.8054054054054054, J48.001.ErrRate : 0.2807017543859649, J48.001.Kappa : 0.41085271317829464, MajorityClassPercentage : 64.91228070175438, MajorityClassSize : 37.0, MaxAttributeEntropy : 1.5605046050671363, MaxKurtosisOfNumericAtts : 13.193068570995823, MaxMeansOfNumericAtts : 38.03921568627451, MaxMutualInformation : 0.24447257116933, MaxNominalAttDistinctValues : 3.0, MaxSkewnessOfNumericAtts : 3.3180638457844434, MaxStdDevOfNumericAtts : 5.027701042999452, MeanAttributeEntropy : 1.0383925362945712, MeanKurtosisOfNumericAtts : 2.046258446813748, MeanMeansOfNumericAtts : 9.412290709168722, MeanMutualInformation : 0.100648161460955, MeanNoiseToSignalRatio : 9.317054193755945, MeanNominalAttDistinctValues : 2.5555555555555554, MeanSkewnessOfNumericAtts : 0.2550756866594959, MeanStdDevOfNumericAtts : 2.2355097044693673, MinAttributeEntropy : 0.2974722489192897, MinKurtosisOfNumericAtts : -2.0354063518898693, MinMeansOfNumericAtts : 2.1607142857142856, MinMutualInformation : 0.01017528536252, MinNominalAttDistinctValues : 2.0, MinSkewnessOfNumericAtts : -2.0072170784082766, MinStdDevOfNumericAtts : 0.7077951864586436, MinorityClassPercentage : 35.08771929824561, MinorityClassSize : 20.0, NaiveBayesAUC : 0.9445945945945946, NaiveBayesErrRate : 0.07017543859649122, NaiveBayesKappa : 0.845945945945946, NumberOfBinaryFeatures : 4.0, NumberOfClasses : 2.0, NumberOfFeatures : 17.0, NumberOfInstances : 57.0, NumberOfInstancesWithMissingValues : 56.0, NumberOfMissingValues : 326.0, NumberOfNumericFeatures : 8.0, NumberOfSymbolicFeatures : 9.0, PercentageOfBinaryFeatures : 23.52941176470588, PercentageOfInstancesWithMissingValues : 98.24561403508771, PercentageOfMissingValues : 33.64293085655315, PercentageOfNumericFeatures : 47.05882352941176, PercentageOfSymbolicFeatures : 52.94117647058824, Quartile1AttributeEntropy : 0.6244896350927029, Quartile1KurtosisOfNumericAtts : -1.413442063840237, Quartile1MeansOfNumericAtts : 3.8310119047619047, Quartile1MutualInformation : 0.0336959149271975, Quartile1SkewnessOfNumericAtts : -0.5630562624901791, Quartile1StdDevOfNumericAtts : 1.187969733292903, Quartile2AttributeEntropy : 1.0889602035585444, Quartile2KurtosisOfNumericAtts : -0.2634387154565929, Quartile2MeansOfNumericAtts : 4.421353436185133, Quartile2MutualInformation : 0.07970808701396001, Quartile2SkewnessOfNumericAtts : 0.1585498852098189, Quartile2StdDevOfNumericAtts : 1.3374554220264092, Quartile3AttributeEntropy : 1.48049792155805, Quartile3KurtosisOfNumericAtts : 5.1804637540929885, Quartile3MeansOfNumericAtts : 10.181865828092244, Quartile3MutualInformation : 0.158427693407435, Quartile3SkewnessOfNumericAtts : 0.8086595304734336, Quartile3StdDevOfNumericAtts : 4.034545918750684, REPTreeDepth1AUC : 0.6040540540540541, REPTreeDepth1ErrRate : 0.21052631578947367, REPTreeDepth1Kappa : 0.5155807365439093, REPTreeDepth2AUC : 0.6040540540540541, REPTreeDepth2ErrRate : 0.21052631578947367, REPTreeDepth2Kappa : 0.5155807365439093, REPTreeDepth3AUC : 0.6040540540540541, REPTreeDepth3ErrRate : 0.21052631578947367, REPTreeDepth3Kappa : 0.5155807365439093, RandomTreeDepth1AUC : 0.7500711237553342, RandomTreeDepth1ErrRate : 0.2982456140350877, RandomTreeDepth1Kappa : 0.3376623376623376, RandomTreeDepth2AUC : 0.7500711237553342, RandomTreeDepth2ErrRate : 0.2982456140350877, RandomTreeDepth2Kappa : 0.3376623376623376, RandomTreeDepth3AUC : 0.7500711237553342, RandomTreeDepth3ErrRate : 0.2982456140350877, RandomTreeDepth3Kappa : 0.3376623376623376, StdvNominalAttDistinctValues : 0.5270462766947299, kNN1NAUC : 0.7675675675675676, kNN1NErrRate : 0.21052631578947367, kNN1NKappa : 0.5581395348837209,',\n",
       "   'status': 'active',\n",
       "   'uploader': 1,\n",
       "   'version': 1},\n",
       "  {'MajorityClassSize': 813.0,\n",
       "   'MaxNominalAttDistinctValues': 26.0,\n",
       "   'MinorityClassSize': 734.0,\n",
       "   'NumberOfClasses': 26.0,\n",
       "   'NumberOfFeatures': 17.0,\n",
       "   'NumberOfInstances': 20000.0,\n",
       "   'NumberOfInstancesWithMissingValues': 0.0,\n",
       "   'NumberOfMissingValues': 0.0,\n",
       "   'NumberOfNumericFeatures': 16.0,\n",
       "   'NumberOfSymbolicFeatures': 1.0,\n",
       "   'Unnamed: 0': 4,\n",
       "   'description': '**Author**: David J. Slate  \\n**Source**: [UCI](https://archive.ics.uci.edu/ml/datasets/Letter+Recognition) - 01-01-1991  \\n**Please cite**: P. W. Frey and D. J. Slate. \"Letter Recognition Using Holland-style Adaptive Classifiers\". Machine Learning 6(2), 1991  \\n\\n1. TITLE: \\n  Letter Image Recognition Data \\n \\n    The objective is to identify each of a large number of black-and-white\\n    rectangular pixel displays as one of the 26 capital letters in the English\\n    alphabet.  The character images were based on 20 different fonts and each\\n    letter within these 20 fonts was randomly distorted to produce a file of\\n    20,000 unique stimuli.  Each stimulus was converted into 16 primitive\\n    numerical attributes (statistical moments and edge counts) which were then\\n    scaled to fit into a range of integer values from 0 through 15.  We\\n    typically train on the first 16000 items and then use the resulting model\\n    to predict the letter category for the remaining 4000.  See the article\\n    cited above for more details.',\n",
       "   'did': 6,\n",
       "   'features': '0 : [0 - x-box (numeric)], 1 : [1 - y-box (numeric)], 2 : [2 - width (numeric)], 3 : [3 - high (numeric)], 4 : [4 - onpix (numeric)], 5 : [5 - x-bar (numeric)], 6 : [6 - y-bar (numeric)], 7 : [7 - x2bar (numeric)], 8 : [8 - y2bar (numeric)], 9 : [9 - xybar (numeric)], 10 : [10 - x2ybr (numeric)], 11 : [11 - xy2br (numeric)], 12 : [12 - x-ege (numeric)], 13 : [13 - xegvy (numeric)], 14 : [14 - y-ege (numeric)], 15 : [15 - yegvx (numeric)], 16 : [16 - class (nominal)],',\n",
       "   'format': 'ARFF',\n",
       "   'name': 'letter',\n",
       "   'qualities': 'AutoCorrelation : 0.04090204510225511, CfsSubsetEval_DecisionStumpAUC : 0.9425298055650914, CfsSubsetEval_DecisionStumpErrRate : 0.15215, CfsSubsetEval_DecisionStumpKappa : 0.841756863867533, CfsSubsetEval_NaiveBayesAUC : 0.9425298055650914, CfsSubsetEval_NaiveBayesErrRate : 0.15215, CfsSubsetEval_NaiveBayesKappa : 0.841756863867533, CfsSubsetEval_kNN1NAUC : 0.9425298055650914, CfsSubsetEval_kNN1NErrRate : 0.15215, CfsSubsetEval_kNN1NKappa : 0.841756863867533, ClassEntropy : 4.69981072657316, DecisionStumpAUC : 0.6574545268026781, DecisionStumpErrRate : 0.9293, DecisionStumpKappa : 0.03276976655404448, Dimensionality : 0.00085, EquivalentNumberOfAtts : nan, J48.00001.AUC : 0.9379676053125593, J48.00001.ErrRate : 0.15865, J48.00001.Kappa : 0.8349979241615618, J48.0001.AUC : 0.9379676053125593, J48.0001.ErrRate : 0.15865, J48.0001.Kappa : 0.8349979241615618, J48.001.AUC : 0.9379676053125593, J48.001.ErrRate : 0.15865, J48.001.Kappa : 0.8349979241615618, MajorityClassPercentage : 4.0649999999999995, MajorityClassSize : 813.0, MaxAttributeEntropy : nan, MaxKurtosisOfNumericAtts : 2.075245046157538, MaxMeansOfNumericAtts : 8.338849999999995, MaxMutualInformation : nan, MaxNominalAttDistinctValues : 26.0, MaxSkewnessOfNumericAtts : 1.1599750154235924, MaxStdDevOfNumericAtts : 3.304555303560269, MeanAttributeEntropy : nan, MeanKurtosisOfNumericAtts : 0.6977379005298701, MeanMeansOfNumericAtts : 5.925465624999998, MeanMutualInformation : nan, MeanNoiseToSignalRatio : nan, MeanNominalAttDistinctValues : 26.0, MeanSkewnessOfNumericAtts : 0.29029703410184804, MeanStdDevOfNumericAtts : 2.273771145446362, MinAttributeEntropy : nan, MinKurtosisOfNumericAtts : -0.4211788221168451, MinMeansOfNumericAtts : 3.046099999999995, MinMutualInformation : nan, MinNominalAttDistinctValues : 26.0, MinSkewnessOfNumericAtts : -0.31007906987268463, MinStdDevOfNumericAtts : 1.5467224363199539, MinorityClassPercentage : 3.6700000000000004, MinorityClassSize : 734.0, NaiveBayesAUC : 0.9559207236903551, NaiveBayesErrRate : 0.36025, NaiveBayesKappa : 0.6253250509940796, NumberOfBinaryFeatures : 0.0, NumberOfClasses : 26.0, NumberOfFeatures : 17.0, NumberOfInstances : 20000.0, NumberOfInstancesWithMissingValues : 0.0, NumberOfMissingValues : 0.0, NumberOfNumericFeatures : 16.0, NumberOfSymbolicFeatures : 1.0, PercentageOfBinaryFeatures : 0.0, PercentageOfInstancesWithMissingValues : 0.0, PercentageOfMissingValues : 0.0, PercentageOfNumericFeatures : 94.11764705882352, PercentageOfSymbolicFeatures : 5.88235294117647, Quartile1AttributeEntropy : nan, Quartile1KurtosisOfNumericAtts : 0.3091324958538607, Quartile1MeansOfNumericAtts : 4.174812499999999, Quartile1MutualInformation : nan, Quartile1SkewnessOfNumericAtts : -0.13733042812365298, Quartile1StdDevOfNumericAtts : 2.017438812826727, Quartile2AttributeEntropy : nan, Quartile2KurtosisOfNumericAtts : 0.8853044390128566, Quartile2MeansOfNumericAtts : 5.913225000000001, Quartile2MutualInformation : nan, Quartile2SkewnessOfNumericAtts : 0.2543345879398813, Quartile2StdDevOfNumericAtts : 2.2933721022270195, Quartile3AttributeEntropy : nan, Quartile3KurtosisOfNumericAtts : 1.1728389823381402, Quartile3MeansOfNumericAtts : 7.7260124999999995, Quartile3MutualInformation : nan, Quartile3SkewnessOfNumericAtts : 0.653378002627639, Quartile3StdDevOfNumericAtts : 2.5474231354919117, REPTreeDepth1AUC : 0.9544303249787935, REPTreeDepth1ErrRate : 0.20315, REPTreeDepth1Kappa : 0.7887152321892192, REPTreeDepth2AUC : 0.9544303249787935, REPTreeDepth2ErrRate : 0.20315, REPTreeDepth2Kappa : 0.7887152321892192, REPTreeDepth3AUC : 0.9544303249787935, REPTreeDepth3ErrRate : 0.20315, REPTreeDepth3Kappa : 0.7887152321892192, RandomTreeDepth1AUC : 0.9080139521161272, RandomTreeDepth1ErrRate : 0.1769, RandomTreeDepth1Kappa : 0.816017080292, RandomTreeDepth2AUC : 0.9080139521161272, RandomTreeDepth2ErrRate : 0.1769, RandomTreeDepth2Kappa : 0.816017080292, RandomTreeDepth3AUC : 0.9080139521161272, RandomTreeDepth3ErrRate : 0.1769, RandomTreeDepth3Kappa : 0.816017080292, StdvNominalAttDistinctValues : 0.0, kNN1NAUC : 0.9731018928391187, kNN1NErrRate : 0.05785, kNN1NKappa : 0.939833878217649,',\n",
       "   'status': 'active',\n",
       "   'uploader': 1,\n",
       "   'version': 1}],\n",
       " 'documents': [\"**Author**: Unknown. Donated by David Sterling and Wray Buntine  \\n\\n**Source**: [UCI](https://archive.ics.uci.edu/ml/datasets/Annealing) - 1990  \\n\\n**Please cite**: [UCI](https://archive.ics.uci.edu/ml/citation_policy.html)  \\n\\n\\n\\nThe original Annealing dataset from UCI. The exact meaning of the features and classes is largely unknown. Annealing, in metallurgy and materials science, is a heat treatment that alters the physical and sometimes chemical properties of a material to increase its ductility and reduce its hardness, making it more workable. It involves heating a material to above its recrystallization temperature, maintaining a suitable temperature, and then cooling. (Wikipedia)\\n\\n\\n\\n### Attribute Information:\\n\\n     1. family:          --,GB,GK,GS,TN,ZA,ZF,ZH,ZM,ZS\\n\\n     2. product-type:    C, H, G\\n\\n     3. steel:           -,R,A,U,K,M,S,W,V\\n\\n     4. carbon:          continuous\\n\\n     5. hardness:        continuous\\n\\n     6. temper_rolling:  -,T\\n\\n     7. condition:       -,S,A,X\\n\\n     8. formability:     -,1,2,3,4,5\\n\\n     9. strength:        continuous\\n\\n    10. non-ageing:      -,N\\n\\n    11. surface-finish:  P,M,-\\n\\n    12. surface-quality: -,D,E,F,G\\n\\n    13. enamelability:   -,1,2,3,4,5\\n\\n    14. bc:              Y,-\\n\\n    15. bf:              Y,-\\n\\n    16. bt:              Y,-\\n\\n    17. bw/me:           B,M,-\\n\\n    18. bl:              Y,-\\n\\n    19. m:               Y,-\\n\\n    20. chrom:           C,-\\n\\n    21. phos:            P,-\\n\\n    22. cbond:           Y,-\\n\\n    23. marvi:           Y,-\\n\\n    24. exptl:           Y,-\\n\\n    25. ferro:           Y,-\\n\\n    26. corr:            Y,-\\n\\n    27. blue/bright/varn/clean:          B,R,V,C,-\\n\\n    28. lustre:          Y,-\\n\\n    29. jurofm:          Y,-\\n\\n    30. s:               Y,-\\n\\n    31. p:               Y,-\\n\\n    32. shape:           COIL, SHEET\\n\\n    33. thick:           continuous\\n\\n    34. width:           continuous\\n\\n    35. len:             continuous\\n\\n    36. oil:             -,Y,N\\n\\n    37. bore:            0000,0500,0600,0760\\n\\n    38. packing: -,1,2,3\\n\\n    classes:        1,2,3,4,5,U\\n\\n  \\n\\n    -- The '-' values are actually 'not_applicable' values rather than\\n\\n       'missing_values' (and so can be treated as legal discrete\\n\\n       values rather than as showing the absence of a discrete value).\",\n",
       "  \"**Author**: Unknown\\n**Source**: Collective Barganing Review, Labour Canada\\n**Please cite**: https://archive.ics.uci.edu/ml/citation_policy.html\\n\\nDate: Tue, 15 Nov 88 15:44:08 EST\\n From: stan <stan@csi2.UofO.EDU>\\n To: aha@ICS.UCI.EDU\\n \\n 1. Title: Final settlements in labor negotitions in Canadian industry\\n \\n 2. Source Information\\n    -- Creators: Collective Barganing Review, montly publication,\\n       Labour Canada, Industrial Relations Information Service,\\n         Ottawa, Ontario, K1A 0J2, Canada, (819) 997-3117\\n         The data includes all collective agreements reached\\n         in the business and personal services sector for locals\\n         with at least 500 members (teachers, nurses, university\\n         staff, police, etc) in Canada in 87 and first quarter of 88.   \\n    -- Donor: Stan Matwin, Computer Science Dept, University of Ottawa,\\n                 34 Somerset East, K1N 9B4, (stan@uotcsi2.bitnet)\\n    -- Date: November 1988\\n  \\n 3. Past Usage:\\n    -- testing concept learning software, in particular\\n       an experimental method to learn two-tiered concept descriptions.\\n       The data was used to learn the description of an acceptable\\n       and unacceptable contract.\\n       The unacceptable contracts were either obtained by interviewing\\n       experts, or by inventing near misses.\\n       Examples of use are described in:\\n         Bergadano, F., Matwin, S., Michalski, R.,\\n         Zhang, J., Measuring Quality of Concept Descriptions, \\n         Procs. of the 3rd European Working Sessions on Learning,\\n         Glasgow, October 1988.\\n         Bergadano, F., Matwin, S., Michalski, R., Zhang, J.,\\n         Representing and Acquiring Imprecise and Context-dependent\\n         Concepts in Knowledge-based Systems, Procs. of ISMIS'88,\\n         North Holland, 1988.\\n 4. Relevant Information:\\n    -- data was used to test 2tier approach with learning\\n from positive and negative examples\\n \\n 5. Number of Instances: 57 \\n \\n 6. Number of Attributes: 16 \\n \\n 7. Attribute Information:\\n    1.  dur: duration of agreement \\n        [1..7]\\n    2   wage1.wage : wage increase in first year of contract \\n        [2.0 .. 7.0]\\n    3   wage2.wage : wage increase in second year of contract\\n        [2.0 .. 7.0]\\n    4   wage3.wage : wage increase in third year of contract\\n        [2.0 .. 7.0]\\n    5   cola : cost of living allowance \\n        [none, tcf, tc]\\n    6   hours.hrs : number of working hours during week\\n        [35 .. 40]\\n    7   pension : employer contributions to pension plan\\n        [none, ret_allw, empl_contr]\\n    8   stby_pay : standby pay\\n        [2 .. 25]\\n    9   shift_diff : shift differencial : supplement for work on II and III shift\\n        [1 .. 25]\\n   10   educ_allw.boolean : education allowance \\n        [true false]\\n   11   holidays : number of statutory holidays \\n        [9 .. 15]\\n   12   vacation : number of paid vacation days\\n        [ba, avg, gnr]\\n   13   lngtrm_disabil.boolean : \\n        employer's help during employee longterm disabil\\n        ity [true , false]\\n   14   dntl_ins : employers contribution towards the dental plan\\n        [none, half, full]\\n   15   bereavement.boolean : employer's financial contribution towards the \\n        covering the costs of bereavement\\n        [true , false]\\n   16   empl_hplan : employer's contribution towards the health plan\\n        [none, half, full]\\n \\n 8. Missing Attribute Values: None\\n \\n 9. Class Distribution:\\n \\n 10. Exceptions from format instructions: no commas between attribute values.\",\n",
       "  '**Author**: David J. Slate  \\n**Source**: [UCI](https://archive.ics.uci.edu/ml/datasets/Letter+Recognition) - 01-01-1991  \\n**Please cite**: P. W. Frey and D. J. Slate. \"Letter Recognition Using Holland-style Adaptive Classifiers\". Machine Learning 6(2), 1991  \\n\\n1. TITLE: \\n  Letter Image Recognition Data \\n \\n    The objective is to identify each of a large number of black-and-white\\n    rectangular pixel displays as one of the 26 capital letters in the English\\n    alphabet.  The character images were based on 20 different fonts and each\\n    letter within these 20 fonts was randomly distorted to produce a file of\\n    20,000 unique stimuli.  Each stimulus was converted into 16 primitive\\n    numerical attributes (statistical moments and edge counts) which were then\\n    scaled to fit into a range of integer values from 0 through 15.  We\\n    typically train on the first 16000 items and then use the resulting model\\n    to predict the letter category for the remaining 4000.  See the article\\n    cited above for more details.'],\n",
       " 'uris': None,\n",
       " 'data': None}"
      ]
     },
     "execution_count": 27,
     "metadata": {},
     "output_type": "execute_result"
    }
   ],
   "source": [
    "collec.get(ids=[\"2\", \"4\", \"6\"])"
   ]
  },
  {
   "cell_type": "code",
   "execution_count": null,
   "metadata": {},
   "outputs": [],
   "source": []
  }
 ],
 "metadata": {
  "kernelspec": {
   "display_name": "openml",
   "language": "python",
   "name": "python3"
  },
  "language_info": {
   "codemirror_mode": {
    "name": "ipython",
    "version": 3
   },
   "file_extension": ".py",
   "mimetype": "text/x-python",
   "name": "python",
   "nbconvert_exporter": "python",
   "pygments_lexer": "ipython3",
   "version": "3.10.14"
  }
 },
 "nbformat": 4,
 "nbformat_minor": 2
}
