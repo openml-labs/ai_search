{
 "cells": [
  {
   "cell_type": "code",
   "execution_count": 3,
   "metadata": {},
   "outputs": [],
   "source": [
    "import pandas as pd\n",
    "from pathlib import Path"
   ]
  },
  {
   "cell_type": "code",
   "execution_count": 4,
   "metadata": {},
   "outputs": [],
   "source": [
    "eval_path = Path(\"../../data/evaluation/\")\n",
    "load_eval_queries = pd.read_csv(eval_path / \"LLM Evaluation - Topic Queries.csv\")[\n",
    "    [\"Topic\", \"Dataset IDs\"]\n",
    "]"
   ]
  },
  {
   "cell_type": "code",
   "execution_count": 5,
   "metadata": {},
   "outputs": [],
   "source": [
    "# load_eval_queries = load_eval_queries.loc[50:]\n",
    "# load_eval_queries"
   ]
  },
  {
   "cell_type": "code",
   "execution_count": 6,
   "metadata": {},
   "outputs": [],
   "source": [
    "from collections import defaultdict\n",
    "\n",
    "dict_ids = defaultdict(list)\n",
    "\n",
    "for i, row in load_eval_queries.iterrows():\n",
    "    dids = row[\"Dataset IDs\"].split(\",\")\n",
    "    for did in dids:\n",
    "        dict_ids[did].append(row[\"Topic\"])\n",
    "dict_ids = dict(dict_ids)"
   ]
  },
  {
   "cell_type": "code",
   "execution_count": null,
   "metadata": {},
   "outputs": [],
   "source": []
  },
  {
   "cell_type": "code",
   "execution_count": null,
   "metadata": {},
   "outputs": [],
   "source": []
  },
  {
   "cell_type": "code",
   "execution_count": 1,
   "metadata": {},
   "outputs": [
    {
     "name": "stderr",
     "output_type": "stream",
     "text": [
      "/Users/smukherjee/.pyenv/versions/3.10.14/envs/openml/lib/python3.10/site-packages/tqdm/auto.py:21: TqdmWarning: IProgress not found. Please update jupyter and ipywidgets. See https://ipywidgets.readthedocs.io/en/stable/user_install.html\n",
      "  from .autonotebook import tqdm as notebook_tqdm\n"
     ]
    }
   ],
   "source": [
    "import pandas as pd\n",
    "from pathlib import Path\n",
    "import glob\n",
    "from tqdm.auto import tqdm\n",
    "import json"
   ]
  },
  {
   "cell_type": "code",
   "execution_count": 2,
   "metadata": {},
   "outputs": [],
   "source": [
    "eval_path = Path(\"../../data/evaluation/\")"
   ]
  },
  {
   "cell_type": "code",
   "execution_count": 3,
   "metadata": {},
   "outputs": [],
   "source": [
    "# load_eval_queries = pd.read_csv(eval_path / \"LLM Evaluation - Topic Queries.csv\")[[\"Topic\", \"Dataset IDs\"]]\n",
    "load_eval_queries = pd.read_csv(eval_path / \"merged_labels.csv\")[\n",
    "    [\"Topics\", \"Dataset IDs\"]\n",
    "]"
   ]
  },
  {
   "cell_type": "code",
   "execution_count": 4,
   "metadata": {},
   "outputs": [],
   "source": [
    "# read templates and add information to the queries\n",
    "with open(eval_path / \"query_templates.txt\", \"r\") as f:\n",
    "    query_templates = f.readlines()\n",
    "    query_templates = [x.strip() for x in query_templates]"
   ]
  },
  {
   "cell_type": "code",
   "execution_count": 5,
   "metadata": {},
   "outputs": [],
   "source": [
    "query_key_dict = {}\n",
    "for template in query_templates:\n",
    "    for row in load_eval_queries.itertuples():\n",
    "        new_query = f\"{template} {row[1]}\".strip()\n",
    "        # load_eval_queries.at[query, \"Query\"] = new_query\n",
    "        if new_query not in query_key_dict:\n",
    "            query_key_dict[new_query.strip()] = row[2]"
   ]
  },
  {
   "cell_type": "code",
   "execution_count": 15,
   "metadata": {},
   "outputs": [],
   "source": [
    "def create_results_dict(csv_files, query_key_dict):\n",
    "    merged_df = pd.DataFrame()\n",
    "\n",
    "    for exp_path in tqdm(csv_files):\n",
    "\n",
    "        exp = pd.read_csv(exp_path).rename(columns={\"did\": \"y_pred\"})\n",
    "        exp[\"llm_before_rag\"] = exp[\"llm_before_rag\"].fillna(\"None\")\n",
    "        exp[\"y_pred\"] = exp[\"y_pred\"].astype(str)\n",
    "        exp[\"query\"] = exp[\"query\"].str.strip()\n",
    "\n",
    "        exp[\"y_true\"] = exp[\"query\"].map(query_key_dict)\n",
    "\n",
    "        exp[\"y_true\"] = exp[\"y_true\"].str.split(\",\")\n",
    "\n",
    "        exp[\"exists_in\"] = [\n",
    "            any(x in y for x in y_pred)\n",
    "            for y_pred, y in zip(exp[\"y_pred\"], exp[\"y_true\"])\n",
    "        ]\n",
    "\n",
    "        merged_df = pd.concat([merged_df, exp])\n",
    "\n",
    "    return merged_df"
   ]
  },
  {
   "cell_type": "code",
   "execution_count": 16,
   "metadata": {},
   "outputs": [
    {
     "data": {
      "text/plain": [
       "['../../data/evaluation/Snowflake_snowflake-arctic-embed-l/Snowflake_snowflake-arctic-embed-l_phi3/results.csv',\n",
       " '../../data/evaluation/Snowflake_snowflake-arctic-embed-l/Snowflake_snowflake-arctic-embed-l_llama3/results.csv',\n",
       " '../../data/evaluation/BAAI_bge-large-en-v1.5/BAAI_bge-large-en-v1.5_phi3/results.csv',\n",
       " '../../data/evaluation/BAAI_bge-large-en-v1.5/BAAI_bge-large-en-v1.5_llama3/results.csv',\n",
       " '../../data/evaluation/BAAI_bge-base-en-v1.5/BAAI_bge-base-en-v1.5_phi3/results.csv',\n",
       " '../../data/evaluation/BAAI_bge-base-en-v1.5/BAAI_bge-base-en-v1.5_llama3/results.csv']"
      ]
     },
     "execution_count": 16,
     "metadata": {},
     "output_type": "execute_result"
    }
   ],
   "source": [
    "# glob all csv files in the experiments directory\n",
    "csv_files = glob.glob(str(eval_path / \"*/*/results.csv\"))\n",
    "csv_files"
   ]
  },
  {
   "cell_type": "code",
   "execution_count": 17,
   "metadata": {},
   "outputs": [
    {
     "name": "stderr",
     "output_type": "stream",
     "text": [
      " 17%|█▋        | 1/6 [00:00<00:00,  6.07it/s]"
     ]
    },
    {
     "name": "stdout",
     "output_type": "stream",
     "text": [
      "../../data/evaluation/Snowflake_snowflake-arctic-embed-l/Snowflake_snowflake-arctic-embed-l_phi3/results.csv\n",
      "../../data/evaluation/Snowflake_snowflake-arctic-embed-l/Snowflake_snowflake-arctic-embed-l_llama3/results.csv\n"
     ]
    },
    {
     "name": "stderr",
     "output_type": "stream",
     "text": [
      " 50%|█████     | 3/6 [00:00<00:00,  5.69it/s]"
     ]
    },
    {
     "name": "stdout",
     "output_type": "stream",
     "text": [
      "../../data/evaluation/BAAI_bge-large-en-v1.5/BAAI_bge-large-en-v1.5_phi3/results.csv\n",
      "../../data/evaluation/BAAI_bge-large-en-v1.5/BAAI_bge-large-en-v1.5_llama3/results.csv\n"
     ]
    },
    {
     "name": "stderr",
     "output_type": "stream",
     "text": [
      " 83%|████████▎ | 5/6 [00:00<00:00,  5.73it/s]"
     ]
    },
    {
     "name": "stdout",
     "output_type": "stream",
     "text": [
      "../../data/evaluation/BAAI_bge-base-en-v1.5/BAAI_bge-base-en-v1.5_phi3/results.csv\n"
     ]
    },
    {
     "name": "stderr",
     "output_type": "stream",
     "text": [
      "100%|██████████| 6/6 [00:00<00:00,  6.08it/s]"
     ]
    },
    {
     "name": "stdout",
     "output_type": "stream",
     "text": [
      "../../data/evaluation/BAAI_bge-base-en-v1.5/BAAI_bge-base-en-v1.5_llama3/results.csv\n"
     ]
    },
    {
     "name": "stderr",
     "output_type": "stream",
     "text": [
      "\n"
     ]
    }
   ],
   "source": [
    "results_df = create_results_dict(csv_files, query_key_dict=query_key_dict)"
   ]
  },
  {
   "cell_type": "code",
   "execution_count": 18,
   "metadata": {},
   "outputs": [
    {
     "data": {
      "text/plain": [
       "llm_before_rag\n",
       "None     276120\n",
       "True      92392\n",
       "False     92392\n",
       "Name: count, dtype: int64"
      ]
     },
     "execution_count": 18,
     "metadata": {},
     "output_type": "execute_result"
    }
   ],
   "source": [
    "results_df[\"llm_before_rag\"].value_counts()"
   ]
  },
  {
   "cell_type": "code",
   "execution_count": 20,
   "metadata": {},
   "outputs": [],
   "source": [
    "grouped_value_counts = results_df.groupby(\n",
    "    [\"embedding_model\", \"llm_model\", \"llm_before_rag\"]\n",
    ")[\"exists_in\"].value_counts()"
   ]
  },
  {
   "cell_type": "code",
   "execution_count": 21,
   "metadata": {},
   "outputs": [
    {
     "data": {
      "text/html": [
       "<div>\n",
       "<style scoped>\n",
       "    .dataframe tbody tr th:only-of-type {\n",
       "        vertical-align: middle;\n",
       "    }\n",
       "\n",
       "    .dataframe tbody tr th {\n",
       "        vertical-align: top;\n",
       "    }\n",
       "\n",
       "    .dataframe thead th {\n",
       "        text-align: right;\n",
       "    }\n",
       "</style>\n",
       "<table border=\"1\" class=\"dataframe\">\n",
       "  <thead>\n",
       "    <tr style=\"text-align: right;\">\n",
       "      <th></th>\n",
       "      <th></th>\n",
       "      <th></th>\n",
       "      <th></th>\n",
       "      <th>count</th>\n",
       "    </tr>\n",
       "    <tr>\n",
       "      <th>embedding_model</th>\n",
       "      <th>llm_model</th>\n",
       "      <th>llm_before_rag</th>\n",
       "      <th>exists_in</th>\n",
       "      <th></th>\n",
       "    </tr>\n",
       "  </thead>\n",
       "  <tbody>\n",
       "    <tr>\n",
       "      <th rowspan=\"12\" valign=\"top\">BAAI/bge-base-en-v1.5</th>\n",
       "      <th rowspan=\"6\" valign=\"top\">llama3</th>\n",
       "      <th rowspan=\"2\" valign=\"top\">False</th>\n",
       "      <th>False</th>\n",
       "      <td>14008</td>\n",
       "    </tr>\n",
       "    <tr>\n",
       "      <th>True</th>\n",
       "      <td>1168</td>\n",
       "    </tr>\n",
       "    <tr>\n",
       "      <th rowspan=\"2\" valign=\"top\">True</th>\n",
       "      <th>False</th>\n",
       "      <td>14008</td>\n",
       "    </tr>\n",
       "    <tr>\n",
       "      <th>True</th>\n",
       "      <td>1168</td>\n",
       "    </tr>\n",
       "    <tr>\n",
       "      <th rowspan=\"2\" valign=\"top\">None</th>\n",
       "      <th>False</th>\n",
       "      <td>43104</td>\n",
       "    </tr>\n",
       "    <tr>\n",
       "      <th>True</th>\n",
       "      <td>2916</td>\n",
       "    </tr>\n",
       "    <tr>\n",
       "      <th rowspan=\"6\" valign=\"top\">phi3</th>\n",
       "      <th rowspan=\"2\" valign=\"top\">False</th>\n",
       "      <th>False</th>\n",
       "      <td>14008</td>\n",
       "    </tr>\n",
       "    <tr>\n",
       "      <th>True</th>\n",
       "      <td>1168</td>\n",
       "    </tr>\n",
       "    <tr>\n",
       "      <th rowspan=\"2\" valign=\"top\">True</th>\n",
       "      <th>False</th>\n",
       "      <td>14008</td>\n",
       "    </tr>\n",
       "    <tr>\n",
       "      <th>True</th>\n",
       "      <td>1168</td>\n",
       "    </tr>\n",
       "    <tr>\n",
       "      <th rowspan=\"2\" valign=\"top\">None</th>\n",
       "      <th>False</th>\n",
       "      <td>43104</td>\n",
       "    </tr>\n",
       "    <tr>\n",
       "      <th>True</th>\n",
       "      <td>2916</td>\n",
       "    </tr>\n",
       "    <tr>\n",
       "      <th rowspan=\"12\" valign=\"top\">BAAI/bge-large-en-v1.5</th>\n",
       "      <th rowspan=\"6\" valign=\"top\">llama3</th>\n",
       "      <th rowspan=\"2\" valign=\"top\">False</th>\n",
       "      <th>False</th>\n",
       "      <td>13800</td>\n",
       "    </tr>\n",
       "    <tr>\n",
       "      <th>True</th>\n",
       "      <td>1171</td>\n",
       "    </tr>\n",
       "    <tr>\n",
       "      <th rowspan=\"2\" valign=\"top\">True</th>\n",
       "      <th>False</th>\n",
       "      <td>13800</td>\n",
       "    </tr>\n",
       "    <tr>\n",
       "      <th>True</th>\n",
       "      <td>1171</td>\n",
       "    </tr>\n",
       "    <tr>\n",
       "      <th rowspan=\"2\" valign=\"top\">None</th>\n",
       "      <th>False</th>\n",
       "      <td>43104</td>\n",
       "    </tr>\n",
       "    <tr>\n",
       "      <th>True</th>\n",
       "      <td>2916</td>\n",
       "    </tr>\n",
       "    <tr>\n",
       "      <th rowspan=\"6\" valign=\"top\">phi3</th>\n",
       "      <th rowspan=\"2\" valign=\"top\">False</th>\n",
       "      <th>False</th>\n",
       "      <td>13800</td>\n",
       "    </tr>\n",
       "    <tr>\n",
       "      <th>True</th>\n",
       "      <td>1171</td>\n",
       "    </tr>\n",
       "    <tr>\n",
       "      <th rowspan=\"2\" valign=\"top\">True</th>\n",
       "      <th>False</th>\n",
       "      <td>13800</td>\n",
       "    </tr>\n",
       "    <tr>\n",
       "      <th>True</th>\n",
       "      <td>1171</td>\n",
       "    </tr>\n",
       "    <tr>\n",
       "      <th rowspan=\"2\" valign=\"top\">None</th>\n",
       "      <th>False</th>\n",
       "      <td>43104</td>\n",
       "    </tr>\n",
       "    <tr>\n",
       "      <th>True</th>\n",
       "      <td>2916</td>\n",
       "    </tr>\n",
       "    <tr>\n",
       "      <th rowspan=\"12\" valign=\"top\">Snowflake/snowflake-arctic-embed-l</th>\n",
       "      <th rowspan=\"6\" valign=\"top\">llama3</th>\n",
       "      <th rowspan=\"2\" valign=\"top\">False</th>\n",
       "      <th>False</th>\n",
       "      <td>14802</td>\n",
       "    </tr>\n",
       "    <tr>\n",
       "      <th>True</th>\n",
       "      <td>1247</td>\n",
       "    </tr>\n",
       "    <tr>\n",
       "      <th rowspan=\"2\" valign=\"top\">True</th>\n",
       "      <th>False</th>\n",
       "      <td>14802</td>\n",
       "    </tr>\n",
       "    <tr>\n",
       "      <th>True</th>\n",
       "      <td>1247</td>\n",
       "    </tr>\n",
       "    <tr>\n",
       "      <th rowspan=\"2\" valign=\"top\">None</th>\n",
       "      <th>False</th>\n",
       "      <td>43104</td>\n",
       "    </tr>\n",
       "    <tr>\n",
       "      <th>True</th>\n",
       "      <td>2916</td>\n",
       "    </tr>\n",
       "    <tr>\n",
       "      <th rowspan=\"6\" valign=\"top\">phi3</th>\n",
       "      <th rowspan=\"2\" valign=\"top\">False</th>\n",
       "      <th>False</th>\n",
       "      <td>14802</td>\n",
       "    </tr>\n",
       "    <tr>\n",
       "      <th>True</th>\n",
       "      <td>1247</td>\n",
       "    </tr>\n",
       "    <tr>\n",
       "      <th rowspan=\"2\" valign=\"top\">True</th>\n",
       "      <th>False</th>\n",
       "      <td>14802</td>\n",
       "    </tr>\n",
       "    <tr>\n",
       "      <th>True</th>\n",
       "      <td>1247</td>\n",
       "    </tr>\n",
       "    <tr>\n",
       "      <th rowspan=\"2\" valign=\"top\">None</th>\n",
       "      <th>False</th>\n",
       "      <td>43104</td>\n",
       "    </tr>\n",
       "    <tr>\n",
       "      <th>True</th>\n",
       "      <td>2916</td>\n",
       "    </tr>\n",
       "  </tbody>\n",
       "</table>\n",
       "</div>"
      ],
      "text/plain": [
       "                                                                       count\n",
       "embedding_model                    llm_model llm_before_rag exists_in       \n",
       "BAAI/bge-base-en-v1.5              llama3    False          False      14008\n",
       "                                                            True        1168\n",
       "                                             True           False      14008\n",
       "                                                            True        1168\n",
       "                                             None           False      43104\n",
       "                                                            True        2916\n",
       "                                   phi3      False          False      14008\n",
       "                                                            True        1168\n",
       "                                             True           False      14008\n",
       "                                                            True        1168\n",
       "                                             None           False      43104\n",
       "                                                            True        2916\n",
       "BAAI/bge-large-en-v1.5             llama3    False          False      13800\n",
       "                                                            True        1171\n",
       "                                             True           False      13800\n",
       "                                                            True        1171\n",
       "                                             None           False      43104\n",
       "                                                            True        2916\n",
       "                                   phi3      False          False      13800\n",
       "                                                            True        1171\n",
       "                                             True           False      13800\n",
       "                                                            True        1171\n",
       "                                             None           False      43104\n",
       "                                                            True        2916\n",
       "Snowflake/snowflake-arctic-embed-l llama3    False          False      14802\n",
       "                                                            True        1247\n",
       "                                             True           False      14802\n",
       "                                                            True        1247\n",
       "                                             None           False      43104\n",
       "                                                            True        2916\n",
       "                                   phi3      False          False      14802\n",
       "                                                            True        1247\n",
       "                                             True           False      14802\n",
       "                                                            True        1247\n",
       "                                             None           False      43104\n",
       "                                                            True        2916"
      ]
     },
     "execution_count": 21,
     "metadata": {},
     "output_type": "execute_result"
    }
   ],
   "source": [
    "# pd.options.display.max_columns = None\n",
    "# pd.options.display.max_rows = None\n",
    "pd.DataFrame(grouped_value_counts)"
   ]
  }
 ],
 "metadata": {
  "kernelspec": {
   "display_name": "openml",
   "language": "python",
   "name": "python3"
  },
  "language_info": {
   "codemirror_mode": {
    "name": "ipython",
    "version": 3
   },
   "file_extension": ".py",
   "mimetype": "text/x-python",
   "name": "python",
   "nbconvert_exporter": "python",
   "pygments_lexer": "ipython3",
   "version": "3.10.14"
  }
 },
 "nbformat": 4,
 "nbformat_minor": 2
}
