{
 "cells": [
  {
   "cell_type": "code",
   "execution_count": 1,
   "metadata": {},
   "outputs": [
    {
     "name": "stderr",
     "output_type": "stream",
     "text": [
      "/Users/smukherjee/.pyenv/versions/3.10.14/envs/openml/lib/python3.10/site-packages/tqdm/auto.py:21: TqdmWarning: IProgress not found. Please update jupyter and ipywidgets. See https://ipywidgets.readthedocs.io/en/stable/user_install.html\n",
      "  from .autonotebook import tqdm as notebook_tqdm\n"
     ]
    }
   ],
   "source": [
    "import pandas as pd\n",
    "from pathlib import Path\n",
    "import pickle\n",
    "import glob\n",
    "from tqdm.auto import tqdm\n",
    "import json\n"
   ]
  },
  {
   "cell_type": "code",
   "execution_count": 2,
   "metadata": {},
   "outputs": [],
   "source": [
    "eval_path = Path(\"../../data/evaluation/\")"
   ]
  },
  {
   "cell_type": "code",
   "execution_count": 3,
   "metadata": {},
   "outputs": [],
   "source": [
    "load_eval_queries = pd.read_csv(eval_path / \"LLM Evaluation - Topic Queries.csv\")[[\"Topic\", \"Dataset IDs\"]]"
   ]
  },
  {
   "cell_type": "code",
   "execution_count": 4,
   "metadata": {},
   "outputs": [],
   "source": [
    "# read templates and add information to the queries\n",
    "with open(eval_path/ \"query_templates.txt\", \"r\") as f:\n",
    "    query_templates = f.readlines()\n",
    "    query_templates = [x.strip() for x in query_templates]"
   ]
  },
  {
   "cell_type": "code",
   "execution_count": 5,
   "metadata": {},
   "outputs": [],
   "source": [
    "query_key_dict = {}\n",
    "for template in query_templates:\n",
    "    for row in load_eval_queries.itertuples():\n",
    "        new_query = f\"{template} {row[1]}\"\n",
    "        # load_eval_queries.at[query, \"Query\"] = new_query\n",
    "        if new_query not in query_key_dict:\n",
    "            query_key_dict[new_query] = row[2]"
   ]
  },
  {
   "cell_type": "code",
   "execution_count": 6,
   "metadata": {},
   "outputs": [],
   "source": [
    "json.dump(query_key_dict, open(eval_path / \"query_key_dict.json\", \"w\"))"
   ]
  },
  {
   "cell_type": "code",
   "execution_count": 7,
   "metadata": {},
   "outputs": [],
   "source": [
    "query_key_dict = json.load(open(eval_path / \"query_key_dict.json\", \"r\"))"
   ]
  },
  {
   "cell_type": "code",
   "execution_count": 8,
   "metadata": {},
   "outputs": [],
   "source": [
    "\n",
    "def create_results_dict(csv_files, df_queries):\n",
    "    # Create a dictionary to store the results\n",
    "    results_dict = {}\n",
    "    \n",
    "    # Convert the df_queries DataFrame to a dictionary for faster lookup\n",
    "    query_dict = dict(zip(df_queries[\"query\"], df_queries[\"label\"]))\n",
    "\n",
    "    for exp_path in tqdm(csv_files):\n",
    "        folder_name = Path(exp_path).parent.name\n",
    "        exp = pd.read_csv(exp_path)\n",
    "\n",
    "        # Create y_pred\n",
    "        exp[\"y_pred\"] = exp[\"did\"].astype(str)\n",
    "\n",
    "        # Map true labels using the query dictionary\n",
    "        exp[\"y_true\"] = exp[\"query\"].map(query_dict)\n",
    "\n",
    "        # Calculate the number of correct and wrong predictions\n",
    "        exp[\"correct\"] = exp.apply(lambda row: row[\"y_pred\"] in row[\"y_true\"], axis=1)\n",
    "        correct = exp[\"correct\"].sum()\n",
    "        wrong = len(exp) - correct\n",
    "\n",
    "        # Store results in the dictionary\n",
    "        results_dict[folder_name] = {\"correct\": correct, \"wrong\": wrong}\n",
    "    \n",
    "    return results_dict"
   ]
  },
  {
   "cell_type": "code",
   "execution_count": 9,
   "metadata": {},
   "outputs": [
    {
     "data": {
      "text/plain": [
       "['../../data/evaluation/BAAI_bge-large-en-v1.5/BAAI_bge-large-en-v1.5_qwen2_1.5b/results.csv']"
      ]
     },
     "execution_count": 9,
     "metadata": {},
     "output_type": "execute_result"
    }
   ],
   "source": [
    "\n",
    "# glob all csv files in the experiments directory\n",
    "csv_files = glob.glob(str(eval_path / \"*/*/results.csv\"))\n",
    "csv_files"
   ]
  },
  {
   "cell_type": "code",
   "execution_count": 10,
   "metadata": {},
   "outputs": [],
   "source": [
    "exp_path = csv_files[0]"
   ]
  },
  {
   "cell_type": "code",
   "execution_count": 11,
   "metadata": {},
   "outputs": [
    {
     "data": {
      "text/html": [
       "<div>\n",
       "<style scoped>\n",
       "    .dataframe tbody tr th:only-of-type {\n",
       "        vertical-align: middle;\n",
       "    }\n",
       "\n",
       "    .dataframe tbody tr th {\n",
       "        vertical-align: top;\n",
       "    }\n",
       "\n",
       "    .dataframe thead th {\n",
       "        text-align: right;\n",
       "    }\n",
       "</style>\n",
       "<table border=\"1\" class=\"dataframe\">\n",
       "  <thead>\n",
       "    <tr style=\"text-align: right;\">\n",
       "      <th></th>\n",
       "      <th>Unnamed: 0</th>\n",
       "      <th>y_pred</th>\n",
       "      <th>name</th>\n",
       "      <th>query</th>\n",
       "      <th>llm_model</th>\n",
       "      <th>embedding_model</th>\n",
       "      <th>llm_before_rag</th>\n",
       "    </tr>\n",
       "  </thead>\n",
       "  <tbody>\n",
       "    <tr>\n",
       "      <th>0</th>\n",
       "      <td>0</td>\n",
       "      <td>179</td>\n",
       "      <td>adult</td>\n",
       "      <td>Find me a dataset about Annual crop yield</td>\n",
       "      <td>qwen2:1.5b</td>\n",
       "      <td>BAAI/bge-large-en-v1.5</td>\n",
       "      <td>True</td>\n",
       "    </tr>\n",
       "    <tr>\n",
       "      <th>1</th>\n",
       "      <td>1</td>\n",
       "      <td>509</td>\n",
       "      <td>places</td>\n",
       "      <td>Find me a dataset about Annual crop yield</td>\n",
       "      <td>qwen2:1.5b</td>\n",
       "      <td>BAAI/bge-large-en-v1.5</td>\n",
       "      <td>True</td>\n",
       "    </tr>\n",
       "    <tr>\n",
       "      <th>2</th>\n",
       "      <td>2</td>\n",
       "      <td>4535</td>\n",
       "      <td>Census-Income</td>\n",
       "      <td>Find me a dataset about Annual crop yield</td>\n",
       "      <td>qwen2:1.5b</td>\n",
       "      <td>BAAI/bge-large-en-v1.5</td>\n",
       "      <td>True</td>\n",
       "    </tr>\n",
       "    <tr>\n",
       "      <th>3</th>\n",
       "      <td>3</td>\n",
       "      <td>42972</td>\n",
       "      <td>chronic-kidney-disease</td>\n",
       "      <td>Find me a dataset about Annual crop yield</td>\n",
       "      <td>qwen2:1.5b</td>\n",
       "      <td>BAAI/bge-large-en-v1.5</td>\n",
       "      <td>True</td>\n",
       "    </tr>\n",
       "    <tr>\n",
       "      <th>4</th>\n",
       "      <td>4</td>\n",
       "      <td>43304</td>\n",
       "      <td>US-Accidents-(4.2-million-records)</td>\n",
       "      <td>Find me a dataset about Annual crop yield</td>\n",
       "      <td>qwen2:1.5b</td>\n",
       "      <td>BAAI/bge-large-en-v1.5</td>\n",
       "      <td>True</td>\n",
       "    </tr>\n",
       "  </tbody>\n",
       "</table>\n",
       "</div>"
      ],
      "text/plain": [
       "   Unnamed: 0  y_pred                                name  \\\n",
       "0           0     179                               adult   \n",
       "1           1     509                              places   \n",
       "2           2    4535                       Census-Income   \n",
       "3           3   42972              chronic-kidney-disease   \n",
       "4           4   43304  US-Accidents-(4.2-million-records)   \n",
       "\n",
       "                                       query   llm_model  \\\n",
       "0  Find me a dataset about Annual crop yield  qwen2:1.5b   \n",
       "1  Find me a dataset about Annual crop yield  qwen2:1.5b   \n",
       "2  Find me a dataset about Annual crop yield  qwen2:1.5b   \n",
       "3  Find me a dataset about Annual crop yield  qwen2:1.5b   \n",
       "4  Find me a dataset about Annual crop yield  qwen2:1.5b   \n",
       "\n",
       "          embedding_model llm_before_rag  \n",
       "0  BAAI/bge-large-en-v1.5           True  \n",
       "1  BAAI/bge-large-en-v1.5           True  \n",
       "2  BAAI/bge-large-en-v1.5           True  \n",
       "3  BAAI/bge-large-en-v1.5           True  \n",
       "4  BAAI/bge-large-en-v1.5           True  "
      ]
     },
     "execution_count": 11,
     "metadata": {},
     "output_type": "execute_result"
    }
   ],
   "source": [
    "folder_name = Path(exp_path).parent.name\n",
    "exp = pd.read_csv(exp_path).rename(columns={\"did\": \"y_pred\"})\n",
    "exp.head()"
   ]
  },
  {
   "cell_type": "code",
   "execution_count": 12,
   "metadata": {},
   "outputs": [
    {
     "data": {
      "text/plain": [
       "5703"
      ]
     },
     "execution_count": 12,
     "metadata": {},
     "output_type": "execute_result"
    }
   ],
   "source": [
    "len(exp[\"y_pred\"].unique())"
   ]
  },
  {
   "cell_type": "code",
   "execution_count": 13,
   "metadata": {},
   "outputs": [],
   "source": [
    "exp[\"y_true\"] = exp[\"query\"].map(query_key_dict)"
   ]
  },
  {
   "cell_type": "code",
   "execution_count": 14,
   "metadata": {},
   "outputs": [],
   "source": [
    "exp[\"y_true\"] = exp[\"y_true\"].str.split(\",\")"
   ]
  },
  {
   "cell_type": "code",
   "execution_count": 25,
   "metadata": {},
   "outputs": [
    {
     "data": {
      "text/html": [
       "<div>\n",
       "<style scoped>\n",
       "    .dataframe tbody tr th:only-of-type {\n",
       "        vertical-align: middle;\n",
       "    }\n",
       "\n",
       "    .dataframe tbody tr th {\n",
       "        vertical-align: top;\n",
       "    }\n",
       "\n",
       "    .dataframe thead th {\n",
       "        text-align: right;\n",
       "    }\n",
       "</style>\n",
       "<table border=\"1\" class=\"dataframe\">\n",
       "  <thead>\n",
       "    <tr style=\"text-align: right;\">\n",
       "      <th></th>\n",
       "      <th>Unnamed: 0</th>\n",
       "      <th>y_pred</th>\n",
       "      <th>name</th>\n",
       "      <th>query</th>\n",
       "      <th>llm_model</th>\n",
       "      <th>embedding_model</th>\n",
       "      <th>llm_before_rag</th>\n",
       "      <th>y_true</th>\n",
       "    </tr>\n",
       "  </thead>\n",
       "  <tbody>\n",
       "    <tr>\n",
       "      <th>0</th>\n",
       "      <td>0</td>\n",
       "      <td>179</td>\n",
       "      <td>adult</td>\n",
       "      <td>Find me a dataset about Annual crop yield</td>\n",
       "      <td>qwen2:1.5b</td>\n",
       "      <td>BAAI/bge-large-en-v1.5</td>\n",
       "      <td>True</td>\n",
       "      <td>[43760]</td>\n",
       "    </tr>\n",
       "    <tr>\n",
       "      <th>1</th>\n",
       "      <td>1</td>\n",
       "      <td>509</td>\n",
       "      <td>places</td>\n",
       "      <td>Find me a dataset about Annual crop yield</td>\n",
       "      <td>qwen2:1.5b</td>\n",
       "      <td>BAAI/bge-large-en-v1.5</td>\n",
       "      <td>True</td>\n",
       "      <td>[43760]</td>\n",
       "    </tr>\n",
       "  </tbody>\n",
       "</table>\n",
       "</div>"
      ],
      "text/plain": [
       "   Unnamed: 0  y_pred    name                                      query  \\\n",
       "0           0     179   adult  Find me a dataset about Annual crop yield   \n",
       "1           1     509  places  Find me a dataset about Annual crop yield   \n",
       "\n",
       "    llm_model         embedding_model llm_before_rag   y_true  \n",
       "0  qwen2:1.5b  BAAI/bge-large-en-v1.5           True  [43760]  \n",
       "1  qwen2:1.5b  BAAI/bge-large-en-v1.5           True  [43760]  "
      ]
     },
     "execution_count": 25,
     "metadata": {},
     "output_type": "execute_result"
    }
   ],
   "source": [
    "exp.head(2)"
   ]
  },
  {
   "cell_type": "code",
   "execution_count": 17,
   "metadata": {},
   "outputs": [],
   "source": [
    "from irmetrics.topk import rr\n",
    "import numpy as np"
   ]
  },
  {
   "cell_type": "code",
   "execution_count": 21,
   "metadata": {},
   "outputs": [
    {
     "data": {
      "text/plain": [
       "['43760']"
      ]
     },
     "execution_count": 21,
     "metadata": {},
     "output_type": "execute_result"
    }
   ],
   "source": [
    "exp[\"y_true\"].iloc[0]"
   ]
  },
  {
   "cell_type": "code",
   "execution_count": 22,
   "metadata": {},
   "outputs": [
    {
     "data": {
      "text/plain": [
       "179"
      ]
     },
     "execution_count": 22,
     "metadata": {},
     "output_type": "execute_result"
    }
   ],
   "source": [
    "exp[\"y_pred\"].iloc[0]"
   ]
  },
  {
   "cell_type": "code",
   "execution_count": 20,
   "metadata": {},
   "outputs": [
    {
     "data": {
      "text/plain": [
       "0.0"
      ]
     },
     "execution_count": 20,
     "metadata": {},
     "output_type": "execute_result"
    }
   ],
   "source": [
    "rr(exp[\"y_true\"].iloc[0], exp[\"y_pred\"].iloc[0])"
   ]
  },
  {
   "cell_type": "code",
   "execution_count": null,
   "metadata": {},
   "outputs": [],
   "source": [
    "# Map true labels using the query dictionary\n",
    "exp[\"y_true\"] = exp[\"query\"].map(query_dict)\n",
    "\n",
    "# Calculate the number of correct and wrong predictions\n",
    "exp[\"correct\"] = exp.apply(lambda row: row[\"y_pred\"] in row[\"y_true\"], axis=1)\n",
    "correct = exp[\"correct\"].sum()\n",
    "wrong = len(exp) - correct\n",
    "\n",
    "# Store results in the dictionary\n",
    "results_dict[folder_name] = {\"correct\": correct, \"wrong\": wrong}"
   ]
  },
  {
   "cell_type": "code",
   "execution_count": 50,
   "metadata": {},
   "outputs": [
    {
     "name": "stderr",
     "output_type": "stream",
     "text": [
      "100%|██████████| 1/1 [00:01<00:00,  1.46s/it]\n"
     ]
    }
   ],
   "source": [
    "\n",
    "# %%\n",
    "results_dict = create_results_dict(csv_files, df_queries)\n"
   ]
  },
  {
   "cell_type": "code",
   "execution_count": 53,
   "metadata": {},
   "outputs": [
    {
     "data": {
      "text/html": [
       "<div>\n",
       "<style scoped>\n",
       "    .dataframe tbody tr th:only-of-type {\n",
       "        vertical-align: middle;\n",
       "    }\n",
       "\n",
       "    .dataframe tbody tr th {\n",
       "        vertical-align: top;\n",
       "    }\n",
       "\n",
       "    .dataframe thead th {\n",
       "        text-align: right;\n",
       "    }\n",
       "</style>\n",
       "<table border=\"1\" class=\"dataframe\">\n",
       "  <thead>\n",
       "    <tr style=\"text-align: right;\">\n",
       "      <th></th>\n",
       "      <th>correct</th>\n",
       "      <th>wrong</th>\n",
       "    </tr>\n",
       "  </thead>\n",
       "  <tbody>\n",
       "    <tr>\n",
       "      <th>BAAI_bge-large-en-v1.5_qwen2_1.5b</th>\n",
       "      <td>1</td>\n",
       "      <td>373174</td>\n",
       "    </tr>\n",
       "  </tbody>\n",
       "</table>\n",
       "</div>"
      ],
      "text/plain": [
       "                                   correct   wrong\n",
       "BAAI_bge-large-en-v1.5_qwen2_1.5b        1  373174"
      ]
     },
     "execution_count": 53,
     "metadata": {},
     "output_type": "execute_result"
    }
   ],
   "source": [
    "\n",
    "# %%\n",
    "pd.DataFrame.from_dict(results_dict, orient=\"index\")\n",
    "\n",
    "# # %%\n",
    "# pd.DataFrame.from_dict(results_dict, orient=\"index\").to_csv(\n",
    "#     \"../../data/experiments/results.csv\"\n",
    "# )"
   ]
  }
 ],
 "metadata": {
  "kernelspec": {
   "display_name": "openml",
   "language": "python",
   "name": "python3"
  },
  "language_info": {
   "codemirror_mode": {
    "name": "ipython",
    "version": 3
   },
   "file_extension": ".py",
   "mimetype": "text/x-python",
   "name": "python",
   "nbconvert_exporter": "python",
   "pygments_lexer": "ipython3",
   "version": "3.10.14"
  }
 },
 "nbformat": 4,
 "nbformat_minor": 2
}
