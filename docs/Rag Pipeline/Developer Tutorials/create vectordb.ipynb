{
 "cells": [
  {
   "cell_type": "markdown",
   "metadata": {},
   "source": [
    "# Tutorial on creating a vector database with openml objects\n",
    "- How would you use the API to create a vector database with openml objects (datasets, flows etc)"
   ]
  },
  {
   "cell_type": "code",
   "execution_count": null,
   "metadata": {},
   "outputs": [],
   "source": [
    "from __future__ import annotations\n",
    "from langchain.globals import set_llm_cache\n",
    "from langchain_community.cache import SQLiteCache\n",
    "import os\n",
    "import sys\n",
    "import chromadb"
   ]
  },
  {
   "cell_type": "code",
   "execution_count": null,
   "metadata": {},
   "outputs": [],
   "source": [
    "from backend.modules.utils import *\n",
    "from backend.modules.rag_llm import *"
   ]
  },
  {
   "cell_type": "code",
   "execution_count": null,
   "metadata": {},
   "outputs": [],
   "source": [
    "config = load_config_and_device(\"../../../backend/config.json\")\n",
    "config[\"persist_dir\"] = \"../../data/doc_examples/chroma_db/\"\n",
    "config[\"data_dir\"] = \"../../data/doc_examples/\"\n",
    "config[\"type_of_data\"] = \"dataset\"\n",
    "config[\"training\"] = False\n",
    "config[\"testing_flag\"] = True  # set this to false while training, this is for demo\n",
    "config[\"test_subset\"] = True  # set this to false while training, this is for demo\n",
    "\n",
    "# load the persistent database using ChromaDB\n",
    "client = chromadb.PersistentClient(path=config[\"persist_dir\"])\n",
    "print(config)"
   ]
  },
  {
   "cell_type": "code",
   "execution_count": null,
   "metadata": {},
   "outputs": [],
   "source": [
    "qa_dataset_handler = QASetup(\n",
    "    config=config,\n",
    "    data_type=\"dataset\",\n",
    "    client=client,\n",
    ")"
   ]
  },
  {
   "cell_type": "code",
   "execution_count": null,
   "metadata": {},
   "outputs": [],
   "source": [
    "qa_dataset, _ = qa_dataset_handler.setup_vector_db_and_qa()"
   ]
  }
 ],
 "metadata": {
  "kernelspec": {
   "display_name": "openml",
   "language": "python",
   "name": "python3"
  },
  "language_info": {
   "codemirror_mode": {
    "name": "ipython",
    "version": 3
   },
   "file_extension": ".py",
   "mimetype": "text/x-python",
   "name": "python",
   "nbconvert_exporter": "python",
   "pygments_lexer": "ipython3",
   "version": "3.10.14"
  }
 },
 "nbformat": 4,
 "nbformat_minor": 2
}
