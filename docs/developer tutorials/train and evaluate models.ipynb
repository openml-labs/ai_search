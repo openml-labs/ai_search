{
 "cells": [
  {
   "cell_type": "markdown",
   "metadata": {},
   "source": [
    "# Tutorial on using multiple models for evaluation\n",
    "- This tutorial uses the file `multiple_model_utils.py` (in the same directory as this one) which contains the functions for training and evaluating multiple models. Please refer to the file for the implementation details!"
   ]
  },
  {
   "cell_type": "code",
   "execution_count": 8,
   "metadata": {},
   "outputs": [],
   "source": [
    "from __future__ import annotations\n",
    "from langchain_community.cache import SQLiteCache\n",
    "import os\n",
    "import sys\n",
    "import chromadb\n",
    "from pathlib import Path\n",
    "from tqdm import tqdm\n",
    "\n",
    "import pandas as pd\n",
    "# change the path to the backend directory\n",
    "sys.path.append(os.path.join(os.path.dirname(\".\"), '../../backend/'))\n",
    "from modules.utils import load_config_and_device\n",
    "from modules.results_gen import get_result_from_query"
   ]
  },
  {
   "cell_type": "code",
   "execution_count": null,
   "metadata": {},
   "outputs": [],
   "source": [
    "from multiple_model_utils import setup_vector_db_and_qa, ollama_setup, process_embedding_model_name_hf, process_llm_model_name_ollama"
   ]
  },
  {
   "cell_type": "code",
   "execution_count": 4,
   "metadata": {},
   "outputs": [
    {
     "name": "stdout",
     "output_type": "stream",
     "text": [
      "[INFO] Finding device.\n",
      "[INFO] Device found: mps\n"
     ]
    }
   ],
   "source": [
    "new_path = Path(\"../../backend/\")\n",
    "\n",
    "config = load_config_and_device(str(new_path / \"config.json\"), training = True)\n",
    "\n",
    "config[\"type_of_data\"] = \"dataset\"\n",
    "config[\"training\"] = True"
   ]
  },
  {
   "cell_type": "markdown",
   "metadata": {},
   "source": [
    "## Defining the models used\n",
    "- Embedding models are any from Huggingface hub\n",
    "- LLM models are any from Ollama library"
   ]
  },
  {
   "cell_type": "code",
   "execution_count": 5,
   "metadata": {},
   "outputs": [],
   "source": [
    "list_of_embedding_models = [\"BAAI/bge-large-en-v1.5\"]\n",
    "list_of_llm_models = [\"qwen2:1.5b\", \"phi3\", \"llama3\"]"
   ]
  },
  {
   "cell_type": "markdown",
   "metadata": {},
   "source": [
    "## Downloading the LLM models\n",
    "- PLEASE MAKE SURE YOU HAVE DOWNLOADED OLLAMA\n",
    "- Linux/Unix : ```curl -fsSL https://ollama.com/install.sh | sh```"
   ]
  },
  {
   "cell_type": "code",
   "execution_count": null,
   "metadata": {},
   "outputs": [],
   "source": [
    "ollama_setup(list_of_llm_models)"
   ]
  },
  {
   "cell_type": "markdown",
   "metadata": {},
   "source": [
    "## Aggregate multiple queries, count and save the results\n",
    "- This is part of the library already but is repeated here for clarity"
   ]
  },
  {
   "cell_type": "code",
   "execution_count": null,
   "metadata": {},
   "outputs": [],
   "source": [
    "def aggregate_multiple_queries_and_count(\n",
    "    queries, qa_dataset, config, group_cols=[\"id\", \"name\"], sort_by=\"query\", count=True\n",
    ") -> pd.DataFrame:\n",
    "    \"\"\"\n",
    "    Description: Aggregate the results of multiple queries into a single dataframe and count the number of times a dataset appears in the results\n",
    "\n",
    "    Input:\n",
    "        queries: List of queries\n",
    "        group_cols: List of columns to group by\n",
    "\n",
    "    Returns: Combined dataframe with the results of all queries\n",
    "    \"\"\"\n",
    "    combined_df = pd.DataFrame()\n",
    "    for query in tqdm(queries, total=len(queries)):\n",
    "        result_data_frame, _ = get_result_from_query(\n",
    "            query=query, qa=qa_dataset, type_of_query=\"dataset\", config=config\n",
    "        )\n",
    "        result_data_frame = result_data_frame[group_cols]\n",
    "        # Concat with combined_df with a column to store the query\n",
    "        result_data_frame[\"query\"] = query\n",
    "        result_data_frame[\"llm_model\"] = config[\"llm_model\"]\n",
    "        result_data_frame[\"embedding_model\"] = config[\"embedding_model\"]\n",
    "        combined_df = pd.concat([combined_df, result_data_frame])\n",
    "    if count:\n",
    "        combined_df = (\n",
    "            combined_df.groupby(group_cols)\n",
    "            .count()\n",
    "            .reset_index()\n",
    "            .sort_values(by=sort_by, ascending=False)\n",
    "        )\n",
    "\n",
    "    return combined_df"
   ]
  },
  {
   "cell_type": "markdown",
   "metadata": {},
   "source": [
    "## Override the original script to take a list of IDs as input\n",
    "- The original script creates a subset of the dataset for testing, but here we want to give it a list of dataset IDs to test on. \n",
    "- So, we also disable the test_subset behavior and use a modified `setup_vector_db_and_qa` function"
   ]
  },
  {
   "cell_type": "code",
   "execution_count": null,
   "metadata": {},
   "outputs": [],
   "source": [
    "def run_experiments_and_save_results(config, new_path, list_of_embedding_models,list_of_llm_models):\n",
    "    for embedding_model in tqdm(list_of_embedding_models, desc=\"Embedding Models\", total=len(list_of_embedding_models)):\n",
    "        for llm_model in tqdm(list_of_llm_models, desc=\"LLM Models\", total=len(list_of_llm_models)):\n",
    "            # update the config with the new embedding and llm models\n",
    "            config[\"embedding_model\"] = embedding_model\n",
    "            config[\"llm_model\"] = llm_model\n",
    "\n",
    "            # create a new experiment directory using a combination of the embedding model and llm model names\n",
    "            experiment_name = f\"{process_embedding_model_name_hf(embedding_model)}_{process_llm_model_name_ollama(llm_model)}\"\n",
    "            experiment_path = new_path/Path(f\"../data/experiments/{experiment_name}\")\n",
    "\n",
    "            # create the experiment directory if it does not exist\n",
    "            os.makedirs(experiment_path, exist_ok=True)\n",
    "        \n",
    "            # update the config with the new experiment directories\n",
    "            config[\"data_dir\"] = str(experiment_path)\n",
    "            config[\"persist_dir\"] = str(experiment_path / \"chroma_db\")\n",
    "\n",
    "            # save training details and config in a dataframe\n",
    "            config_df = pd.DataFrame.from_dict(config, orient='index').reset_index()\n",
    "            config_df.columns = ['Hyperparameter', 'Value']\n",
    "            config_df.to_csv(experiment_path / \"config.csv\", index=False)\n",
    "\n",
    "            # load the persistent database using ChromaDB\n",
    "            client = chromadb.PersistentClient(path=config[\"persist_dir\"])\n",
    "\n",
    "            # Run \"training\"\n",
    "            qa_dataset = setup_vector_db_and_qa(\n",
    "                config=config, data_type=config[\"type_of_data\"], client=client\n",
    "            )\n",
    "            \n",
    "            # # Run an evaluation by aggregating multiple queries and counting the results\n",
    "            # # TODO : Replace this evaluation with a more meaningful one\n",
    "            combined_df = aggregate_multiple_queries_and_count(queries,qa_dataset=qa_dataset, config=config, group_cols = [\"id\", \"name\"], sort_by=\"query\", count = False)\n",
    "\n",
    "            # # TODO : ADD LLM evaluation here when the function is ready\n",
    "\n",
    "            combined_df.to_csv(experiment_path / \"results.csv\")\n"
   ]
  },
  {
   "cell_type": "markdown",
   "metadata": {},
   "source": [
    "## Setup evaluation data"
   ]
  }
 ],
 "metadata": {
  "kernelspec": {
   "display_name": "openml",
   "language": "python",
   "name": "python3"
  },
  "language_info": {
   "codemirror_mode": {
    "name": "ipython",
    "version": 3
   },
   "file_extension": ".py",
   "mimetype": "text/x-python",
   "name": "python",
   "nbconvert_exporter": "python",
   "pygments_lexer": "ipython3",
   "version": "3.10.14"
  }
 },
 "nbformat": 4,
 "nbformat_minor": 2
}
