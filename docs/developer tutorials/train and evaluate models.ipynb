{
 "cells": [
  {
   "cell_type": "markdown",
   "metadata": {},
   "source": [
    "# Tutorial on using multiple models for evaluation\n",
    "- This tutorial is an example of how to test multiple models on the openml data to see which one performs the best.\n",
    "- The evaluation is still a bit basic, but it is a good starting point for future research."
   ]
  },
  {
   "cell_type": "code",
   "execution_count": 1,
   "metadata": {},
   "outputs": [],
   "source": [
    "from __future__ import annotations\n",
    "from langchain_community.cache import SQLiteCache\n",
    "import os\n",
    "import sys\n",
    "import chromadb\n",
    "from pathlib import Path\n",
    "from tqdm import tqdm\n",
    "\n",
    "import pandas as pd\n",
    "# change the path to the backend directory\n",
    "sys.path.append(os.path.join(os.path.dirname(\".\"), '../../backend/'))"
   ]
  },
  {
   "cell_type": "code",
   "execution_count": 2,
   "metadata": {},
   "outputs": [
    {
     "name": "stderr",
     "output_type": "stream",
     "text": [
      "/Users/smukherjee/.pyenv/versions/3.10.14/envs/openml/lib/python3.10/site-packages/tqdm/auto.py:21: TqdmWarning: IProgress not found. Please update jupyter and ipywidgets. See https://ipywidgets.readthedocs.io/en/stable/user_install.html\n",
      "  from .autonotebook import tqdm as notebook_tqdm\n"
     ]
    }
   ],
   "source": [
    "from modules.utils import load_config_and_device\n",
    "from modules.llm import *\n",
    "from modules.results_gen import aggregate_multiple_queries_and_count"
   ]
  },
  {
   "cell_type": "markdown",
   "metadata": {},
   "source": [
    "## Setting the config"
   ]
  },
  {
   "cell_type": "code",
   "execution_count": 3,
   "metadata": {},
   "outputs": [
    {
     "name": "stdout",
     "output_type": "stream",
     "text": [
      "[INFO] Finding device.\n",
      "[INFO] Device found: mps\n"
     ]
    }
   ],
   "source": [
    "new_path = Path(\"../../backend/\")\n",
    "\n",
    "config = load_config_and_device(str(new_path / \"config.json\"), training = True)\n",
    "\n",
    "config[\"type_of_data\"] = \"dataset\"\n",
    "config[\"training\"] = True"
   ]
  },
  {
   "cell_type": "markdown",
   "metadata": {},
   "source": [
    "## Defining the models used\n",
    "- Embedding models are any from Huggingface hub\n",
    "- LLM models are any from Ollama library"
   ]
  },
  {
   "cell_type": "code",
   "execution_count": 4,
   "metadata": {},
   "outputs": [],
   "source": [
    "# list_of_embedding_models = [\"BAAI/bge-small-en-v1.5\", \"Alibaba-NLP/gte-Qwen2-1.5B-instruct\"]\n",
    "list_of_embedding_models = [\"BAAI/bge-large-en-v1.5\"]\n",
    "list_of_llm_models = [\"qwen2:1.5b\", \"phi3\", \"llama3\"]"
   ]
  },
  {
   "cell_type": "code",
   "execution_count": 5,
   "metadata": {},
   "outputs": [],
   "source": [
    "def process_embedding_model_name_hf(name : str) -> str:\n",
    "    \"\"\"\n",
    "    Description: This function processes the name of the embedding model from Hugging Face to use as experiment name.\n",
    "    \n",
    "    Input: name (str) - name of the embedding model from Hugging Face.\n",
    "    \n",
    "    Returns: name (str) - processed name of the embedding model.\n",
    "    \"\"\"\n",
    "    return name.replace(\"/\", \"_\")\n",
    "\n",
    "def process_llm_model_name_ollama(name : str) -> str:\n",
    "    \"\"\"\n",
    "    Description: This function processes the name of the llm model from Ollama to use as experiment name.\n",
    "    \n",
    "    Input: name (str) - name of the llm model from Ollama.\n",
    "\n",
    "    Returns: name (str) - processed name of the llm model.\n",
    "    \"\"\"\n",
    "    return name.replace(\":\", \"_\")"
   ]
  },
  {
   "cell_type": "markdown",
   "metadata": {},
   "source": [
    "## Defining the evaluation queries\n",
    "- replace this with a proper dataframe for a more comprehensive evaluation"
   ]
  },
  {
   "cell_type": "code",
   "execution_count": 6,
   "metadata": {},
   "outputs": [],
   "source": [
    "# queries = [\"Find datasets related to COVID-19\", \"Find datasets related to COVID-19 and India\", \"COVID-19 dataset\", \"COVID-19 dataset India\", \"Mexico historical covid\"]"
   ]
  },
  {
   "cell_type": "markdown",
   "metadata": {},
   "source": [
    "## Downloading the models\n",
    "- PLEASE MAKE SURE YOU HAVE DOWNLOADED OLLAMA (```curl -fsSL https://ollama.com/install.sh | sh```)"
   ]
  },
  {
   "cell_type": "code",
   "execution_count": 7,
   "metadata": {},
   "outputs": [
    {
     "name": "stderr",
     "output_type": "stream",
     "text": [
      "Error: listen tcp 127.0.0.1:11434: bind: address already in use\n"
     ]
    },
    {
     "name": "stdout",
     "output_type": "stream",
     "text": [
      "Waiting for Ollama server to be active...\n",
      "NAME         \tID          \tSIZE  \tMODIFIED      \n"
     ]
    },
    {
     "name": "stderr",
     "output_type": "stream",
     "text": [
      "\u001b[?25lpulling manifest ⠋ \u001b[?25h\u001b[?25l\u001b[2K\u001b[1Gpulling manifest ⠙ \u001b[?25h\u001b[?25l\u001b[2K\u001b[1Gpulling manifest ⠹ \u001b[?25h\u001b[?25l\u001b[2K\u001b[1Gpulling manifest ⠸ \u001b[?25h\u001b[?25l\u001b[2K\u001b[1Gpulling manifest ⠼ \u001b[?25h\u001b[?25l\u001b[2K\u001b[1Gpulling manifest ⠴ \u001b[?25h\u001b[?25l\u001b[2K\u001b[1Gpulling manifest ⠦ \u001b[?25h\u001b[?25l\u001b[2K\u001b[1Gpulling manifest ⠧ \u001b[?25h\u001b[?25l\u001b[2K\u001b[1Gpulling manifest ⠇ \u001b[?25h\u001b[?25l\u001b[2K\u001b[1Gpulling manifest ⠏ \u001b[?25h\u001b[?25l\u001b[2K\u001b[1Gpulling manifest ⠋ \u001b[?25h\u001b[?25l\u001b[2K\u001b[1Gpulling manifest ⠙ \u001b[?25h\u001b[?25l\u001b[2K\u001b[1Gpulling manifest ⠹ \u001b[?25h\u001b[?25l\u001b[2K\u001b[1Gpulling manifest ⠸ \u001b[?25h\u001b[?25l\u001b[2K\u001b[1Gpulling manifest ⠼ \u001b[?25h\u001b[?25l\u001b[2K\u001b[1Gpulling manifest ⠴ \u001b[?25h\u001b[?25l\u001b[2K\u001b[1Gpulling manifest ⠦ \u001b[?25h\u001b[?25l\u001b[2K\u001b[1Gpulling manifest ⠧ \u001b[?25h\u001b[?25l\u001b[2K\u001b[1Gpulling manifest ⠇ \u001b[?25h\u001b[?25l\u001b[2K\u001b[1Gpulling manifest ⠏ \u001b[?25h\u001b[?25l\u001b[2K\u001b[1Gpulling manifest ⠋ \u001b[?25h\u001b[?25l\u001b[2K\u001b[1Gpulling manifest ⠙ \u001b[?25h\u001b[?25l\u001b[2K\u001b[1Gpulling manifest ⠹ \u001b[?25h\u001b[?25l\u001b[2K\u001b[1Gpulling manifest ⠸ \u001b[?25h\u001b[?25l\u001b[2K\u001b[1Gpulling manifest ⠼ \u001b[?25h\u001b[?25l\u001b[2K\u001b[1Gpulling manifest ⠴ \u001b[?25h\u001b[?25l\u001b[2K\u001b[1Gpulling manifest ⠦ \u001b[?25h\u001b[?25l\u001b[2K\u001b[1Gpulling manifest ⠧ \u001b[?25h\u001b[?25l\u001b[2K\u001b[1Gpulling manifest ⠇ \u001b[?25h\u001b[?25l\u001b[2K\u001b[1Gpulling manifest ⠏ \u001b[?25h\u001b[?25l\u001b[2K\u001b[1Gpulling manifest ⠋ \u001b[?25h\u001b[?25l\u001b[2K\u001b[1Gpulling manifest ⠙ \u001b[?25h\u001b[?25l\u001b[2K\u001b[1Gpulling manifest ⠹ \u001b[?25h\u001b[?25l\u001b[2K\u001b[1Gpulling manifest ⠸ \u001b[?25h\u001b[?25l\u001b[2K\u001b[1Gpulling manifest ⠼ \u001b[?25h\u001b[?25l\u001b[2K\u001b[1Gpulling manifest ⠴ \u001b[?25h\u001b[?25l\u001b[2K\u001b[1Gpulling manifest \n",
      "pulling 405b56374e02... 100% ▕████████████████▏ 934 MB                         \n",
      "pulling 62fbfd9ed093... 100% ▕████████████████▏  182 B                         \n",
      "pulling c156170b718e... 100% ▕████████████████▏  11 KB                         \n",
      "pulling f02dd72bb242... 100% ▕████████████████▏   59 B                         \n",
      "pulling c9f5e9ffbc5f... 100% ▕████████████████▏  485 B                         \n",
      "verifying sha256 digest \n",
      "writing manifest \n",
      "removing any unused layers \n",
      "success \u001b[?25h\n",
      "\u001b[?25lpulling manifest ⠋ \u001b[?25h\u001b[?25l\u001b[2K\u001b[1Gpulling manifest ⠙ \u001b[?25h\u001b[?25l\u001b[2K\u001b[1Gpulling manifest ⠹ \u001b[?25h\u001b[?25l\u001b[2K\u001b[1Gpulling manifest ⠸ \u001b[?25h\u001b[?25l\u001b[2K\u001b[1Gpulling manifest ⠼ \u001b[?25h\u001b[?25l\u001b[2K\u001b[1Gpulling manifest \n",
      "pulling 3e38718d00bb... 100% ▕████████████████▏ 2.2 GB                         \n",
      "pulling fa8235e5b48f... 100% ▕████████████████▏ 1.1 KB                         \n",
      "pulling 542b217f179c... 100% ▕████████████████▏  148 B                         \n",
      "pulling 8dde1baf1db0... 100% ▕████████████████▏   78 B                         \n",
      "pulling ed7ab7698fdd... 100% ▕████████████████▏  483 B                         \n",
      "verifying sha256 digest \n",
      "writing manifest \n",
      "removing any unused layers \n",
      "success \u001b[?25h\n",
      "\u001b[?25lpulling manifest ⠋ \u001b[?25h\u001b[?25l\u001b[2K\u001b[1Gpulling manifest ⠙ \u001b[?25h\u001b[?25l\u001b[2K\u001b[1Gpulling manifest ⠹ \u001b[?25h\u001b[?25l\u001b[2K\u001b[1Gpulling manifest ⠸ \u001b[?25h\u001b[?25l\u001b[2K\u001b[1Gpulling manifest ⠼ \u001b[?25h\u001b[?25l\u001b[2K\u001b[1Gpulling manifest \n",
      "pulling 6a0746a1ec1a... 100% ▕████████████████▏ 4.7 GB                         \n",
      "pulling 4fa551d4f938... 100% ▕████████████████▏  12 KB                         \n",
      "pulling 8ab4849b038c... 100% ▕████████████████▏  254 B                         \n",
      "pulling 577073ffcc6c... 100% ▕████████████████▏  110 B                         \n",
      "pulling 3f8eb4da87fa... 100% ▕████████████████▏  485 B                         \n",
      "verifying sha256 digest \n",
      "writing manifest \n",
      "removing any unused layers ⠋ \u001b[?25h\u001b[?25l\u001b[2K\u001b[1G\u001b[A\u001b[2K\u001b[1G\u001b[A\u001b[2K\u001b[1G\u001b[A\u001b[2K\u001b[1G\u001b[A\u001b[2K\u001b[1G\u001b[A\u001b[2K\u001b[1G\u001b[A\u001b[2K\u001b[1G\u001b[A\u001b[2K\u001b[1G\u001b[A\u001b[2K\u001b[1Gpulling manifest \n",
      "pulling 6a0746a1ec1a... 100% ▕████████████████▏ 4.7 GB                         \n",
      "pulling 4fa551d4f938... 100% ▕████████████████▏  12 KB                         \n",
      "pulling 8ab4849b038c... 100% ▕████████████████▏  254 B                         \n",
      "pulling 577073ffcc6c... 100% ▕████████████████▏  110 B                         \n",
      "pulling 3f8eb4da87fa... 100% ▕████████████████▏  485 B                         \n",
      "verifying sha256 digest \n",
      "writing manifest \n",
      "removing any unused layers \n",
      "success \u001b[?25h\n"
     ]
    }
   ],
   "source": [
    "# download the ollama llm models\n",
    "\n",
    "# os.system(\"curl -fsSL https://ollama.com/install.sh | sh\")\n",
    "os.system(\"ollama serve&\")\n",
    "print(\"Waiting for Ollama server to be active...\")  \n",
    "while os.system(\"ollama list | grep 'NAME'\") == \"\":\n",
    "    pass\n",
    "\n",
    "for llm_model in list_of_llm_models:\n",
    "    os.system(f\"ollama pull {llm_model}\")"
   ]
  },
  {
   "cell_type": "markdown",
   "metadata": {},
   "source": [
    "## Running the steps\n",
    "- Create an experiment directory\n",
    "- Save a config file with the models and the queries in the experiment directory\n",
    "- Download openml data for each dataset and format into a string\n",
    "- Create vectorb and embed the data\n",
    "- Get the predictions for each model for a list of queries and evaluate the performance\n",
    "- (note) At the moment, this runs for a very small subset of the entire data. To disable this behavior and run on the entire data, set ```config[\"test_subset_2000\"] = False```"
   ]
  },
  {
   "cell_type": "markdown",
   "metadata": {},
   "source": [
    "### Override setup_vector_db_and_qa to use a list of IDs instead of all of them"
   ]
  },
  {
   "cell_type": "code",
   "execution_count": 8,
   "metadata": {},
   "outputs": [],
   "source": [
    "def setup_vector_db_and_qa(\n",
    "    config: dict, data_type: str, client: ClientAPI, subset_ids: list = None\n",
    "):\n",
    "    \"\"\"\n",
    "    Description: Create the vector database using Chroma db with each type of data in its own collection. Doing so allows us to have a single database with multiple collections, reducing the number of databases we need to manage.\n",
    "    This also downloads the embedding model if it does not exist. The QA chain is then initialized with the vector store and the configuration.\n",
    "\n",
    "    Input: config (dict), data_type (str), client (chromadb.PersistentClient)\n",
    "\n",
    "    Returns: qa (langchain.chains.retrieval_qa.base.RetrievalQA)\n",
    "    \"\"\"\n",
    "\n",
    "    config[\"type_of_data\"] = data_type\n",
    "\n",
    "    # Download the data if it does not exist\n",
    "    openml_data_object, data_id, all_metadata, handler = get_all_metadata_from_openml(\n",
    "        config=config\n",
    "    )\n",
    "    # Create the combined metadata dataframe\n",
    "    metadata_df, all_metadata = create_metadata_dataframe(\n",
    "        handler, openml_data_object, data_id, all_metadata, config=config\n",
    "    )\n",
    "\n",
    "    # subset the metadata if subset_ids is not None\n",
    "    if subset_ids is not None:\n",
    "        metadata_df = metadata_df[metadata_df[\"did\"].isin(subset_ids)]\n",
    "\n",
    "    # Create the vector store\n",
    "    vectordb = load_document_and_create_vector_store(\n",
    "        metadata_df, config=config, chroma_client=client\n",
    "    )\n",
    "    # Initialize the LLM chain and setup Retrieval QA\n",
    "    qa = initialize_llm_chain(vectordb=vectordb, config=config)\n",
    "    return qa, all_metadata"
   ]
  },
  {
   "cell_type": "code",
   "execution_count": 9,
   "metadata": {},
   "outputs": [],
   "source": [
    "# use a tiny subset of the data for testing (no need for the edited subset)"
   ]
  },
  {
   "cell_type": "code",
   "execution_count": 10,
   "metadata": {},
   "outputs": [
    {
     "name": "stderr",
     "output_type": "stream",
     "text": [
      "Embedding Models:   0%|          | 0/1 [00:00<?, ?it/s]"
     ]
    },
    {
     "name": "stdout",
     "output_type": "stream",
     "text": [
      "[INFO] Training is set to True.\n",
      "[INFO] Subsetting the data.\n",
      "[INFO] Initializing cache.\n",
      "[INFO] Getting dataset metadata from OpenML.\n"
     ]
    },
    {
     "name": "stderr",
     "output_type": "stream",
     "text": [
      "\n",
      "QUEUEING TASKS | : 100%|██████████| 500/500 [00:00<00:00, 61440.60it/s]\n",
      "\n",
      "\u001b[A\n",
      "\u001b[A\n",
      "\u001b[A\n",
      "PROCESSING TASKS | : 100%|██████████| 500/500 [00:00<00:00, 582.60it/s]\n",
      "\n",
      "COLLECTING RESULTS | : 100%|██████████| 500/500 [00:00<00:00, 410803.53it/s]\n"
     ]
    },
    {
     "name": "stdout",
     "output_type": "stream",
     "text": [
      "[INFO] Saving metadata to file.\n",
      "[INFO] Loading model...\n",
      "[INFO] Model loaded.\n",
      "[INFO] Generating unique documents. Total documents: 11676\n",
      "Number of unique documents: 9684 vs Total documents: 11676\n"
     ]
    },
    {
     "name": "stderr",
     "output_type": "stream",
     "text": [
      "\n",
      "\u001b[A\n",
      "\n",
      "\u001b[A\u001b[A\n",
      "\n",
      "\u001b[A\u001b[A\n",
      "\n",
      "\u001b[A\u001b[A\n",
      "\n",
      "\u001b[A\u001b[A\n",
      "\n",
      "\u001b[A\u001b[A\n",
      "\n",
      "\u001b[A\u001b[A\n",
      "\n",
      "\u001b[A\u001b[A\n",
      "\n",
      "\u001b[A\u001b[A\n",
      "\n",
      "\u001b[A\u001b[A\n",
      "\n",
      "\u001b[A\u001b[A\n",
      "\n",
      "\u001b[A\u001b[A\n",
      "\n",
      "\u001b[A\u001b[A\n",
      "\n",
      "\u001b[A\u001b[A\n",
      "\n",
      "\u001b[A\u001b[A\n",
      "\n",
      "\u001b[A\u001b[A\n",
      "\n",
      "\u001b[A\u001b[A\n",
      "\n",
      "Batches: 100%|██████████| 16/16 [01:03<00:00,  3.94s/it]\n",
      "\n",
      "\u001b[A\n",
      "\n",
      "\u001b[A\u001b[A\n",
      "\n",
      "\u001b[A\u001b[A\n",
      "\n",
      "\u001b[A\u001b[A\n",
      "\n",
      "\u001b[A\u001b[A\n",
      "\n",
      "\u001b[A\u001b[A\n",
      "\n",
      "\u001b[A\u001b[A\n",
      "\n",
      "\u001b[A\u001b[A\n",
      "\n",
      "\u001b[A\u001b[A\n",
      "\n",
      "\u001b[A\u001b[A\n",
      "\n",
      "\u001b[A\u001b[A\n",
      "\n",
      "\u001b[A\u001b[A\n",
      "\n",
      "\u001b[A\u001b[A\n",
      "\n",
      "\u001b[A\u001b[A\n",
      "\n",
      "\u001b[A\u001b[A\n",
      "\n",
      "\u001b[A\u001b[A\n",
      "\n",
      "\u001b[A\u001b[A\n",
      "\n",
      "Batches: 100%|██████████| 16/16 [00:57<00:00,  3.57s/it]\n",
      "\n",
      "\u001b[A\n",
      "\n",
      "\u001b[A\u001b[A\n",
      "\n",
      "\u001b[A\u001b[A\n",
      "\n",
      "\u001b[A\u001b[A\n",
      "\n",
      "\u001b[A\u001b[A\n",
      "\n",
      "\u001b[A\u001b[A\n",
      "\n",
      "\u001b[A\u001b[A\n",
      "\n",
      "\u001b[A\u001b[A\n",
      "\n",
      "\u001b[A\u001b[A\n",
      "\n",
      "\u001b[A\u001b[A\n",
      "\n",
      "\u001b[A\u001b[A\n",
      "\n",
      "\u001b[A\u001b[A\n",
      "\n",
      "\u001b[A\u001b[A\n",
      "\n",
      "\u001b[A\u001b[A\n",
      "\n",
      "\u001b[A\u001b[A\n",
      "\n",
      "\u001b[A\u001b[A\n",
      "\n",
      "\u001b[A\u001b[A\n",
      "\n",
      "Batches: 100%|██████████| 16/16 [01:06<00:00,  4.14s/it]\n",
      "\n",
      "\u001b[A\n",
      "\n",
      "\u001b[A\u001b[A\n",
      "\n",
      "\u001b[A\u001b[A\n",
      "\n",
      "\u001b[A\u001b[A\n",
      "\n",
      "\u001b[A\u001b[A\n",
      "\n",
      "\u001b[A\u001b[A\n",
      "\n",
      "\u001b[A\u001b[A\n",
      "\n",
      "\u001b[A\u001b[A\n",
      "\n",
      "\u001b[A\u001b[A\n",
      "\n",
      "\u001b[A\u001b[A\n",
      "\n",
      "\u001b[A\u001b[A\n",
      "\n",
      "\u001b[A\u001b[A\n",
      "\n",
      "\u001b[A\u001b[A\n",
      "\n",
      "\u001b[A\u001b[A\n",
      "\n",
      "\u001b[A\u001b[A\n",
      "\n",
      "\u001b[A\u001b[A\n",
      "\n",
      "\u001b[A\u001b[A\n",
      "\n",
      "Batches: 100%|██████████| 16/16 [01:10<00:00,  4.39s/it]\n",
      "\n",
      "\u001b[A\n",
      "\n",
      "\u001b[A\u001b[A\n",
      "\n",
      "\u001b[A\u001b[A\n",
      "\n",
      "\u001b[A\u001b[A\n",
      "\n",
      "\u001b[A\u001b[A\n",
      "\n",
      "\u001b[A\u001b[A\n",
      "\n",
      "\u001b[A\u001b[A\n",
      "\n",
      "\u001b[A\u001b[A\n",
      "\n",
      "\u001b[A\u001b[A\n",
      "\n",
      "\u001b[A\u001b[A\n",
      "\n",
      "\u001b[A\u001b[A\n",
      "\n",
      "\u001b[A\u001b[A\n",
      "\n",
      "\u001b[A\u001b[A\n",
      "\n",
      "\u001b[A\u001b[A\n",
      "\n",
      "\u001b[A\u001b[A\n",
      "\n",
      "\u001b[A\u001b[A\n",
      "\n",
      "\u001b[A\u001b[A\n",
      "\n",
      "Batches: 100%|██████████| 16/16 [01:05<00:00,  4.10s/it]\n",
      "\n",
      "\u001b[A\n",
      "\n",
      "\u001b[A\u001b[A\n",
      "\n",
      "\u001b[A\u001b[A\n",
      "\n",
      "\u001b[A\u001b[A\n",
      "\n",
      "\u001b[A\u001b[A\n",
      "\n",
      "\u001b[A\u001b[A\n",
      "\n",
      "\u001b[A\u001b[A"
     ]
    }
   ],
   "source": [
    "use_custom_data = False\n",
    "\n",
    "\n",
    "if use_custom_data:\n",
    "    config[\"test_subset\"] = False\n",
    "else:\n",
    "    config[\"test_subset\"] = True\n",
    "\n",
    "for embedding_model in tqdm(list_of_embedding_models, desc=\"Embedding Models\", total=len(list_of_embedding_models)):\n",
    "    for llm_model in tqdm(list_of_llm_models, desc=\"LLM Models\", total=len(list_of_llm_models)):\n",
    "        # update the config with the new embedding and llm models\n",
    "        config[\"embedding_model\"] = embedding_model\n",
    "        config[\"llm_model\"] = llm_model\n",
    "\n",
    "        # create a new experiment directory using a combination of the embedding model and llm model names\n",
    "        experiment_name = f\"{process_embedding_model_name_hf(embedding_model)}_{process_llm_model_name_ollama(llm_model)}\"\n",
    "        experiment_path = new_path/Path(f\"../data/experiments/{experiment_name}\")\n",
    "\n",
    "        # create the experiment directory if it does not exist\n",
    "        os.makedirs(experiment_path, exist_ok=True)\n",
    "       \n",
    "        # update the config with the new experiment directories\n",
    "        config[\"data_dir\"] = str(experiment_path)\n",
    "        config[\"persist_dir\"] = str(experiment_path / \"chroma_db\")\n",
    "\n",
    "        # save training details and config in a dataframe\n",
    "        config_df = pd.DataFrame.from_dict(config, orient='index').reset_index()\n",
    "        config_df.columns = ['Hyperparameter', 'Value']\n",
    "        config_df.to_csv(experiment_path / \"config.csv\", index=False)\n",
    "\n",
    "        # load the persistent database using ChromaDB\n",
    "        client = chromadb.PersistentClient(path=config[\"persist_dir\"])\n",
    "\n",
    "        # Run \"training\"\n",
    "        qa_dataset = setup_vector_db_and_qa(\n",
    "            config=config, data_type=config[\"type_of_data\"], client=client\n",
    "        )\n",
    "        \n",
    "        # # Run an evaluation by aggregating multiple queries and counting the results\n",
    "        # # TODO : Replace this evaluation with a more meaningful one\n",
    "        combined_df = aggregate_multiple_queries_and_count(queries,qa_dataset=qa_dataset, config=config, group_cols = [\"id\", \"name\"], sort_by=\"query\", count = False)\n",
    "\n",
    "        # # TODO : ADD LLM evaluation here when the function is ready\n",
    "\n",
    "        combined_df.to_csv(experiment_path / \"results.csv\")"
   ]
  },
  {
   "cell_type": "code",
   "execution_count": null,
   "metadata": {},
   "outputs": [],
   "source": []
  }
 ],
 "metadata": {
  "kernelspec": {
   "display_name": "openml",
   "language": "python",
   "name": "python3"
  },
  "language_info": {
   "codemirror_mode": {
    "name": "ipython",
    "version": 3
   },
   "file_extension": ".py",
   "mimetype": "text/x-python",
   "name": "python",
   "nbconvert_exporter": "python",
   "pygments_lexer": "ipython3",
   "version": "3.10.14"
  }
 },
 "nbformat": 4,
 "nbformat_minor": 2
}
