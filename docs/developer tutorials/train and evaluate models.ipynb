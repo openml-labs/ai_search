{
 "cells": [
  {
   "cell_type": "markdown",
   "metadata": {},
   "source": [
    "# Tutorial on using multiple models for evaluation\n",
    "- This tutorial is an example of how to test multiple models on the openml data to see which one performs the best.\n",
    "- The evaluation is still a bit basic, but it is a good starting point for future research."
   ]
  },
  {
   "cell_type": "code",
   "execution_count": null,
   "metadata": {},
   "outputs": [],
   "source": [
    "from __future__ import annotations\n",
    "from langchain_community.cache import SQLiteCache\n",
    "import os\n",
    "import sys\n",
    "import chromadb\n",
    "from pathlib import Path\n",
    "from tqdm import tqdm\n",
    "\n",
    "import pandas as pd\n",
    "# change the path to the backend directory\n",
    "sys.path.append(os.path.join(os.path.dirname(\".\"), '../../backend/'))"
   ]
  },
  {
   "cell_type": "code",
   "execution_count": null,
   "metadata": {},
   "outputs": [],
   "source": [
    "from modules.utils import load_config_and_device\n",
    "from modules.llm import setup_vector_db_and_qa\n",
    "from modules.results_gen import aggregate_multiple_queries_and_count"
   ]
  },
  {
   "cell_type": "markdown",
   "metadata": {},
   "source": [
    "## Setting the config"
   ]
  },
  {
   "cell_type": "code",
   "execution_count": null,
   "metadata": {},
   "outputs": [],
   "source": [
    "new_path = Path(\"../../backend/\")\n",
    "\n",
    "config = load_config_and_device(str(new_path / \"config.json\"), training = True)\n",
    "\n",
    "config[\"type_of_data\"] = \"dataset\"\n",
    "config[\"training\"] = True"
   ]
  },
  {
   "cell_type": "markdown",
   "metadata": {},
   "source": [
    "## Defining the models used\n",
    "- Embedding models are any from Huggingface hub\n",
    "- LLM models are any from Ollama library"
   ]
  },
  {
   "cell_type": "code",
   "execution_count": null,
   "metadata": {},
   "outputs": [],
   "source": [
    "# list_of_embedding_models = [\"BAAI/bge-small-en-v1.5\", \"Alibaba-NLP/gte-Qwen2-1.5B-instruct\"]\n",
    "list_of_embedding_models = [\"GritLM/GritLM-7B\"]\n",
    "list_of_llm_models = [\"qwen2:1.5b\", \"phi3\"]"
   ]
  },
  {
   "cell_type": "code",
   "execution_count": null,
   "metadata": {},
   "outputs": [],
   "source": [
    "def process_embedding_model_name_hf(name : str) -> str:\n",
    "    \"\"\"\n",
    "    Description: This function processes the name of the embedding model from Hugging Face to use as experiment name.\n",
    "    \n",
    "    Input: name (str) - name of the embedding model from Hugging Face.\n",
    "    \n",
    "    Returns: name (str) - processed name of the embedding model.\n",
    "    \"\"\"\n",
    "    return name.replace(\"/\", \"_\")\n",
    "\n",
    "def process_llm_model_name_ollama(name : str) -> str:\n",
    "    \"\"\"\n",
    "    Description: This function processes the name of the llm model from Ollama to use as experiment name.\n",
    "    \n",
    "    Input: name (str) - name of the llm model from Ollama.\n",
    "\n",
    "    Returns: name (str) - processed name of the llm model.\n",
    "    \"\"\"\n",
    "    return name.replace(\":\", \"_\")"
   ]
  },
  {
   "cell_type": "markdown",
   "metadata": {},
   "source": [
    "## Defining the evaluation queries\n",
    "- replace this with a proper dataframe for a more comprehensive evaluation"
   ]
  },
  {
   "cell_type": "code",
   "execution_count": null,
   "metadata": {},
   "outputs": [],
   "source": [
    "queries = [\"Find datasets related to COVID-19\", \"Find datasets related to COVID-19 and India\", \"COVID-19 dataset\", \"COVID-19 dataset India\", \"Mexico historical covid\"]"
   ]
  },
  {
   "cell_type": "markdown",
   "metadata": {},
   "source": [
    "## Downloading the models\n",
    "- PLEASE MAKE SURE YOU HAVE DOWNLOADED OLLAMA (```curl -fsSL https://ollama.com/install.sh | sh```)"
   ]
  },
  {
   "cell_type": "code",
   "execution_count": null,
   "metadata": {},
   "outputs": [],
   "source": [
    "# download the ollama llm models\n",
    "\n",
    "# os.system(\"curl -fsSL https://ollama.com/install.sh | sh\")\n",
    "os.system(\"ollama serve&\")\n",
    "print(\"Waiting for Ollama server to be active...\")  \n",
    "while os.system(\"ollama list | grep 'NAME'\") == \"\":\n",
    "    pass\n",
    "\n",
    "for llm_model in list_of_llm_models:\n",
    "    os.system(f\"ollama pull {llm_model}\")"
   ]
  },
  {
   "cell_type": "markdown",
   "metadata": {},
   "source": [
    "## Running the steps\n",
    "- Create an experiment directory\n",
    "- Save a config file with the models and the queries in the experiment directory\n",
    "- Download openml data for each dataset and format into a string\n",
    "- Create vectorb and embed the data\n",
    "- Get the predictions for each model for a list of queries and evaluate the performance\n",
    "- (note) At the moment, this runs for a very small subset of the entire data. To disable this behavior and run on the entire data, set ```config[\"test_subset_2000\"] = False```"
   ]
  },
  {
   "cell_type": "code",
   "execution_count": null,
   "metadata": {},
   "outputs": [],
   "source": [
    "# use a tiny subset of the data for testing\n",
    "config[\"test_subset_2000\"] = True"
   ]
  },
  {
   "cell_type": "code",
   "execution_count": null,
   "metadata": {},
   "outputs": [],
   "source": [
    "for embedding_model in tqdm(list_of_embedding_models, desc=\"Embedding Models\", total=len(list_of_embedding_models)):\n",
    "    for llm_model in tqdm(list_of_llm_models, desc=\"LLM Models\", total=len(list_of_llm_models)):\n",
    "        # update the config with the new embedding and llm models\n",
    "        config[\"embedding_model\"] = embedding_model\n",
    "        config[\"llm_model\"] = llm_model\n",
    "\n",
    "        # create a new experiment directory using a combination of the embedding model and llm model names\n",
    "        experiment_name = f\"{process_embedding_model_name_hf(embedding_model)}_{process_llm_model_name_ollama(llm_model)}\"\n",
    "        experiment_path = new_path/Path(f\"data/experiments/{experiment_name}\")\n",
    "\n",
    "        # create the experiment directory if it does not exist\n",
    "        os.makedirs(experiment_path, exist_ok=True)\n",
    "       \n",
    "        # update the config with the new experiment directories\n",
    "        config[\"data_dir\"] = str(experiment_path)\n",
    "        config[\"persist_dir\"] = str(experiment_path / \"chroma_db\")\n",
    "\n",
    "        # save training details and config in a dataframe\n",
    "        config_df = pd.DataFrame.from_dict(config, orient='index').reset_index()\n",
    "        config_df.columns = ['Hyperparameter', 'Value']\n",
    "        config_df.to_csv(experiment_path / \"config.csv\", index=False)\n",
    "\n",
    "        # load the persistent database using ChromaDB\n",
    "        client = chromadb.PersistentClient(path=config[\"persist_dir\"])\n",
    "\n",
    "        # Run \"training\"\n",
    "        qa_dataset = setup_vector_db_and_qa(\n",
    "            config=config, data_type=config[\"type_of_data\"], client=client\n",
    "        )\n",
    "        \n",
    "        # Run an evaluation by aggregating multiple queries and counting the results\n",
    "        # TODO : Replace this evaluation with a more meaningful one\n",
    "        combined_df = aggregate_multiple_queries_and_count(queries,qa_dataset=qa_dataset, config=config, group_cols = [\"id\", \"name\"], sort_by=\"query\", count = True)\n",
    "\n",
    "        # TODO : ADD LLM evaluation here when the function is ready\n",
    "\n",
    "        combined_df.to_csv(experiment_path / \"results.csv\")"
   ]
  },
  {
   "cell_type": "code",
   "execution_count": null,
   "metadata": {},
   "outputs": [],
   "source": []
  }
 ],
 "metadata": {
  "kernelspec": {
   "display_name": "openml",
   "language": "python",
   "name": "python3"
  },
  "language_info": {
   "codemirror_mode": {
    "name": "ipython",
    "version": 3
   },
   "file_extension": ".py",
   "mimetype": "text/x-python",
   "name": "python",
   "nbconvert_exporter": "python",
   "pygments_lexer": "ipython3",
   "version": "3.10.14"
  }
 },
 "nbformat": 4,
 "nbformat_minor": 2
}
